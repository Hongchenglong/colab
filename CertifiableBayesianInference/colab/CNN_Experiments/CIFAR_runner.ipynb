{
  "nbformat": 4,
  "nbformat_minor": 0,
  "metadata": {
    "colab": {
      "name": "CIFAR_runner.ipynb",
      "provenance": [],
      "authorship_tag": "ABX9TyP9owU/1SdsoFtV8lchnfLf",
      "include_colab_link": true
    },
    "kernelspec": {
      "name": "python3",
      "display_name": "Python 3"
    },
    "language_info": {
      "name": "python"
    }
  },
  "cells": [
    {
      "cell_type": "markdown",
      "metadata": {
        "id": "view-in-github",
        "colab_type": "text"
      },
      "source": [
        "<a href=\"https://colab.research.google.com/github/Hongchenglong/colab/blob/main/CertifiableBayesianInference/CNN_Experiments/CIFAR_runner.ipynb\" target=\"_parent\"><img src=\"https://colab.research.google.com/assets/colab-badge.svg\" alt=\"Open In Colab\"/></a>"
      ]
    },
    {
      "cell_type": "code",
      "metadata": {
        "colab": {
          "base_uri": "https://localhost:8080/"
        },
        "id": "fHO7_QZ56tVn",
        "outputId": "6257e837-2407-4d36-937f-aab0acd99de2"
      },
      "source": [
        "from google.colab import drive\n",
        "drive.mount('/content/drive')"
      ],
      "execution_count": null,
      "outputs": [
        {
          "output_type": "stream",
          "name": "stdout",
          "text": [
            "Mounted at /content/drive\n"
          ]
        }
      ]
    },
    {
      "cell_type": "code",
      "metadata": {
        "id": "Dvwhu9OC6w-l"
      },
      "source": [
        "# python3 CIFAR_runner.py --eps 0.004 --rob 0 --lam 0.25 --opt NA --gpu 3 &\n",
        "# python3 CIFAR_runner.py --eps 0.004 --rob 0 --lam 0.25 --opt VOGN --gpu 4 &\n",
        "# python3 CIFAR_runner.py --eps 0.004 --rob 0 --lam 0.25 --opt SWAG --gpu 5 &\n",
        "\n",
        "dict = {'eps': 0.004, 'rob': 0, 'lam': 0.25, 'opt': 'NA', 'gpu': '3'}\n",
        "\n",
        "eps = dict['eps']\n",
        "lam = dict['lam']\n",
        "rob = dict['rob']\n",
        "optim = dict['opt']\n",
        "gpu = dict['gpu']\n",
        "os.environ['CUDA_VISIBLE_DEVICES'] = gpu"
      ],
      "execution_count": null,
      "outputs": []
    },
    {
      "cell_type": "code",
      "metadata": {
        "id": "2jMspBZl6yow"
      },
      "source": [
        "import sys, os\n",
        "from pathlib import Path\n",
        "path = Path(os.getcwd())\n",
        "sys.path.append(str(path.parent))\n",
        "sys.path.append('/content/drive/MyDrive/CertifiableBayesianInference')\n",
        "experiment = '/content/drive/MyDrive/ColabNotebooks/CertifiableBayesianInference/Rayleigh_Experiments/'"
      ],
      "execution_count": null,
      "outputs": []
    },
    {
      "cell_type": "code",
      "metadata": {
        "colab": {
          "base_uri": "https://localhost:8080/"
        },
        "id": "nKAuDM6O60fb",
        "outputId": "044d391a-2c92-47ca-8d3e-17bd52b32fd3"
      },
      "source": [
        "import numpy as np\n",
        "import tensorflow as tf\n",
        "from tensorflow.keras.models import *\n",
        "from tensorflow.keras.layers import *\n",
        "from tensorflow.keras.preprocessing.image import ImageDataGenerator\n",
        "import BayesKeras\n",
        "import BayesKeras.optimizers as optimizers\n",
        "\n",
        "\n",
        "(X_train, y_train), (X_test, y_test) = tf.keras.datasets.cifar10.load_data()\n",
        "X_train = X_train/255.\n",
        "X_test = X_test/255.\n",
        "X_train = X_train.astype(\"float32\")\n",
        "X_test = X_test.astype(\"float32\")\n",
        "\n",
        "augment_size = 40000\n",
        "image_generator = ImageDataGenerator(\n",
        "    rotation_range=10,\n",
        "    zoom_range = 0.075, \n",
        "    width_shift_range=0.05,\n",
        "    height_shift_range=0.05,\n",
        "    horizontal_flip=True,\n",
        "    vertical_flip=False, \n",
        "    data_format=\"channels_last\",\n",
        "    zca_whitening=False)\n",
        "# fit data for zca whitening\n",
        "image_generator.fit(X_train, augment=True)\n",
        "# get transformed images\n",
        "randidx = np.random.randint(50000, size=augment_size)\n",
        "x_augmented = X_train[randidx].copy()\n",
        "y_augmented = y_train[randidx].copy()\n",
        "x_augmented = image_generator.flow(x_augmented, np.zeros(augment_size),\n",
        "                            batch_size=augment_size, shuffle=False).next()[0]\n",
        "# append augmented data to trainset\n",
        "X_train = np.concatenate((X_train, x_augmented))\n",
        "y_train = np.concatenate((y_train, y_augmented))\n",
        "\n",
        "#X_train = X_train[0:10000]\n",
        "#y_train = y_train[0:10000]\n",
        "\n",
        "model_type = \"small\"\n",
        "if(model_type == \"VGG8\"):\n",
        "    model = Sequential()\n",
        "    #tf.keras.layers.GaussianNoise(stddev, **kwargs)\n",
        "    model.add(Conv2D(filters=32, kernel_size=(3, 3), padding='valid', activation='elu', input_shape=(32,32,3)))\n",
        "    model.add(Conv2D(filters=32, kernel_size=(3, 3), padding='valid', activation='elu'))\n",
        "    #model.add(MaxPooling2D(pool_size=(2,2)))\n",
        "\n",
        "    model.add(Conv2D(filters=64, kernel_size=(3, 3), padding='valid', activation='elu'))\n",
        "    model.add(Conv2D(filters=64, kernel_size=(3, 3), padding='valid', activation='elu'))\n",
        "    model.add(MaxPooling2D(pool_size=(2,2)))\n",
        "\n",
        "    model.add(Conv2D(filters=128, kernel_size=(3, 3), padding='valid', activation='elu'))\n",
        "    model.add(Conv2D(filters=128, kernel_size=(3, 3), padding='valid', activation='elu'))\n",
        "    model.add(MaxPooling2D(pool_size=(2,2)))\n",
        "\n",
        "    model.add(Flatten())\n",
        "    model.add(Dense(512, activation='relu'))\n",
        "    model.add(Dense(512, activation='relu'))\n",
        "    model.add(Dense(10, activation = 'softmax'))\n",
        "\n",
        "elif(model_type == \"small\"):\n",
        "    model = Sequential()\n",
        "    model.add(Conv2D(filters=16, kernel_size=(4, 4), activation='relu', input_shape=(32,32,3)))\n",
        "    model.add(Conv2D(filters=32, kernel_size=(4, 4), activation='relu'))\n",
        "    model.add(MaxPooling2D(pool_size=(2,2)))\n",
        "    model.add(Flatten())\n",
        "    model.add(Dense(100, activation='relu'))\n",
        "    model.add(Dense(10, activation = 'softmax'))\n",
        "\n",
        "elif(model_type == \"mini\"):\n",
        "    model = Sequential()\n",
        "    model.add(Conv2D(filters=32, kernel_size=(4, 4), activation='relu', input_shape=(32,32,3)))\n",
        "    model.add(Conv2D(filters=32, kernel_size=(4, 4), activation='relu'))\n",
        "    model.add(MaxPooling2D(pool_size=(2,2)))\n",
        "    model.add(Flatten())\n",
        "    model.add(Dense(512, activation='relu'))\n",
        "    model.add(Dense(10, activation = 'softmax'))\n",
        "\n",
        "elif(model_type == \"medium\"): \n",
        "    model = Sequential()\n",
        "    model.add(Conv2D(filters=32, kernel_size=(3, 3), activation='relu', input_shape=(32,32,3)))\n",
        "    model.add(Conv2D(filters=32, kernel_size=(4, 4), activation='relu'))\n",
        "    model.add(MaxPooling2D(pool_size=(2,2)))\n",
        "    model.add(Conv2D(filters=64, kernel_size=(3, 3), activation='relu', input_shape=(32,32,3)))\n",
        "    model.add(Conv2D(filters=64, kernel_size=(4, 4), activation='relu'))\n",
        "    model.add(MaxPooling2D(pool_size=(2,2)))\n",
        "    model.add(Flatten())\n",
        "    model.add(Dense(512, activation='relu'))\n",
        "    model.add(Dense(10, activation = 'softmax'))\n",
        "\n",
        "elif(model_type == \"large\"):\n",
        "    model = Sequential()\n",
        "    model.add(Conv2D(filters=32, kernel_size=(3, 3), activation='relu', input_shape=(32,32,3)))\n",
        "    model.add(Conv2D(filters=32, kernel_size=(3, 3), activation='relu'))\n",
        "    model.add(MaxPooling2D(pool_size=(2,2)))\n",
        "    model.add(Conv2D(filters=128, kernel_size=(3, 3), activation='relu', input_shape=(32,32,3)))\n",
        "    model.add(Conv2D(filters=128, kernel_size=(3, 3), activation='relu'))\n",
        "    model.add(Conv2D(filters=128, kernel_size=(3, 3), activation='relu'))\n",
        "    model.add(MaxPooling2D(pool_size=(2,2)))\n",
        "    model.add(Flatten())\n",
        "    model.add(Dense(512, activation='relu'))\n",
        "    model.add(Dense(10, activation = 'softmax'))\n",
        "\n",
        "lr = 1\n",
        "print(\"Got flag: %s\"%(optim))\n",
        "if(optim == 'VOGN'):\n",
        "#    learning_rate = 0.35*lr; decay=0.075\n",
        "    learning_rate = 0.25*lr; decay=0.025\n",
        "    #learning_rate = 0.05*lr; decay=0.0\n",
        "    opt = optimizers.VariationalOnlineGuassNewton()\n",
        "elif(optim == 'BBB'):\n",
        "    learning_rate = 0.65*lr; decay=0.0\n",
        "    opt = optimizers.BayesByBackprop()\n",
        "elif(optim == 'SWAG'):\n",
        "#    learning_rate = 0.0125*lr; decay=0.025\n",
        "    learning_rate = 0.015*lr; decay=0.0\n",
        "    opt = optimizers.StochasticWeightAveragingGaussian()\n",
        "elif(optim == 'NA'):\n",
        "    learning_rate = 0.00025*lr; decay=0.025\n",
        "    opt = optimizers.NoisyAdam()\n",
        "elif(optim == 'SGD'):\n",
        "    learning_rate = 0.05*lr; decay=0.1\n",
        "    opt = optimizers.StochasticGradientDescent()\n",
        "# Compile the model to train with Bayesian inference\n",
        "if(rob == 0 or rob == 3 or rob == 4):\n",
        "    loss = tf.keras.losses.SparseCategoricalCrossentropy()\n",
        "else:\n",
        "    loss = BayesKeras.optimizers.losses.robust_crossentropy_loss\n",
        "\n",
        "inf = 2.5\n",
        "#learning_rate *= 1.5\n",
        "\n",
        "bayes_model = opt.compile(model, loss_fn=loss, epochs=45, learning_rate=learning_rate, batch_size=128, input_noise=0.0,\n",
        "                          decay=decay, robust_train=rob, epsilon=eps, rob_lam=lam, inflate_prior=inf, log_path=\"%s_%s_Posterior_%s.log\"%(optim, model_type, rob))"
      ],
      "execution_count": null,
      "outputs": [
        {
          "output_type": "stream",
          "name": "stderr",
          "text": [
            "/usr/local/lib/python3.7/dist-packages/statsmodels/tools/_testing.py:19: FutureWarning: pandas.util.testing is deprecated. Use the functions in the public API at pandas.testing instead.\n",
            "  import pandas.util.testing as tm\n"
          ]
        },
        {
          "output_type": "stream",
          "name": "stdout",
          "text": [
            "Downloading data from https://www.cs.toronto.edu/~kriz/cifar-10-python.tar.gz\n",
            "170500096/170498071 [==============================] - 3s 0us/step\n",
            "170508288/170498071 [==============================] - 3s 0us/step\n",
            "Got flag: NA\n",
            "This optimizer does not have a default compilation method. Please make sure to call the correct .compile method before use.\n",
            "BayesKeras: Using implicit prior\n",
            "(4, 4, 3, 16) 0.22821773229381923\n",
            "(4, 4, 16, 32) 0.09882117688026186\n",
            "(5408, 100) 0.02150065362980567\n",
            "(100, 10) 0.15811388300841897\n",
            "BayesKeras: Using implicit prior\n",
            "(4, 4, 3, 16) 0.22821773229381923\n",
            "(4, 4, 16, 32) 0.09882117688026186\n",
            "(5408, 100) 0.02150065362980567\n",
            "(100, 10) 0.15811388300841897\n"
          ]
        }
      ]
    },
    {
      "cell_type": "code",
      "metadata": {
        "colab": {
          "base_uri": "https://localhost:8080/"
        },
        "id": "AwiMifv063Lb",
        "outputId": "a4cd7d2c-549f-4c31-9869-d91ae8184bcf"
      },
      "source": [
        "# Train the model on your data\n",
        "bayes_model.train(X_train, y_train, X_test, y_test)\n",
        "\n",
        "# Save your approxiate Bayesian posterior\n",
        "bayes_model.save(experiment + \"%s_%s_Posterior_%s\"%(optim, model_type, rob))"
      ],
      "execution_count": null,
      "outputs": [
        {
          "metadata": {
            "tags": null
          },
          "name": "stderr",
          "output_type": "stream",
          "text": [
            "  0%|          | 0/704 [00:00<?, ?it/s]/usr/local/lib/python3.7/dist-packages/numpy/core/_asarray.py:83: VisibleDeprecationWarning: Creating an ndarray from ragged nested sequences (which is a list-or-tuple of lists-or-tuples-or ndarrays with different lengths or shapes) is deprecated. If you meant to do this, you must specify 'dtype=object' when creating the ndarray\n",
            "  return array(a, dtype, copy=False, order=order)\n",
            "100%|██████████| 704/704 [04:22<00:00,  2.68it/s]\n"
          ]
        },
        {
          "metadata": {
            "tags": null
          },
          "name": "stdout",
          "output_type": "stream",
          "text": [
            "Epoch 1, loss: 1.840, acc: 0.331, val_loss: 1.439, val_acc: 0.491\n"
          ]
        },
        {
          "metadata": {
            "tags": null
          },
          "name": "stderr",
          "output_type": "stream",
          "text": [
            "100%|██████████| 704/704 [04:23<00:00,  2.67it/s]\n"
          ]
        },
        {
          "metadata": {
            "tags": null
          },
          "name": "stdout",
          "output_type": "stream",
          "text": [
            "Epoch 2, loss: 1.353, acc: 0.518, val_loss: 1.261, val_acc: 0.549\n"
          ]
        },
        {
          "metadata": {
            "tags": null
          },
          "name": "stderr",
          "output_type": "stream",
          "text": [
            "100%|██████████| 704/704 [03:33<00:00,  3.29it/s]\n"
          ]
        },
        {
          "metadata": {
            "tags": null
          },
          "name": "stdout",
          "output_type": "stream",
          "text": [
            "Epoch 3, loss: 1.166, acc: 0.587, val_loss: 1.133, val_acc: 0.598\n"
          ]
        },
        {
          "metadata": {
            "tags": null
          },
          "name": "stderr",
          "output_type": "stream",
          "text": [
            "100%|██████████| 704/704 [04:22<00:00,  2.68it/s]\n"
          ]
        },
        {
          "metadata": {
            "tags": null
          },
          "name": "stdout",
          "output_type": "stream",
          "text": [
            "Epoch 4, loss: 1.053, acc: 0.626, val_loss: 1.038, val_acc: 0.634\n"
          ]
        },
        {
          "metadata": {
            "tags": null
          },
          "name": "stderr",
          "output_type": "stream",
          "text": [
            "100%|██████████| 704/704 [03:35<00:00,  3.27it/s]\n"
          ]
        },
        {
          "metadata": {
            "tags": null
          },
          "name": "stdout",
          "output_type": "stream",
          "text": [
            "Epoch 5, loss: 0.954, acc: 0.663, val_loss: 0.976, val_acc: 0.661\n"
          ]
        },
        {
          "metadata": {
            "tags": null
          },
          "name": "stderr",
          "output_type": "stream",
          "text": [
            "100%|██████████| 704/704 [03:37<00:00,  3.24it/s]\n"
          ]
        },
        {
          "metadata": {
            "tags": null
          },
          "name": "stdout",
          "output_type": "stream",
          "text": [
            "Epoch 6, loss: 0.884, acc: 0.688, val_loss: 1.000, val_acc: 0.660\n"
          ]
        },
        {
          "metadata": {
            "tags": null
          },
          "name": "stderr",
          "output_type": "stream",
          "text": [
            "100%|██████████| 704/704 [03:36<00:00,  3.25it/s]\n"
          ]
        },
        {
          "metadata": {
            "tags": null
          },
          "name": "stdout",
          "output_type": "stream",
          "text": [
            "Epoch 7, loss: 0.827, acc: 0.708, val_loss: 1.007, val_acc: 0.661\n"
          ]
        },
        {
          "metadata": {
            "tags": null
          },
          "name": "stderr",
          "output_type": "stream",
          "text": [
            "100%|██████████| 704/704 [03:32<00:00,  3.31it/s]\n"
          ]
        },
        {
          "metadata": {
            "tags": null
          },
          "name": "stdout",
          "output_type": "stream",
          "text": [
            "Epoch 8, loss: 0.782, acc: 0.725, val_loss: 1.044, val_acc: 0.663\n"
          ]
        },
        {
          "metadata": {
            "tags": null
          },
          "name": "stderr",
          "output_type": "stream",
          "text": [
            "100%|██████████| 704/704 [03:31<00:00,  3.34it/s]\n"
          ]
        },
        {
          "metadata": {
            "tags": null
          },
          "name": "stdout",
          "output_type": "stream",
          "text": [
            "Epoch 9, loss: 0.737, acc: 0.739, val_loss: 1.035, val_acc: 0.672\n"
          ]
        },
        {
          "metadata": {
            "tags": null
          },
          "name": "stderr",
          "output_type": "stream",
          "text": [
            "100%|██████████| 704/704 [04:22<00:00,  2.68it/s]\n"
          ]
        },
        {
          "metadata": {
            "tags": null
          },
          "name": "stdout",
          "output_type": "stream",
          "text": [
            "Epoch 10, loss: 0.699, acc: 0.751, val_loss: 1.062, val_acc: 0.663\n"
          ]
        },
        {
          "metadata": {
            "tags": null
          },
          "name": "stderr",
          "output_type": "stream",
          "text": [
            "100%|██████████| 704/704 [04:22<00:00,  2.68it/s]\n"
          ]
        },
        {
          "metadata": {
            "tags": null
          },
          "name": "stdout",
          "output_type": "stream",
          "text": [
            "Epoch 11, loss: 0.680, acc: 0.758, val_loss: 1.099, val_acc: 0.662\n"
          ]
        },
        {
          "metadata": {
            "tags": null
          },
          "name": "stderr",
          "output_type": "stream",
          "text": [
            "100%|██████████| 704/704 [04:22<00:00,  2.68it/s]\n"
          ]
        },
        {
          "metadata": {
            "tags": null
          },
          "name": "stdout",
          "output_type": "stream",
          "text": [
            "Epoch 12, loss: 0.682, acc: 0.757, val_loss: 1.162, val_acc: 0.652\n"
          ]
        },
        {
          "metadata": {
            "tags": null
          },
          "name": "stderr",
          "output_type": "stream",
          "text": [
            "100%|██████████| 704/704 [03:37<00:00,  3.23it/s]\n"
          ]
        },
        {
          "metadata": {
            "tags": null
          },
          "name": "stdout",
          "output_type": "stream",
          "text": [
            "Epoch 13, loss: 0.624, acc: 0.778, val_loss: 1.120, val_acc: 0.666\n"
          ]
        },
        {
          "output_type": "stream",
          "name": "stderr",
          "text": [
            "100%|██████████| 704/704 [04:22<00:00,  2.68it/s]\n"
          ]
        },
        {
          "output_type": "stream",
          "name": "stdout",
          "text": [
            "Epoch 14, loss: 0.596, acc: 0.789, val_loss: 1.132, val_acc: 0.668\n"
          ]
        },
        {
          "output_type": "stream",
          "name": "stderr",
          "text": [
            "100%|██████████| 704/704 [03:31<00:00,  3.32it/s]\n"
          ]
        },
        {
          "output_type": "stream",
          "name": "stdout",
          "text": [
            "Epoch 15, loss: 0.587, acc: 0.790, val_loss: 1.186, val_acc: 0.668\n"
          ]
        },
        {
          "output_type": "stream",
          "name": "stderr",
          "text": [
            "100%|██████████| 704/704 [03:31<00:00,  3.33it/s]\n"
          ]
        },
        {
          "output_type": "stream",
          "name": "stdout",
          "text": [
            "Epoch 16, loss: 0.565, acc: 0.798, val_loss: 1.233, val_acc: 0.664\n"
          ]
        },
        {
          "output_type": "stream",
          "name": "stderr",
          "text": [
            "100%|██████████| 704/704 [03:32<00:00,  3.31it/s]\n"
          ]
        },
        {
          "output_type": "stream",
          "name": "stdout",
          "text": [
            "Epoch 17, loss: 0.523, acc: 0.813, val_loss: 1.196, val_acc: 0.665\n"
          ]
        },
        {
          "output_type": "stream",
          "name": "stderr",
          "text": [
            "100%|██████████| 704/704 [03:32<00:00,  3.31it/s]\n"
          ]
        },
        {
          "output_type": "stream",
          "name": "stdout",
          "text": [
            "Epoch 18, loss: 0.537, acc: 0.808, val_loss: 1.390, val_acc: 0.662\n"
          ]
        },
        {
          "output_type": "stream",
          "name": "stderr",
          "text": [
            "100%|██████████| 704/704 [04:22<00:00,  2.68it/s]\n"
          ]
        },
        {
          "output_type": "stream",
          "name": "stdout",
          "text": [
            "Epoch 19, loss: 0.555, acc: 0.802, val_loss: 1.325, val_acc: 0.665\n"
          ]
        },
        {
          "output_type": "stream",
          "name": "stderr",
          "text": [
            "100%|██████████| 704/704 [03:33<00:00,  3.29it/s]\n"
          ]
        },
        {
          "output_type": "stream",
          "name": "stdout",
          "text": [
            "Epoch 20, loss: 0.551, acc: 0.804, val_loss: 1.399, val_acc: 0.657\n"
          ]
        },
        {
          "output_type": "stream",
          "name": "stderr",
          "text": [
            "100%|██████████| 704/704 [03:36<00:00,  3.25it/s]\n"
          ]
        },
        {
          "output_type": "stream",
          "name": "stdout",
          "text": [
            "Epoch 21, loss: 0.507, acc: 0.822, val_loss: 1.488, val_acc: 0.652\n"
          ]
        },
        {
          "output_type": "stream",
          "name": "stderr",
          "text": [
            "100%|██████████| 704/704 [04:22<00:00,  2.68it/s]\n"
          ]
        },
        {
          "output_type": "stream",
          "name": "stdout",
          "text": [
            "Epoch 22, loss: 0.494, acc: 0.826, val_loss: 1.469, val_acc: 0.652\n"
          ]
        },
        {
          "output_type": "stream",
          "name": "stderr",
          "text": [
            "100%|██████████| 704/704 [04:22<00:00,  2.68it/s]\n"
          ]
        },
        {
          "output_type": "stream",
          "name": "stdout",
          "text": [
            "Epoch 23, loss: 0.483, acc: 0.827, val_loss: 1.474, val_acc: 0.658\n"
          ]
        },
        {
          "output_type": "stream",
          "name": "stderr",
          "text": [
            "100%|██████████| 704/704 [04:22<00:00,  2.68it/s]\n"
          ]
        },
        {
          "output_type": "stream",
          "name": "stdout",
          "text": [
            "Epoch 24, loss: 0.493, acc: 0.826, val_loss: 1.462, val_acc: 0.657\n"
          ]
        },
        {
          "output_type": "stream",
          "name": "stderr",
          "text": [
            "100%|██████████| 704/704 [04:22<00:00,  2.68it/s]\n"
          ]
        },
        {
          "output_type": "stream",
          "name": "stdout",
          "text": [
            "Epoch 25, loss: 0.504, acc: 0.824, val_loss: 1.434, val_acc: 0.662\n"
          ]
        },
        {
          "output_type": "stream",
          "name": "stderr",
          "text": [
            "100%|██████████| 704/704 [04:22<00:00,  2.68it/s]\n"
          ]
        },
        {
          "output_type": "stream",
          "name": "stdout",
          "text": [
            "Epoch 26, loss: 0.472, acc: 0.835, val_loss: 1.565, val_acc: 0.648\n"
          ]
        },
        {
          "output_type": "stream",
          "name": "stderr",
          "text": [
            "100%|██████████| 704/704 [04:22<00:00,  2.68it/s]\n"
          ]
        },
        {
          "output_type": "stream",
          "name": "stdout",
          "text": [
            "Epoch 27, loss: 0.462, acc: 0.839, val_loss: 1.487, val_acc: 0.653\n"
          ]
        },
        {
          "output_type": "stream",
          "name": "stderr",
          "text": [
            "100%|██████████| 704/704 [04:22<00:00,  2.68it/s]\n"
          ]
        },
        {
          "output_type": "stream",
          "name": "stdout",
          "text": [
            "Epoch 28, loss: 0.478, acc: 0.832, val_loss: 1.517, val_acc: 0.649\n"
          ]
        },
        {
          "output_type": "stream",
          "name": "stderr",
          "text": [
            "100%|██████████| 704/704 [03:32<00:00,  3.31it/s]\n"
          ]
        },
        {
          "output_type": "stream",
          "name": "stdout",
          "text": [
            "Epoch 29, loss: 0.480, acc: 0.833, val_loss: 1.566, val_acc: 0.644\n"
          ]
        },
        {
          "output_type": "stream",
          "name": "stderr",
          "text": [
            "100%|██████████| 704/704 [03:38<00:00,  3.22it/s]\n"
          ]
        },
        {
          "output_type": "stream",
          "name": "stdout",
          "text": [
            "Epoch 30, loss: 0.466, acc: 0.840, val_loss: 1.644, val_acc: 0.648\n"
          ]
        },
        {
          "output_type": "stream",
          "name": "stderr",
          "text": [
            "100%|██████████| 704/704 [04:22<00:00,  2.68it/s]\n"
          ]
        },
        {
          "output_type": "stream",
          "name": "stdout",
          "text": [
            "Epoch 31, loss: 0.479, acc: 0.835, val_loss: 1.538, val_acc: 0.642\n"
          ]
        },
        {
          "output_type": "stream",
          "name": "stderr",
          "text": [
            "100%|██████████| 704/704 [03:46<00:00,  3.11it/s]\n"
          ]
        },
        {
          "output_type": "stream",
          "name": "stdout",
          "text": [
            "Epoch 32, loss: 0.490, acc: 0.831, val_loss: 1.536, val_acc: 0.650\n"
          ]
        },
        {
          "output_type": "stream",
          "name": "stderr",
          "text": [
            "100%|██████████| 704/704 [04:22<00:00,  2.68it/s]\n"
          ]
        },
        {
          "output_type": "stream",
          "name": "stdout",
          "text": [
            "Epoch 33, loss: 0.504, acc: 0.828, val_loss: 1.558, val_acc: 0.640\n"
          ]
        },
        {
          "output_type": "stream",
          "name": "stderr",
          "text": [
            "100%|██████████| 704/704 [04:22<00:00,  2.68it/s]\n"
          ]
        },
        {
          "output_type": "stream",
          "name": "stdout",
          "text": [
            "Epoch 34, loss: 0.528, acc: 0.820, val_loss: 1.629, val_acc: 0.632\n"
          ]
        },
        {
          "output_type": "stream",
          "name": "stderr",
          "text": [
            "100%|██████████| 704/704 [03:40<00:00,  3.20it/s]\n"
          ]
        },
        {
          "output_type": "stream",
          "name": "stdout",
          "text": [
            "Epoch 35, loss: 0.530, acc: 0.819, val_loss: 1.513, val_acc: 0.649\n"
          ]
        },
        {
          "output_type": "stream",
          "name": "stderr",
          "text": [
            "100%|██████████| 704/704 [03:34<00:00,  3.29it/s]\n"
          ]
        },
        {
          "output_type": "stream",
          "name": "stdout",
          "text": [
            "Epoch 36, loss: 0.517, acc: 0.825, val_loss: 1.779, val_acc: 0.642\n"
          ]
        },
        {
          "output_type": "stream",
          "name": "stderr",
          "text": [
            "100%|██████████| 704/704 [03:34<00:00,  3.28it/s]\n"
          ]
        },
        {
          "output_type": "stream",
          "name": "stdout",
          "text": [
            "Epoch 37, loss: 0.534, acc: 0.819, val_loss: 1.531, val_acc: 0.647\n"
          ]
        },
        {
          "output_type": "stream",
          "name": "stderr",
          "text": [
            "100%|██████████| 704/704 [04:22<00:00,  2.68it/s]\n"
          ]
        },
        {
          "output_type": "stream",
          "name": "stdout",
          "text": [
            "Epoch 38, loss: 0.538, acc: 0.819, val_loss: 1.558, val_acc: 0.642\n"
          ]
        },
        {
          "output_type": "stream",
          "name": "stderr",
          "text": [
            "100%|██████████| 704/704 [03:35<00:00,  3.26it/s]\n"
          ]
        },
        {
          "output_type": "stream",
          "name": "stdout",
          "text": [
            "Epoch 39, loss: 0.530, acc: 0.821, val_loss: 1.575, val_acc: 0.659\n"
          ]
        },
        {
          "output_type": "stream",
          "name": "stderr",
          "text": [
            "100%|██████████| 704/704 [03:34<00:00,  3.28it/s]\n"
          ]
        },
        {
          "output_type": "stream",
          "name": "stdout",
          "text": [
            "Epoch 40, loss: 0.525, acc: 0.824, val_loss: 1.589, val_acc: 0.641\n"
          ]
        },
        {
          "output_type": "stream",
          "name": "stderr",
          "text": [
            "100%|██████████| 704/704 [04:22<00:00,  2.68it/s]\n"
          ]
        },
        {
          "output_type": "stream",
          "name": "stdout",
          "text": [
            "Epoch 41, loss: 0.521, acc: 0.824, val_loss: 1.621, val_acc: 0.647\n"
          ]
        },
        {
          "output_type": "stream",
          "name": "stderr",
          "text": [
            "100%|██████████| 704/704 [04:22<00:00,  2.68it/s]\n"
          ]
        },
        {
          "output_type": "stream",
          "name": "stdout",
          "text": [
            "Epoch 42, loss: 0.516, acc: 0.826, val_loss: 1.681, val_acc: 0.650\n"
          ]
        },
        {
          "output_type": "stream",
          "name": "stderr",
          "text": [
            "100%|██████████| 704/704 [04:22<00:00,  2.68it/s]\n"
          ]
        },
        {
          "output_type": "stream",
          "name": "stdout",
          "text": [
            "Epoch 43, loss: 0.566, acc: 0.812, val_loss: 1.622, val_acc: 0.643\n"
          ]
        },
        {
          "output_type": "stream",
          "name": "stderr",
          "text": [
            "100%|██████████| 704/704 [03:31<00:00,  3.33it/s]\n"
          ]
        },
        {
          "output_type": "stream",
          "name": "stdout",
          "text": [
            "Epoch 44, loss: 0.566, acc: 0.813, val_loss: 1.565, val_acc: 0.653\n"
          ]
        },
        {
          "output_type": "stream",
          "name": "stderr",
          "text": [
            "100%|██████████| 704/704 [04:22<00:00,  2.68it/s]\n"
          ]
        },
        {
          "output_type": "stream",
          "name": "stdout",
          "text": [
            "Epoch 45, loss: 0.572, acc: 0.810, val_loss: 1.513, val_acc: 0.651\n",
            "WARNING:tensorflow:Compiled the loaded model, but the compiled metrics have yet to be built. `model.compile_metrics` will be empty until you train or evaluate the model.\n"
          ]
        }
      ]
    },
    {
      "cell_type": "code",
      "metadata": {
        "id": "g-eTC0w264xO"
      },
      "source": [
        ""
      ],
      "execution_count": null,
      "outputs": []
    }
  ]
}