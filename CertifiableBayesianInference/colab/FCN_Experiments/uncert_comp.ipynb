{
  "nbformat": 4,
  "nbformat_minor": 0,
  "metadata": {
    "colab": {
      "name": "uncert_comp.ipynb",
      "provenance": [],
      "collapsed_sections": [],
      "authorship_tag": "ABX9TyPlP5AbYlGfti94W6+KVfM0",
      "include_colab_link": true
    },
    "kernelspec": {
      "name": "python3",
      "display_name": "Python 3"
    },
    "language_info": {
      "name": "python"
    }
  },
  "cells": [
    {
      "cell_type": "markdown",
      "metadata": {
        "id": "view-in-github",
        "colab_type": "text"
      },
      "source": [
        "<a href=\"https://colab.research.google.com/github/Hongchenglong/colab/blob/main/CertifiableBayesianInference/FCN_Experiments/uncert_comp.ipynb\" target=\"_parent\"><img src=\"https://colab.research.google.com/assets/colab-badge.svg\" alt=\"Open In Colab\"/></a>"
      ]
    },
    {
      "cell_type": "code",
      "metadata": {
        "colab": {
          "base_uri": "https://localhost:8080/"
        },
        "id": "n1wf4bkkSTj9",
        "outputId": "4c0a559a-16d3-499b-af40-83b26d0e883c"
      },
      "source": [
        "# 装载Google硬盘\n",
        "from google.colab import drive\n",
        "drive.mount('/content/drive')"
      ],
      "execution_count": 3,
      "outputs": [
        {
          "output_type": "stream",
          "name": "stdout",
          "text": [
            "Mounted at /content/drive\n"
          ]
        }
      ]
    },
    {
      "cell_type": "code",
      "metadata": {
        "id": "Rwj8XknWR7fg"
      },
      "source": [
        "import sys, os\n",
        "from pathlib import Path\n",
        "path = Path(os.getcwd())\n",
        "sys.path.append(str(path.parent))\n",
        "sys.path.append('/content/drive/MyDrive/ColabNotebooks/CertifiableBayesianInference')\n",
        "experiment = '/content/drive/MyDrive/ColabNotebooks/CertifiableBayesianInference/FCN_Experiments/'"
      ],
      "execution_count": 4,
      "outputs": []
    },
    {
      "cell_type": "code",
      "metadata": {
        "id": "wfy-tROgSJBZ"
      },
      "source": [
        "# python3 MNIST_runner.py --eps 0.11 --lam 0.25 --rob 0 --opt HMC --gpu 0 &\n",
        "# python3 MNIST_runner.py --eps 0.11 --lam 0.25 --rob 2 --opt HMC --gpu 1 &\n",
        "\n",
        "# dict = {'eps': 0.11, 'lam': 0.25, 'rob': 0, 'opt': 'HMC', 'gpu': '0'}\n",
        "dict = {'eps': 0.11, 'lam': 0.25, 'rob': 2, 'opt': 'HMC', 'gpu': '1'}\n",
        "\n",
        "# epsilon:  the strength of the adversary, 在测试点周围多大的区域里考虑它的鲁棒性\n",
        "eps = dict['eps']\n",
        "# lamada: the probability of seeing the clean data (lambda = 1.0 means no adversarial data considered, lambda = 0.0 means only adversarial data considered)\n",
        "lam = dict['lam'] \n",
        "# robustness mode, 0:标准 1:IBP 2:PGD\n",
        "rob = dict['rob'] \n",
        "# the variational inference method\n",
        "optim = dict['opt']\n",
        "gpu = dict['gpu']\n",
        "\n",
        "inference = optim"
      ],
      "execution_count": 5,
      "outputs": []
    },
    {
      "cell_type": "code",
      "metadata": {
        "colab": {
          "base_uri": "https://localhost:8080/"
        },
        "id": "G9QNxPdZRzhg",
        "outputId": "713d4ccc-632a-4958-bbee-bec85bec665d"
      },
      "source": [
        "import BayesKeras\n",
        "from BayesKeras import PosteriorModel\n",
        "from BayesKeras import analyzers\n",
        "\n",
        "import tensorflow as tf\n",
        "from tensorflow.keras.models import *\n",
        "from tensorflow.keras.layers import *\n",
        "\n",
        "import numpy as np\n",
        "\n",
        "\n",
        "(F_train, yf_train), (Xf_test, yf_test) = tf.keras.datasets.fashion_mnist.load_data()\n",
        "F_train = F_train/255.\n",
        "F_train = F_train.astype(\"float32\").reshape(-1, 28*28)\n",
        "\n",
        "(X_train, y_train), (X_test, y_test) = tf.keras.datasets.mnist.load_data()\n",
        "X_train = X_train/255.\n",
        "X_test = X_test/255.\n",
        "X_train = X_train.astype(\"float32\").reshape(-1, 28*28)\n",
        "X_test = X_test.astype(\"float32\").reshape(-1, 28*28)"
      ],
      "execution_count": 6,
      "outputs": [
        {
          "output_type": "stream",
          "name": "stderr",
          "text": [
            "/usr/local/lib/python3.7/dist-packages/statsmodels/tools/_testing.py:19: FutureWarning: pandas.util.testing is deprecated. Use the functions in the public API at pandas.testing instead.\n",
            "  import pandas.util.testing as tm\n"
          ]
        },
        {
          "output_type": "stream",
          "name": "stdout",
          "text": [
            "Downloading data from https://storage.googleapis.com/tensorflow/tf-keras-datasets/train-labels-idx1-ubyte.gz\n",
            "32768/29515 [=================================] - 0s 0us/step\n",
            "40960/29515 [=========================================] - 0s 0us/step\n",
            "Downloading data from https://storage.googleapis.com/tensorflow/tf-keras-datasets/train-images-idx3-ubyte.gz\n",
            "26427392/26421880 [==============================] - 0s 0us/step\n",
            "26435584/26421880 [==============================] - 0s 0us/step\n",
            "Downloading data from https://storage.googleapis.com/tensorflow/tf-keras-datasets/t10k-labels-idx1-ubyte.gz\n",
            "16384/5148 [===============================================================================================] - 0s 0us/step\n",
            "Downloading data from https://storage.googleapis.com/tensorflow/tf-keras-datasets/t10k-images-idx3-ubyte.gz\n",
            "4423680/4422102 [==============================] - 0s 0us/step\n",
            "4431872/4422102 [==============================] - 0s 0us/step\n",
            "Downloading data from https://storage.googleapis.com/tensorflow/tf-keras-datasets/mnist.npz\n",
            "11493376/11490434 [==============================] - 0s 0us/step\n",
            "11501568/11490434 [==============================] - 0s 0us/step\n"
          ]
        }
      ]
    },
    {
      "cell_type": "code",
      "metadata": {
        "colab": {
          "base_uri": "https://localhost:8080/"
        },
        "id": "Yaf9jYljSC1v",
        "outputId": "9b6308fb-ddd5-48ca-c7a8-75e1900c039f"
      },
      "source": [
        "num_images = 100\n",
        "for rob in [0, 2]:\n",
        "    model = PosteriorModel(experiment + \"%s_FCN_Posterior_%s\"%(inference, rob))\n",
        "    epistemic, aleatoric = analyzers.variational_uncertainty(model, X_test[0:num_images])\n",
        "    auc = analyzers.auroc(model, X_test[0:num_images], y_test[0:num_images])\n",
        "    print(\"ON MNIST\")\n",
        "    print(\"-------------------------------\")\n",
        "    print(\"Epistemic: \",np.mean(epistemic))\n",
        "    print(\"Aleatoric: \",np.mean(aleatoric))\n",
        "    print(\"AUC: \", auc)\n",
        "    print(\"-------------------------------\")\n",
        "\n",
        "    epistemic, aleatoric = analyzers.variational_uncertainty(model, F_train[0:num_images])\n",
        "    auc = analyzers.auroc(model, F_train[0:num_images], yf_train[0:num_images])\n",
        "    print(\"ON FasionMNIST\")\n",
        "    print(\"-------------------------------\")\n",
        "    print(\"Epistemic: \",np.mean(epistemic))\n",
        "    print(\"Aleatoric: \",np.mean(aleatoric))\n",
        "    print(\"AUC: \", auc)\n",
        "    print(\"-------------------------------\")\n",
        "    llr = analyzers.likelihood_ratio(model, X_test[0:num_images], F_train[0:num_images])\n",
        "    print(\"LLR %s: \"%(rob), llr)\n",
        "    print(\"-------------------------------\")\n",
        "\n",
        "    meth = analyzers.FGSM\n",
        "    loss = tf.keras.losses.SparseCategoricalCrossentropy()\n",
        "    adv = meth(model, X_test[0:num_images], eps=0.3, loss_fn=loss, num_models=10, direction=y_test[0:num_images])\n",
        "\n",
        "    epistemic, aleatoric = analyzers.variational_uncertainty(model, adv)\n",
        "    auc = analyzers.auroc(model, adv, y_test[0:num_images])\n",
        "    print(\"ON Adversarial Examples\")\n",
        "    print(\"-------------------------------\")\n",
        "    print(\"Epistemic: \",np.mean(epistemic))\n",
        "    print(\"Aleatoric: \",np.mean(aleatoric))\n",
        "    print(\"AUC: \", auc)\n",
        "    print(\"-------------------------------\")\n",
        "    llr = analyzers.likelihood_ratio(model, X_test[0:num_images], adv)\n",
        "    print(\"LLR %s: \"%(rob), llr)\n",
        "    print(\"-------------------------------\")\n"
      ],
      "execution_count": 8,
      "outputs": [
        {
          "output_type": "stream",
          "name": "stdout",
          "text": [
            "[INFO] BayesKeras: Attempting to load a sample based posterior\n",
            "WARNING:tensorflow:No training configuration found in the save file, so the model was *not* compiled. Compile it manually.\n",
            "Model: \"sequential_3\"\n",
            "_________________________________________________________________\n",
            " Layer (type)                Output Shape              Param #   \n",
            "=================================================================\n",
            " dense_6 (Dense)             (None, None, None, 512)   401920    \n",
            "                                                                 \n",
            " dense_7 (Dense)             (None, None, None, 10)    5130      \n",
            "                                                                 \n",
            "=================================================================\n",
            "Total params: 407,050\n",
            "Trainable params: 407,050\n",
            "Non-trainable params: 0\n",
            "_________________________________________________________________\n",
            "BayesKeras detected the above model \n",
            " None\n",
            "Pred shape:  (35, 100, 10)\n",
            "ON MNIST\n",
            "-------------------------------\n",
            "Epistemic:  -4.2362353e-10\n",
            "Aleatoric:  0.00051015837\n",
            "AUC:  0.9908496355507215\n",
            "-------------------------------\n",
            "Pred shape:  (35, 100, 10)\n",
            "ON FasionMNIST\n",
            "-------------------------------\n",
            "Epistemic:  -4.8504294e-09\n",
            "Aleatoric:  0.0047152387\n",
            "AUC:  0.4488296481231789\n",
            "-------------------------------\n",
            "LLR 0:  0.9711433\n",
            "-------------------------------\n",
            "Pred shape:  (35, 100, 10)\n",
            "ON Adversarial Examples\n",
            "-------------------------------\n",
            "Epistemic:  -4.768369e-10\n",
            "Aleatoric:  1.9556587e-06\n",
            "AUC:  0.8532246901091067\n",
            "-------------------------------\n",
            "LLR 0:  1.0027452\n",
            "-------------------------------\n",
            "[INFO] BayesKeras: Attempting to load a sample based posterior\n",
            "WARNING:tensorflow:No training configuration found in the save file, so the model was *not* compiled. Compile it manually.\n",
            "Model: \"sequential\"\n",
            "_________________________________________________________________\n",
            " Layer (type)                Output Shape              Param #   \n",
            "=================================================================\n",
            " dense (Dense)               (None, None, None, 512)   401920    \n",
            "                                                                 \n",
            " dense_1 (Dense)             (None, None, None, 10)    5130      \n",
            "                                                                 \n",
            "=================================================================\n",
            "Total params: 407,050\n",
            "Trainable params: 407,050\n",
            "Non-trainable params: 0\n",
            "_________________________________________________________________\n",
            "BayesKeras detected the above model \n",
            " None\n",
            "Pred shape:  (35, 100, 10)\n",
            "ON MNIST\n",
            "-------------------------------\n",
            "Epistemic:  2.53287e-10\n",
            "Aleatoric:  0.001018475\n",
            "AUC:  0.979379528216139\n",
            "-------------------------------\n",
            "Pred shape:  (35, 100, 10)\n",
            "ON FasionMNIST\n",
            "-------------------------------\n",
            "Epistemic:  -1.6448064e-10\n",
            "Aleatoric:  0.00062986213\n",
            "AUC:  0.49285734276391013\n",
            "-------------------------------\n",
            "LLR 2:  1.0030485\n",
            "-------------------------------\n",
            "Pred shape:  (35, 100, 10)\n",
            "ON Adversarial Examples\n",
            "-------------------------------\n",
            "Epistemic:  -2.6318196e-26\n",
            "Aleatoric:  5.8208906e-12\n",
            "AUC:  0.8762575359303602\n",
            "-------------------------------\n",
            "LLR 2:  1.0065458\n",
            "-------------------------------\n"
          ]
        }
      ]
    }
  ]
}