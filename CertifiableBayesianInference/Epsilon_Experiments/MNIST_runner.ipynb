{
  "nbformat": 4,
  "nbformat_minor": 0,
  "metadata": {
    "colab": {
      "name": "MNIST_runner.ipynb",
      "provenance": [],
      "authorship_tag": "ABX9TyNUwdpwfuLc7uVcMmzLD0lW",
      "include_colab_link": true
    },
    "kernelspec": {
      "name": "python3",
      "display_name": "Python 3"
    },
    "language_info": {
      "name": "python"
    }
  },
  "cells": [
    {
      "cell_type": "markdown",
      "metadata": {
        "id": "view-in-github",
        "colab_type": "text"
      },
      "source": [
        "<a href=\"https://colab.research.google.com/github/Hongchenglong/colab/blob/main/CertifiableBayesianInference/Epsilon_Experiments/MNIST_runner.ipynb\" target=\"_parent\"><img src=\"https://colab.research.google.com/assets/colab-badge.svg\" alt=\"Open In Colab\"/></a>"
      ]
    },
    {
      "cell_type": "code",
      "metadata": {
        "colab": {
          "base_uri": "https://localhost:8080/"
        },
        "id": "LnbI2FBP7cI8",
        "outputId": "106dc90d-d137-4f4b-ce4a-dbd5b06775b3"
      },
      "source": [
        "from google.colab import drive\n",
        "drive.mount('/content/drive')"
      ],
      "execution_count": null,
      "outputs": [
        {
          "output_type": "stream",
          "name": "stdout",
          "text": [
            "Mounted at /content/drive\n"
          ]
        }
      ]
    },
    {
      "cell_type": "code",
      "metadata": {
        "id": "yGX6L2u4C75Z"
      },
      "source": [
        "import sys, os\n",
        "from pathlib import Path\n",
        "path = Path(os.getcwd())\n",
        "sys.path.append(str(path.parent))\n",
        "sys.path.append('/content/drive/MyDrive/ColabNotebooks/CertifiableBayesianInference')\n",
        "experiment = '/content/drive/MyDrive/ColabNotebooks/CertifiableBayesianInference/Epsilon_Experiments/'"
      ],
      "execution_count": null,
      "outputs": []
    },
    {
      "cell_type": "code",
      "metadata": {
        "id": "YJtKMRNq7irn"
      },
      "source": [
        "# python3 MNIST_runner.py --eps 0.165 --lam 0.25 --rob 1 --opt BBB --gpu 2 &\n",
        "\n",
        "dict = {'eps': 0.165, 'lam': 0.25, 'rob': 0, 'opt': 'BBB', 'gpu': '2'}\n",
        "\n",
        "eps = dict['eps']\n",
        "lam = dict['lam']\n",
        "rob = dict['rob']\n",
        "optim = dict['opt']\n",
        "gpu = dict['gpu']\n",
        "os.environ['CUDA_VISIBLE_DEVICES'] = gpu"
      ],
      "execution_count": null,
      "outputs": []
    },
    {
      "cell_type": "code",
      "metadata": {
        "colab": {
          "base_uri": "https://localhost:8080/"
        },
        "id": "9eepGoXH7ivN",
        "outputId": "0fcdf7b6-2828-4db6-df60-bb42a552ffaf"
      },
      "source": [
        "import BayesKeras\n",
        "import BayesKeras.optimizers as optimizers\n",
        "\n",
        "import tensorflow as tf\n",
        "from tensorflow.keras.models import *\n",
        "from tensorflow.keras.layers import *\n",
        "\n",
        "#tf.debugging.set_log_device_placement(True)\n",
        "#os.environ['CUDA_VISIBLE_DEVICES'] = '-1'\n",
        "\n",
        "(X_train, y_train), (X_test, y_test) = tf.keras.datasets.mnist.load_data()\n",
        "X_train = X_train/255.\n",
        "X_test = X_test/255.\n",
        "X_train = X_train.astype(\"float32\").reshape(-1, 28*28)\n",
        "X_test = X_test.astype(\"float32\").reshape(-1, 28*28)\n",
        "\n",
        "#X_train = X_train[0:10000]\n",
        "#y_train = y_train[0:10000]\n",
        "\n",
        "model = Sequential()\n",
        "model.add(Dense(512, activation=\"relu\", input_shape=(None, None, 28*28)))\n",
        "model.add(Dense(10, activation=\"softmax\"))\n",
        "\n",
        "inf = 2\n",
        "full_covar = False\n",
        "if(optim == 'VOGN'):\n",
        "    # was 0.25 for a bit\n",
        "    inf = 2\n",
        "    learning_rate = 0.35; decay=0.0\n",
        "    opt = optimizers.VariationalOnlineGuassNewton()\n",
        "elif(optim == 'BBB'):\n",
        "    inf = 2\n",
        "    learning_rate = 0.45; decay=0.0\n",
        "    opt = optimizers.BayesByBackprop()\n",
        "elif(optim == 'SWAG'):\n",
        "    learning_rate = 0.1; decay=0.0\n",
        "    opt = optimizers.StochasticWeightAveragingGaussian()\n",
        "elif(optim == 'SWAG-FC'):\n",
        "    learning_rate = 0.01; decay=0.0; full_covar=True\n",
        "    opt = optimizers.StochasticWeightAveragingGaussian()\n",
        "elif(optim == 'SGD'):\n",
        "    learning_rate = 1.0; decay=0.0\n",
        "    opt = optimizers.StochasticGradientDescent()\n",
        "elif(optim == 'NA'):\n",
        "    inf = 2\n",
        "    learning_rate = 0.001; decay=0.0\n",
        "    opt = optimizers.NoisyAdam()\n",
        "elif(optim == 'ADAM'):\n",
        "    learning_rate = 0.00001; decay=0.0\n",
        "    opt = optimizers.Adam()\n",
        "elif(optim == 'HMC'):\n",
        "    learning_rate = 0.075; decay=0.0; inf=250\n",
        "    linear_schedule = False\n",
        "    opt = optimizers.HamiltonianMonteCarlo()\n",
        "\n",
        "# Compile the model to train with Bayesian inference\n",
        "if(rob == 0):\n",
        "    loss = tf.keras.losses.SparseCategoricalCrossentropy()\n",
        "elif(rob != 0):\n",
        "    loss = BayesKeras.optimizers.losses.robust_crossentropy_loss\n",
        "\n",
        "bayes_model = opt.compile(model, loss_fn=loss, epochs=20, learning_rate=learning_rate,\n",
        "                          batch_size=128, linear_schedule=True,\n",
        "                          decay=decay, robust_train=rob, inflate_prior=inf,\n",
        "                          burn_in=3, steps=25, b_steps=20, epsilon=eps, rob_lam=lam) #, preload=\"SGD_FCN_Posterior_1\")"
      ],
      "execution_count": null,
      "outputs": [
        {
          "output_type": "stream",
          "name": "stdout",
          "text": [
            "This optimizer does not have a default compilation method. Please make sure to call the correct .compile method before use.\n",
            "BayesKeras: Using implicit prior\n",
            "(784, 512) 0.050507627227610534\n",
            "(512, 10) 0.0625\n",
            "BayesKeras: Using implicit prior\n",
            "(784, 512) 0.050507627227610534\n",
            "(512, 10) 0.0625\n",
            "BayesKeras: Using passed loss_fn as the data likelihood in the KL loss\n"
          ]
        }
      ]
    },
    {
      "cell_type": "code",
      "metadata": {
        "colab": {
          "base_uri": "https://localhost:8080/"
        },
        "id": "kc2diGkf7iyL",
        "outputId": "489484aa-2dcf-4fc8-df6a-12decfd84b58"
      },
      "source": [
        "#steps was 50\n",
        "# Train the model on your data\n",
        "bayes_model.train(X_train, y_train, X_test, y_test)"
      ],
      "execution_count": null,
      "outputs": [
        {
          "metadata": {
            "tags": null
          },
          "name": "stderr",
          "output_type": "stream",
          "text": [
            "100%|██████████| 469/469 [00:53<00:00,  8.69it/s]\n"
          ]
        },
        {
          "metadata": {
            "tags": null
          },
          "name": "stdout",
          "output_type": "stream",
          "text": [
            "Epoch 1, loss: 6.759, acc: 0.829, val_loss: 0.266, val_acc: 0.916\n"
          ]
        },
        {
          "metadata": {
            "tags": null
          },
          "name": "stderr",
          "output_type": "stream",
          "text": [
            "100%|██████████| 469/469 [01:21<00:00,  5.72it/s]\n"
          ]
        },
        {
          "metadata": {
            "tags": null
          },
          "name": "stdout",
          "output_type": "stream",
          "text": [
            "Epoch 2, loss: 5.917, acc: 0.934, val_loss: 0.217, val_acc: 0.933\n"
          ]
        },
        {
          "metadata": {
            "tags": null
          },
          "name": "stderr",
          "output_type": "stream",
          "text": [
            "100%|██████████| 469/469 [01:21<00:00,  5.72it/s]\n"
          ]
        },
        {
          "metadata": {
            "tags": null
          },
          "name": "stdout",
          "output_type": "stream",
          "text": [
            "Epoch 3, loss: 5.479, acc: 0.949, val_loss: 0.150, val_acc: 0.955\n"
          ]
        },
        {
          "metadata": {
            "tags": null
          },
          "name": "stderr",
          "output_type": "stream",
          "text": [
            "100%|██████████| 469/469 [01:21<00:00,  5.72it/s]\n"
          ]
        },
        {
          "metadata": {
            "tags": null
          },
          "name": "stdout",
          "output_type": "stream",
          "text": [
            "Epoch 4, loss: 5.093, acc: 0.957, val_loss: 0.127, val_acc: 0.961\n"
          ]
        },
        {
          "metadata": {
            "tags": null
          },
          "name": "stderr",
          "output_type": "stream",
          "text": [
            "100%|██████████| 469/469 [01:21<00:00,  5.72it/s]\n"
          ]
        },
        {
          "metadata": {
            "tags": null
          },
          "name": "stdout",
          "output_type": "stream",
          "text": [
            "Epoch 5, loss: 4.759, acc: 0.961, val_loss: 0.137, val_acc: 0.959\n"
          ]
        },
        {
          "metadata": {
            "tags": null
          },
          "name": "stderr",
          "output_type": "stream",
          "text": [
            "100%|██████████| 469/469 [01:21<00:00,  5.72it/s]\n"
          ]
        },
        {
          "metadata": {
            "tags": null
          },
          "name": "stdout",
          "output_type": "stream",
          "text": [
            "Epoch 6, loss: 4.497, acc: 0.965, val_loss: 0.127, val_acc: 0.962\n"
          ]
        },
        {
          "metadata": {
            "tags": null
          },
          "name": "stderr",
          "output_type": "stream",
          "text": [
            "100%|██████████| 469/469 [01:21<00:00,  5.72it/s]\n"
          ]
        },
        {
          "metadata": {
            "tags": null
          },
          "name": "stdout",
          "output_type": "stream",
          "text": [
            "Epoch 7, loss: 4.295, acc: 0.965, val_loss: 0.156, val_acc: 0.954\n"
          ]
        },
        {
          "metadata": {
            "tags": null
          },
          "name": "stderr",
          "output_type": "stream",
          "text": [
            "100%|██████████| 469/469 [01:21<00:00,  5.72it/s]\n"
          ]
        },
        {
          "metadata": {
            "tags": null
          },
          "name": "stdout",
          "output_type": "stream",
          "text": [
            "Epoch 8, loss: 4.138, acc: 0.967, val_loss: 0.116, val_acc: 0.965\n"
          ]
        },
        {
          "metadata": {
            "tags": null
          },
          "name": "stderr",
          "output_type": "stream",
          "text": [
            "100%|██████████| 469/469 [01:21<00:00,  5.72it/s]\n"
          ]
        },
        {
          "metadata": {
            "tags": null
          },
          "name": "stdout",
          "output_type": "stream",
          "text": [
            "Epoch 9, loss: 4.038, acc: 0.967, val_loss: 0.142, val_acc: 0.959\n"
          ]
        },
        {
          "metadata": {
            "tags": null
          },
          "name": "stderr",
          "output_type": "stream",
          "text": [
            "100%|██████████| 469/469 [01:21<00:00,  5.72it/s]\n"
          ]
        },
        {
          "metadata": {
            "tags": null
          },
          "name": "stdout",
          "output_type": "stream",
          "text": [
            "Epoch 10, loss: 3.963, acc: 0.969, val_loss: 0.128, val_acc: 0.963\n"
          ]
        },
        {
          "metadata": {
            "tags": null
          },
          "name": "stderr",
          "output_type": "stream",
          "text": [
            "100%|██████████| 469/469 [01:21<00:00,  5.72it/s]\n"
          ]
        },
        {
          "metadata": {
            "tags": null
          },
          "name": "stdout",
          "output_type": "stream",
          "text": [
            "Epoch 11, loss: 3.908, acc: 0.969, val_loss: 0.167, val_acc: 0.952\n"
          ]
        },
        {
          "metadata": {
            "tags": null
          },
          "name": "stderr",
          "output_type": "stream",
          "text": [
            "100%|██████████| 469/469 [01:21<00:00,  5.72it/s]\n"
          ]
        },
        {
          "metadata": {
            "tags": null
          },
          "name": "stdout",
          "output_type": "stream",
          "text": [
            "Epoch 12, loss: 3.855, acc: 0.971, val_loss: 0.130, val_acc: 0.963\n"
          ]
        },
        {
          "metadata": {
            "tags": null
          },
          "name": "stderr",
          "output_type": "stream",
          "text": [
            "100%|██████████| 469/469 [01:21<00:00,  5.72it/s]\n"
          ]
        },
        {
          "metadata": {
            "tags": null
          },
          "name": "stdout",
          "output_type": "stream",
          "text": [
            "Epoch 13, loss: 3.810, acc: 0.971, val_loss: 0.136, val_acc: 0.964\n"
          ]
        },
        {
          "metadata": {
            "tags": null
          },
          "name": "stderr",
          "output_type": "stream",
          "text": [
            "100%|██████████| 469/469 [00:54<00:00,  8.53it/s]\n"
          ]
        },
        {
          "metadata": {
            "tags": null
          },
          "name": "stdout",
          "output_type": "stream",
          "text": [
            "Epoch 14, loss: 3.775, acc: 0.972, val_loss: 0.159, val_acc: 0.955\n"
          ]
        },
        {
          "metadata": {
            "tags": null
          },
          "name": "stderr",
          "output_type": "stream",
          "text": [
            "100%|██████████| 469/469 [00:55<00:00,  8.40it/s]\n"
          ]
        },
        {
          "metadata": {
            "tags": null
          },
          "name": "stdout",
          "output_type": "stream",
          "text": [
            "Epoch 15, loss: 3.732, acc: 0.972, val_loss: 0.122, val_acc: 0.966\n"
          ]
        },
        {
          "metadata": {
            "tags": null
          },
          "name": "stderr",
          "output_type": "stream",
          "text": [
            "100%|██████████| 469/469 [01:21<00:00,  5.72it/s]\n"
          ]
        },
        {
          "metadata": {
            "tags": null
          },
          "name": "stdout",
          "output_type": "stream",
          "text": [
            "Epoch 16, loss: 3.698, acc: 0.973, val_loss: 0.111, val_acc: 0.968\n"
          ]
        },
        {
          "metadata": {
            "tags": null
          },
          "name": "stderr",
          "output_type": "stream",
          "text": [
            "100%|██████████| 469/469 [00:53<00:00,  8.79it/s]\n"
          ]
        },
        {
          "metadata": {
            "tags": null
          },
          "name": "stdout",
          "output_type": "stream",
          "text": [
            "Epoch 17, loss: 3.662, acc: 0.975, val_loss: 0.106, val_acc: 0.969\n"
          ]
        },
        {
          "metadata": {
            "tags": null
          },
          "name": "stderr",
          "output_type": "stream",
          "text": [
            "100%|██████████| 469/469 [01:21<00:00,  5.72it/s]\n"
          ]
        },
        {
          "metadata": {
            "tags": null
          },
          "name": "stdout",
          "output_type": "stream",
          "text": [
            "Epoch 18, loss: 3.625, acc: 0.975, val_loss: 0.100, val_acc: 0.971\n"
          ]
        },
        {
          "metadata": {
            "tags": null
          },
          "name": "stderr",
          "output_type": "stream",
          "text": [
            "100%|██████████| 469/469 [01:21<00:00,  5.72it/s]\n"
          ]
        },
        {
          "metadata": {
            "tags": null
          },
          "name": "stdout",
          "output_type": "stream",
          "text": [
            "Epoch 19, loss: 3.589, acc: 0.975, val_loss: 0.113, val_acc: 0.969\n"
          ]
        },
        {
          "metadata": {
            "tags": null
          },
          "name": "stderr",
          "output_type": "stream",
          "text": [
            "100%|██████████| 469/469 [00:53<00:00,  8.82it/s]\n"
          ]
        },
        {
          "metadata": {
            "tags": null
          },
          "name": "stdout",
          "output_type": "stream",
          "text": [
            "Epoch 20, loss: 3.550, acc: 0.977, val_loss: 0.104, val_acc: 0.972\n"
          ]
        }
      ]
    },
    {
      "cell_type": "code",
      "metadata": {
        "colab": {
          "base_uri": "https://localhost:8080/"
        },
        "id": "0InTgIPh7i1y",
        "outputId": "722f8bcf-d2ec-480b-9586-1f0e8c041626"
      },
      "source": [
        "# Save your approxiate Bayesian posterior\n",
        "bayes_model.save(experiment + \"%s_FCN_Posterior_%s\"%(optim, rob))"
      ],
      "execution_count": null,
      "outputs": [
        {
          "metadata": {
            "tags": null
          },
          "name": "stdout",
          "output_type": "stream",
          "text": [
            "WARNING:tensorflow:Compiled the loaded model, but the compiled metrics have yet to be built. `model.compile_metrics` will be empty until you train or evaluate the model.\n"
          ]
        },
        {
          "metadata": {
            "tags": null
          },
          "name": "stderr",
          "output_type": "stream",
          "text": [
            "/usr/local/lib/python3.7/dist-packages/numpy/core/_asarray.py:83: VisibleDeprecationWarning: Creating an ndarray from ragged nested sequences (which is a list-or-tuple of lists-or-tuples-or ndarrays with different lengths or shapes) is deprecated. If you meant to do this, you must specify 'dtype=object' when creating the ndarray\n",
            "  return array(a, dtype, copy=False, order=order)\n"
          ]
        }
      ]
    },
    {
      "cell_type": "code",
      "metadata": {
        "id": "HM1CFyZr7i5K"
      },
      "source": [
        ""
      ],
      "execution_count": null,
      "outputs": []
    }
  ]
}