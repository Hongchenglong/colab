{
  "nbformat": 4,
  "nbformat_minor": 0,
  "metadata": {
    "colab": {
      "name": "analysis.ipynb",
      "provenance": [],
      "include_colab_link": true
    },
    "kernelspec": {
      "name": "python3",
      "display_name": "Python 3"
    },
    "language_info": {
      "name": "python"
    }
  },
  "cells": [
    {
      "cell_type": "markdown",
      "metadata": {
        "id": "view-in-github",
        "colab_type": "text"
      },
      "source": [
        "<a href=\"https://colab.research.google.com/github/Hongchenglong/colab/blob/main/CertifiableBayesianInference/Rayleigh_Experiments/analysis.ipynb\" target=\"_parent\"><img src=\"https://colab.research.google.com/assets/colab-badge.svg\" alt=\"Open In Colab\"/></a>"
      ]
    },
    {
      "cell_type": "code",
      "metadata": {
        "colab": {
          "base_uri": "https://localhost:8080/"
        },
        "id": "6TGbK9oIw9gl",
        "outputId": "d6b049e4-b2ad-49f8-82c8-7f3eb51ef4ae"
      },
      "source": [
        "from google.colab import drive\n",
        "drive.mount('/content/drive')"
      ],
      "execution_count": null,
      "outputs": [
        {
          "output_type": "stream",
          "name": "stdout",
          "text": [
            "Drive already mounted at /content/drive; to attempt to forcibly remount, call drive.mount(\"/content/drive\", force_remount=True).\n"
          ]
        }
      ]
    },
    {
      "cell_type": "code",
      "metadata": {
        "id": "G_zNvxljPoFO",
        "colab": {
          "base_uri": "https://localhost:8080/"
        },
        "outputId": "cdbaace8-6401-4487-f6c4-780d1dd57839"
      },
      "source": [
        "import sys, os\n",
        "from pathlib import Path\n",
        "path = Path(os.getcwd())\n",
        "sys.path.append(str(path.parent))\n",
        "sys.path.append('/content/drive/MyDrive/CertifiableBayesianInference')\n",
        "experiment = '/content/drive/MyDrive/ColabNotebooks/CertifiableBayesianInference/Rayleigh_Experiments/'"
      ],
      "execution_count": null,
      "outputs": [
        {
          "output_type": "stream",
          "name": "stdout",
          "text": [
            "['', '/content', '/env/python', '/usr/lib/python37.zip', '/usr/lib/python3.7', '/usr/lib/python3.7/lib-dynload', '/usr/local/lib/python3.7/dist-packages', '/usr/lib/python3/dist-packages', '/usr/local/lib/python3.7/dist-packages/IPython/extensions', '/root/.ipython', '/', '/content/drive/MyDrive/CertifiableBayesianInference']\n"
          ]
        }
      ]
    },
    {
      "cell_type": "code",
      "metadata": {
        "colab": {
          "base_uri": "https://localhost:8080/"
        },
        "id": "VE8rC4mCx5aA",
        "outputId": "889d23c1-a4b4-451d-a6e8-d32773a8fc45"
      },
      "source": [
        "!apt-get install tree\n",
        "!tree /content/drive/MyDrive/ColabNotebooks/CertifiableBayesianInference/Rayleigh_Experiments/"
      ],
      "execution_count": null,
      "outputs": [
        {
          "output_type": "stream",
          "name": "stdout",
          "text": [
            "/content/drive/MyDrive/ColabNotebooks/CertifiableBayesianInference/Rayleigh_Experiments/\n",
            "├── analysis.ipynb\n",
            "├── MNIST_runner.ipynb\n",
            "└── SWAG_FCN_Posterior_5\n",
            "    ├── arch.json\n",
            "    ├── mean.npy\n",
            "    ├── model.h5\n",
            "    └── var.npy\n",
            "\n",
            "1 directory, 6 files\n"
          ]
        }
      ]
    },
    {
      "cell_type": "code",
      "metadata": {
        "colab": {
          "base_uri": "https://localhost:8080/"
        },
        "id": "NmkAoIy0tMTb",
        "outputId": "da61a507-0887-4654-ba81-c4e24026929e"
      },
      "source": [
        "# import sys, os\n",
        "# from pathlib import Path\n",
        "# path = Path(os.getcwd())\n",
        "# sys.path.append(str(path.parent))\n",
        "\n",
        "\n",
        "import BayesKeras\n",
        "from BayesKeras import PosteriorModel\n",
        "from BayesKeras import analyzers\n",
        "\n",
        "import tensorflow as tf\n",
        "from tensorflow.keras.models import *\n",
        "from tensorflow.keras.layers import *\n",
        "os.environ['CUDA_VISIBLE_DEVICES'] = '-1'\n",
        "\n",
        "import numpy as np\n",
        "from tqdm import trange\n",
        "\n",
        "\n",
        "# import argparse\n",
        "# parser = argparse.ArgumentParser()\n",
        "# parser.add_argument(\"--opt\")\n",
        "# parser.add_argument(\"--rob\")\n",
        "\n",
        "# args = parser.parse_args()\n",
        "# opt = str(args.opt)\n",
        "# rob = int(args.rob)\n",
        "opt = 'SWAG'\n",
        "rob = 5\n",
        "\n",
        "inference = opt\n",
        "# 导入mnist数据集，划分训练集和测试集\n",
        "(X_train, y_train), (X_test, y_test) = tf.keras.datasets.mnist.load_data()\n",
        "# 像素强度除以255.0，将像素强度降低到0-1范围内\n",
        "X_train = X_train/255.\n",
        "X_test = X_test/255.\n",
        "# 转换数据类型为float32，调整矩阵形状：行数未知，列数28*28\n",
        "X_train = X_train.astype(\"float32\").reshape(-1, 28*28)\n",
        "X_test = X_test.astype(\"float32\").reshape(-1, 28*28)\n",
        "\n",
        "# 加载保存的后验分布模型\n",
        "model = PosteriorModel(experiment + \"%s_FCN_Posterior_%s\"%(inference, rob))\n",
        "\n",
        "# 交叉熵损失函数\n",
        "# 稀疏分类交叉熵\n",
        "loss = tf.keras.losses.SparseCategoricalCrossentropy()"
      ],
      "execution_count": null,
      "outputs": [
        {
          "output_type": "stream",
          "name": "stderr",
          "text": [
            "/usr/local/lib/python3.7/dist-packages/statsmodels/tools/_testing.py:19: FutureWarning: pandas.util.testing is deprecated. Use the functions in the public API at pandas.testing instead.\n",
            "  import pandas.util.testing as tm\n"
          ]
        },
        {
          "output_type": "stream",
          "name": "stdout",
          "text": [
            "Downloading data from https://storage.googleapis.com/tensorflow/tf-keras-datasets/mnist.npz\n",
            "11493376/11490434 [==============================] - 0s 0us/step\n",
            "11501568/11490434 [==============================] - 0s 0us/step\n",
            "WARNING:tensorflow:No training configuration found in the save file, so the model was *not* compiled. Compile it manually.\n",
            "Model: \"sequential_4\"\n",
            "_________________________________________________________________\n",
            " Layer (type)                Output Shape              Param #   \n",
            "=================================================================\n",
            " dense_5 (Dense)             (None, 512)               401920    \n",
            "                                                                 \n",
            " dense_6 (Dense)             (None, 10)                5130      \n",
            "                                                                 \n",
            "=================================================================\n",
            "Total params: 407,050\n",
            "Trainable params: 407,050\n",
            "Non-trainable params: 0\n",
            "_________________________________________________________________\n",
            "BayesKeras detected the above model \n",
            " None\n"
          ]
        }
      ]
    },
    {
      "cell_type": "code",
      "metadata": {
        "colab": {
          "base_uri": "https://localhost:8080/",
          "height": 142
        },
        "id": "Es9d5VVEPxXX",
        "outputId": "a446bf25-a479-4e24-c6c8-aa69d73d0f3e"
      },
      "source": [
        "\n",
        "\n",
        "num_images = 500\n",
        "# 指标.准确率\n",
        "accuracy = tf.keras.metrics.Accuracy()\n",
        "# 返回后验预测分布的平均值：此函数对后验“n”次进行采样，并返回每个样本的平均 softmax 值\n",
        "preds = model.predict(X_test[0:500]) #np.argmax(model.predict(np.asarray(adv)), axis=1)\n",
        "# argmax: 返回沿轴的最大值的索引\n",
        "accuracy.update_state(np.argmax(preds, axis=1), y_test[0:500])\n",
        "fgsm = accuracy.result()\n",
        "print(\"%s Accuracy: \"%(inference), accuracy.result())\n",
        "\n",
        "accuracy = tf.keras.metrics.Accuracy()\n",
        "# 分析器.快速梯度标志方法 fast gradient sign method\n",
        "adv = analyzers.FGSM(model, X_test[0:500], eps=0.1, loss_fn=loss, num_models=10)\n",
        "preds = model.predict(adv) #np.argmax(model.predict(np.asarray(adv)), axis=1)\n",
        "accuracy.update_state(np.argmax(preds, axis=1), y_test[0:500])\n",
        "fgsm = accuracy.result()\n",
        "print(\"FGSM Robustness: \", accuracy.result())\n",
        "\n",
        "accuracy = tf.keras.metrics.Accuracy()\n",
        "# 切尔诺夫界验证\n",
        "preds = analyzers.chernoff_bound_verification(model, X_test[0:100], 0.1, y_test[0:100], confidence=0.80)\n",
        "#print(preds.shape)\n",
        "#print(np.argmax(preds, axis=1).shape)\n",
        "accuracy.update_state(np.argmax(preds, axis=1), y_test[0:100])\n",
        "print(\"Chernoff Lower Bound (IBP): \",  accuracy.result())\n",
        "\n",
        "\"\"\"\n",
        "p = 0\n",
        "for i in trange(100, desc=\"Computing FGSM Robustness\"):\n",
        "    this_p = analyzers.massart_bound_check(model, np.asarray([X_test[i]]), 0.075, y_test[i])\n",
        "    print(this_p)\n",
        "    p += this_p\n",
        "print(\"Massart Lower Bound (IBP): \", p/100.0)\n",
        "\"\"\"\n"
      ],
      "execution_count": null,
      "outputs": [
        {
          "output_type": "stream",
          "name": "stdout",
          "text": [
            "SWAG Accuracy:  tf.Tensor(0.98, shape=(), dtype=float32)\n",
            "FGSM Robustness:  tf.Tensor(0.742, shape=(), dtype=float32)\n"
          ]
        },
        {
          "output_type": "stream",
          "name": "stderr",
          "text": [
            "Sampling for Chernoff Bound Satisfaction: 100%|██████████| 24/24 [00:00<00:00, 24.85it/s]"
          ]
        },
        {
          "output_type": "stream",
          "name": "stdout",
          "text": [
            "Chernoff Lower Bound (IBP):  tf.Tensor(0.25, shape=(), dtype=float32)\n"
          ]
        },
        {
          "output_type": "stream",
          "name": "stderr",
          "text": [
            "\n"
          ]
        },
        {
          "output_type": "execute_result",
          "data": {
            "application/vnd.google.colaboratory.intrinsic+json": {
              "type": "string"
            },
            "text/plain": [
              "'\\np = 0\\nfor i in trange(100, desc=\"Computing FGSM Robustness\"):\\n    this_p = analyzers.massart_bound_check(model, np.asarray([X_test[i]]), 0.075, y_test[i])\\n    print(this_p)\\n    p += this_p\\nprint(\"Massart Lower Bound (IBP): \", p/100.0)\\n'"
            ]
          },
          "metadata": {},
          "execution_count": 3
        }
      ]
    },
    {
      "cell_type": "code",
      "metadata": {
        "id": "-4UibT2rQCjz",
        "colab": {
          "base_uri": "https://localhost:8080/"
        },
        "outputId": "e8bd0aca-08f5-4567-d81a-f6a9915b6961"
      },
      "source": [
        "!ls /content/"
      ],
      "execution_count": null,
      "outputs": [
        {
          "output_type": "stream",
          "name": "stdout",
          "text": [
            "drive  sample_data\n"
          ]
        }
      ]
    }
  ]
}