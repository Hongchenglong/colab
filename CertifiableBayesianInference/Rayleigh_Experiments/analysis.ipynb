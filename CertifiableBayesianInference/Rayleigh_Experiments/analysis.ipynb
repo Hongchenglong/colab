{
  "nbformat": 4,
  "nbformat_minor": 0,
  "metadata": {
    "colab": {
      "name": "analysis.ipynb",
      "provenance": [],
      "authorship_tag": "ABX9TyMvrhQzro+eO2jXYGwtF505",
      "include_colab_link": true
    },
    "kernelspec": {
      "display_name": "Python 3",
      "name": "python3"
    },
    "language_info": {
      "name": "python"
    }
  },
  "cells": [
    {
      "cell_type": "markdown",
      "metadata": {
        "id": "view-in-github",
        "colab_type": "text"
      },
      "source": [
        "<a href=\"https://colab.research.google.com/github/Hongchenglong/colab/blob/main/CertifiableBayesianInference/Rayleigh_Experiments/analysis.ipynb\" target=\"_parent\"><img src=\"https://colab.research.google.com/assets/colab-badge.svg\" alt=\"Open In Colab\"/></a>"
      ]
    },
    {
      "cell_type": "code",
      "metadata": {
        "colab": {
          "base_uri": "https://localhost:8080/"
        },
        "id": "2jrbKgOuIEhB",
        "outputId": "cdf178b6-6671-4d5a-9aa7-767d829f8ec5"
      },
      "source": [
        "import sys, os\n",
        "from pathlib import Path\n",
        "path = Path(os.getcwd())\n",
        "sys.path.append(str(path.parent))\n",
        "from google.colab import drive\n",
        "drive.mount('/content/drive')\n",
        "sys.path.append('/content/drive/MyDrive/CertifiableBayesianInference')"
      ],
      "execution_count": null,
      "outputs": [
        {
          "name": "stdout",
          "output_type": "stream",
          "text": [
            "Mounted at /content/drive\n"
          ]
        }
      ]
    },
    {
      "cell_type": "code",
      "metadata": {
        "colab": {
          "background_save": true,
          "base_uri": "https://localhost:8080/"
        },
        "id": "0kOqcjAoKSXP",
        "outputId": "0cd058c3-b306-489b-aff1-35becd687aa2"
      },
      "source": [
        "!/bin/bash /content/drive/MyDrive/CertifiableBayesianInference/CNN_Experiments/runner.sh"
      ],
      "execution_count": null,
      "outputs": [
        {
          "name": "stdout",
          "output_type": "stream",
          "text": [
            "Drive already mounted at /content/drive; to attempt to forcibly remount, call drive.mount(\"/content/drive\", force_remount=True).\n",
            "/usr/local/lib/python3.7/dist-packages/statsmodels/tools/_testing.py:19: FutureWarning: pandas.util.testing is deprecated. Use the functions in the public API at pandas.testing instead.\n",
            "  import pandas.util.testing as tm\n",
            "Downloading data from https://www.cs.toronto.edu/~kriz/cifar-10-python.tar.gz\n",
            "170500096/170498071 [==============================] - 2s 0us/step\n",
            "170508288/170498071 [==============================] - 2s 0us/step\n",
            "tcmalloc: large alloc 1228800000 bytes == 0x56368f186000 @  0x7f37c717d1e7 0x7f37c008e46e 0x7f37c00dec7b 0x7f37c00ded18 0x7f37c019ad79 0x7f37c019de4c 0x7f37c02bce7f 0x7f37c02c2fb5 0x7f37c02c4e3d 0x7f37c02c6516 0x563678657720 0x5636786572f9 0x7f37c01a54d8 0x563678639933 0x563678740496 0x5636786c784a 0x5636786c49ee 0x5636786c46f3 0x56367878e4c2 0x56367878e83d 0x56367878e6e6 0x563678766163 0x563678765e0c 0x7f37c5f67bf7 0x563678765cea\n",
            "2021-11-30 14:17:23.693921: E tensorflow/stream_executor/cuda/cuda_driver.cc:271] failed call to cuInit: CUDA_ERROR_NO_DEVICE: no CUDA-capable device is detected\n",
            "Got flag: NA\n",
            "This optimizer does not have a default compilation method. Please make sure to call the correct .compile method before use.\n",
            "BayesKeras: Using implicit prior\n",
            "(4, 4, 3, 16) 0.22821773229381923\n",
            "(4, 4, 16, 32) 0.09882117688026186\n",
            "(5408, 100) 0.02150065362980567\n",
            "(100, 10) 0.15811388300841897\n",
            "BayesKeras: Using implicit prior\n",
            "(4, 4, 3, 16) 0.22821773229381923\n",
            "(4, 4, 16, 32) 0.09882117688026186\n",
            "(5408, 100) 0.02150065362980567\n",
            "(100, 10) 0.15811388300841897\n",
            "  0% 0/704 [00:00<?, ?it/s]2021-11-30 14:17:23.984720: W tensorflow/core/framework/cpu_allocator_impl.cc:82] Allocation of 1105920000 exceeds 10% of free system memory.\n",
            "/usr/local/lib/python3.7/dist-packages/numpy/core/_asarray.py:83: VisibleDeprecationWarning: Creating an ndarray from ragged nested sequences (which is a list-or-tuple of lists-or-tuples-or ndarrays with different lengths or shapes) is deprecated. If you meant to do this, you must specify 'dtype=object' when creating the ndarray\n",
            "  return array(a, dtype, copy=False, order=order)\n",
            "100% 704/704 [04:22<00:00,  2.68it/s]\n",
            "Epoch 1, loss: 1.835, acc: 0.335, val_loss: 1.478, val_acc: 0.467\n",
            "  0% 0/704 [00:00<?, ?it/s]2021-11-30 14:21:56.952812: W tensorflow/core/framework/cpu_allocator_impl.cc:82] Allocation of 1105920000 exceeds 10% of free system memory.\n",
            "100% 704/704 [04:23<00:00,  2.67it/s]\n",
            "Epoch 2, loss: 1.365, acc: 0.513, val_loss: 1.230, val_acc: 0.560\n",
            "  0% 0/704 [00:00<?, ?it/s]2021-11-30 14:26:30.478230: W tensorflow/core/framework/cpu_allocator_impl.cc:82] Allocation of 1105920000 exceeds 10% of free system memory.\n",
            "100% 704/704 [04:14<00:00,  2.76it/s]\n",
            "Epoch 3, loss: 1.178, acc: 0.581, val_loss: 1.095, val_acc: 0.611\n",
            "  0% 0/704 [00:00<?, ?it/s]2021-11-30 14:30:51.045721: W tensorflow/core/framework/cpu_allocator_impl.cc:82] Allocation of 1105920000 exceeds 10% of free system memory.\n",
            "100% 704/704 [04:13<00:00,  2.77it/s]\n",
            "Epoch 4, loss: 1.072, acc: 0.620, val_loss: 1.095, val_acc: 0.619\n",
            "  0% 0/704 [00:00<?, ?it/s]2021-11-30 14:35:10.681241: W tensorflow/core/framework/cpu_allocator_impl.cc:82] Allocation of 1105920000 exceeds 10% of free system memory.\n",
            "100% 704/704 [04:22<00:00,  2.68it/s]\n",
            "Epoch 5, loss: 0.997, acc: 0.647, val_loss: 1.056, val_acc: 0.634\n",
            "100% 704/704 [04:23<00:00,  2.68it/s]\n",
            "Epoch 6, loss: 0.929, acc: 0.672, val_loss: 1.099, val_acc: 0.624\n",
            "100% 704/704 [04:22<00:00,  2.68it/s]\n",
            "Epoch 7, loss: 0.866, acc: 0.694, val_loss: 1.051, val_acc: 0.652\n",
            "100% 704/704 [04:21<00:00,  2.69it/s]\n",
            "Epoch 8, loss: 0.820, acc: 0.712, val_loss: 1.067, val_acc: 0.656\n",
            "100% 704/704 [04:21<00:00,  2.69it/s]\n",
            "Epoch 9, loss: 0.784, acc: 0.723, val_loss: 1.083, val_acc: 0.665\n",
            "100% 704/704 [04:22<00:00,  2.68it/s]\n",
            "Epoch 10, loss: 0.731, acc: 0.742, val_loss: 1.120, val_acc: 0.650\n",
            "100% 704/704 [04:21<00:00,  2.69it/s]\n",
            "Epoch 11, loss: 0.707, acc: 0.751, val_loss: 1.126, val_acc: 0.663\n",
            "100% 704/704 [04:20<00:00,  2.70it/s]\n",
            "Epoch 12, loss: 0.691, acc: 0.755, val_loss: 1.132, val_acc: 0.660\n",
            "100% 704/704 [04:21<00:00,  2.69it/s]\n",
            "Epoch 13, loss: 0.661, acc: 0.766, val_loss: 1.146, val_acc: 0.666\n",
            "100% 704/704 [04:21<00:00,  2.70it/s]\n",
            "Epoch 14, loss: 0.632, acc: 0.777, val_loss: 1.182, val_acc: 0.667\n",
            "100% 704/704 [04:21<00:00,  2.69it/s]\n",
            "Epoch 15, loss: 0.631, acc: 0.777, val_loss: 1.222, val_acc: 0.663\n",
            "100% 704/704 [04:21<00:00,  2.69it/s]\n",
            "Epoch 16, loss: 0.603, acc: 0.786, val_loss: 1.284, val_acc: 0.662\n",
            "100% 704/704 [04:22<00:00,  2.68it/s]\n",
            "Epoch 17, loss: 0.628, acc: 0.778, val_loss: 1.268, val_acc: 0.659\n",
            "100% 704/704 [04:21<00:00,  2.69it/s]\n",
            "Epoch 18, loss: 0.593, acc: 0.789, val_loss: 1.267, val_acc: 0.662\n",
            "100% 704/704 [04:21<00:00,  2.70it/s]\n",
            "Epoch 19, loss: 0.572, acc: 0.796, val_loss: 1.345, val_acc: 0.659\n",
            "100% 704/704 [04:22<00:00,  2.68it/s]\n",
            "Epoch 20, loss: 0.542, acc: 0.807, val_loss: 1.360, val_acc: 0.664\n",
            "100% 704/704 [04:21<00:00,  2.69it/s]\n",
            "Epoch 21, loss: 0.520, acc: 0.816, val_loss: 1.379, val_acc: 0.662\n",
            "100% 704/704 [04:22<00:00,  2.68it/s]\n",
            "Epoch 22, loss: 0.514, acc: 0.818, val_loss: 1.579, val_acc: 0.640\n",
            "100% 704/704 [04:21<00:00,  2.69it/s]\n",
            "Epoch 23, loss: 0.517, acc: 0.817, val_loss: 1.442, val_acc: 0.652\n",
            "100% 704/704 [04:22<00:00,  2.68it/s]\n",
            "Epoch 24, loss: 0.519, acc: 0.817, val_loss: 1.541, val_acc: 0.642\n",
            "100% 704/704 [04:20<00:00,  2.70it/s]\n",
            "Epoch 25, loss: 0.535, acc: 0.811, val_loss: 1.414, val_acc: 0.657\n",
            "100% 704/704 [04:16<00:00,  2.74it/s]\n",
            "Epoch 26, loss: 0.523, acc: 0.816, val_loss: 1.494, val_acc: 0.656\n",
            "100% 704/704 [04:16<00:00,  2.75it/s]\n",
            "Epoch 27, loss: 0.552, acc: 0.807, val_loss: 1.515, val_acc: 0.655\n",
            "100% 704/704 [04:12<00:00,  2.79it/s]\n",
            "Epoch 28, loss: 0.564, acc: 0.805, val_loss: 1.567, val_acc: 0.646\n",
            "100% 704/704 [04:22<00:00,  2.68it/s]\n",
            "Epoch 29, loss: 0.573, acc: 0.800, val_loss: 1.520, val_acc: 0.650\n",
            "100% 704/704 [04:14<00:00,  2.76it/s]\n",
            "Epoch 30, loss: 0.553, acc: 0.808, val_loss: 1.520, val_acc: 0.656\n",
            "100% 704/704 [04:22<00:00,  2.68it/s]\n",
            "Epoch 31, loss: 0.547, acc: 0.810, val_loss: 1.553, val_acc: 0.655\n",
            "100% 704/704 [04:12<00:00,  2.79it/s]\n",
            "Epoch 32, loss: 0.535, acc: 0.815, val_loss: 1.609, val_acc: 0.639\n",
            "100% 704/704 [04:12<00:00,  2.79it/s]\n",
            "Epoch 33, loss: 0.558, acc: 0.809, val_loss: 1.675, val_acc: 0.642\n",
            "100% 704/704 [04:22<00:00,  2.68it/s]\n",
            "Epoch 34, loss: 0.533, acc: 0.816, val_loss: 1.595, val_acc: 0.645\n",
            "100% 704/704 [04:22<00:00,  2.68it/s]\n",
            "Epoch 35, loss: 0.549, acc: 0.812, val_loss: 1.633, val_acc: 0.650\n",
            "100% 704/704 [04:13<00:00,  2.78it/s]\n",
            "Epoch 36, loss: 0.564, acc: 0.807, val_loss: 1.585, val_acc: 0.647\n",
            "100% 704/704 [04:22<00:00,  2.68it/s]\n",
            "Epoch 37, loss: 0.593, acc: 0.799, val_loss: 1.615, val_acc: 0.640\n",
            "100% 704/704 [04:22<00:00,  2.68it/s]\n",
            "Epoch 38, loss: 0.591, acc: 0.800, val_loss: 1.533, val_acc: 0.643\n",
            "100% 704/704 [04:22<00:00,  2.68it/s]\n",
            "Epoch 39, loss: 0.576, acc: 0.804, val_loss: 1.458, val_acc: 0.652\n",
            "100% 704/704 [04:22<00:00,  2.68it/s]\n"
          ]
        }
      ]
    }
  ]
}