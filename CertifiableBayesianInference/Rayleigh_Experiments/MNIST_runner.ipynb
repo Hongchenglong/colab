{
  "nbformat": 4,
  "nbformat_minor": 0,
  "metadata": {
    "colab": {
      "name": "MNIST_runner.ipynb",
      "provenance": [],
      "authorship_tag": "ABX9TyNPAInSDf86cEQPiTx2nChf",
      "include_colab_link": true
    },
    "kernelspec": {
      "name": "python3",
      "display_name": "Python 3"
    },
    "language_info": {
      "name": "python"
    }
  },
  "cells": [
    {
      "cell_type": "markdown",
      "metadata": {
        "id": "view-in-github",
        "colab_type": "text"
      },
      "source": [
        "<a href=\"https://colab.research.google.com/github/Hongchenglong/colab/blob/main/CertifiableBayesianInference/Rayleigh_Experiments/MNIST_runner.ipynb\" target=\"_parent\"><img src=\"https://colab.research.google.com/assets/colab-badge.svg\" alt=\"Open In Colab\"/></a>"
      ]
    },
    {
      "cell_type": "code",
      "metadata": {
        "id": "HdQnD5RvlNhk"
      },
      "source": [
        "from google.colab import drive\n",
        "drive.mount('/content/drive')"
      ],
      "execution_count": null,
      "outputs": []
    },
    {
      "cell_type": "code",
      "metadata": {
        "colab": {
          "base_uri": "https://localhost:8080/"
        },
        "id": "lMzYBjBZNjOI",
        "outputId": "ed61e2a9-eb26-435e-97e6-d6345b23e502"
      },
      "source": [
        "import sys, os\n",
        "from pathlib import Path\n",
        "path = Path(os.getcwd())\n",
        "sys.path.append(str(path.parent))\n",
        "sys.path.append('/content/drive/MyDrive/CertifiableBayesianInference')\n",
        "experiment = '/content/drive/MyDrive/Colab Notebooks/Rayleigh_Experiments/'\n",
        "print(sys.path)"
      ],
      "execution_count": null,
      "outputs": [
        {
          "output_type": "stream",
          "name": "stdout",
          "text": [
            "Mounted at /content/drive\n",
            "['', '/content', '/env/python', '/usr/lib/python37.zip', '/usr/lib/python3.7', '/usr/lib/python3.7/lib-dynload', '/usr/local/lib/python3.7/dist-packages', '/usr/lib/python3/dist-packages', '/usr/local/lib/python3.7/dist-packages/IPython/extensions', '/root/.ipython', '/', '/content/drive/MyDrive/CertifiableBayesianInference']\n"
          ]
        }
      ]
    },
    {
      "cell_type": "code",
      "metadata": {
        "colab": {
          "base_uri": "https://localhost:8080/"
        },
        "id": "T_vdLxAn0fPn",
        "outputId": "5e1ad747-af46-4236-fbd3-48e245404e95"
      },
      "source": [
        "# Author: Matthew Wicker\n",
        "\n",
        "# Description: Minimal working example of training and saving\n",
        "# a BNN trained with Bayes by backprop (BBB)\n",
        "# can handle any Keras model\n",
        "# 描述：训练和保存的最小工作示例\n",
        "# 通过反向传播（BBB）用贝叶斯训练的 BNN\n",
        "# 可以处理任何 Keras 模型\n",
        "# import sys, os\n",
        "# from pathlib import Path\n",
        "# path = Path(os.getcwd())\n",
        "# sys.path.append(str(path.parent))\n",
        "\n",
        "# 作者封装的BayesKeras模块\n",
        "import BayesKeras\n",
        "import BayesKeras.optimizers as optimizers\n",
        "\n",
        "import tensorflow as tf\n",
        "from tensorflow.keras.models import *\n",
        "from tensorflow.keras.layers import *\n",
        "\n",
        "#tf.debugging.set_log_device_placement(True)\n",
        "#os.environ['CUDA_VISIBLE_DEVICES'] = '-1'\n",
        "\n",
        "# 引入shell指令的参数\n",
        "# import argparse\n",
        "# parser = argparse.ArgumentParser()\n",
        "# parser.add_argument(\"--eps\")\n",
        "# parser.add_argument(\"--lam\")\n",
        "# parser.add_argument(\"--rob\")\n",
        "# parser.add_argument(\"--gpu\", nargs='?', default='0,1,2,3,4,5')\n",
        "# parser.add_argument(\"--opt\")\n",
        "\n",
        "# args = parser.parse_args()\n",
        "# eps = float(args.eps)\n",
        "# lam = float(args.lam)\n",
        "# optim = str(args.opt)\n",
        "# rob = int(args.rob)\n",
        "# gpu = str(args.gpu)\n",
        "eps = 0.11\n",
        "lam = 0.25\n",
        "rob = 5\n",
        "optim = 'SWAG'\n",
        "gpu = '3'\n",
        "os.environ['CUDA_VISIBLE_DEVICES'] = gpu\n",
        "\n",
        "# 划分训练集，测试集\n",
        "(X_train, y_train), (X_test, y_test) = tf.keras.datasets.mnist.load_data()\n",
        "X_train = X_train/255.\n",
        "X_test = X_test/255.\n",
        "X_train = X_train.astype(\"float32\").reshape(-1, 28*28)\n",
        "X_test = X_test.astype(\"float32\").reshape(-1, 28*28)\n",
        "\n",
        "#X_train = X_train[0:10000]\n",
        "#y_train = y_train[0:10000]\n",
        "\n",
        "# 构建Sequential模型\n",
        "model = Sequential()\n",
        "# 构建第Dense隐藏层并添加到模型中\n",
        "# 添加具有512个神经元的Dense隐藏层，使用relu激活函数\n",
        "model.add(Dense(512, activation=\"relu\" #, input_shape=(1, 28*28)\n",
        "))\n",
        "# 添加具有10个神经元的Dense隐藏层，使用softmax激活函数\n",
        "model.add(Dense(10, activation=\"softmax\"))\n",
        "\n",
        "inf = 2\n",
        "full_covar = False\n",
        "if(optim == 'VOGN'):\n",
        "    # was 0.25 for a bit  \n",
        "    inf = 2\n",
        "    learning_rate = 0.35; decay=0.0\n",
        "    opt = optimizers.VariationalOnlineGuassNewton()\n",
        "elif(optim == 'BBB'):\n",
        "    inf = 10\n",
        "    learning_rate = 0.45; decay=0.0\n",
        "    opt = optimizers.BayesByBackprop()\n",
        "elif(optim == 'SWAG'):\n",
        "    learning_rate = 0.1; decay=0.0\n",
        "    # 优化器.随机加权平均高斯\n",
        "    opt = optimizers.StochasticWeightAveragingGaussian()\n",
        "elif(optim == 'SWAG-FC'):\n",
        "    learning_rate = 0.01; decay=0.0; full_covar=True\n",
        "    opt = optimizers.StochasticWeightAveragingGaussian()\n",
        "elif(optim == 'SGD'):\n",
        "    learning_rate = 1.0; decay=0.0\n",
        "    opt = optimizers.StochasticGradientDescent()\n",
        "elif(optim == 'NA'):\n",
        "    inf = 2\n",
        "    learning_rate = 0.001; decay=0.0\n",
        "    opt = optimizers.NoisyAdam()\n",
        "elif(optim == 'ADAM'):\n",
        "    learning_rate = 0.00001; decay=0.0\n",
        "    opt = optimizers.Adam()\n",
        "elif(optim == 'HMC'):\n",
        "    learning_rate = 0.075; decay=0.0; inf=250\n",
        "    linear_schedule = False\n",
        "    opt = optimizers.HamiltonianMonteCarlo()\n",
        "\n",
        "# Compile the model to train with Bayesian inference\n",
        "# 编译模型以使用贝叶斯推理进行训练\n",
        "if(rob == 0 or rob == 5 or rob == 6):\n",
        "    loss = tf.keras.losses.SparseCategoricalCrossentropy()\n",
        "elif(rob != 0):\n",
        "    loss = BayesKeras.optimizers.losses.robust_crossentropy_loss\n",
        "\n",
        "bayes_model = opt.compile(model, loss_fn=loss, epochs=20, learning_rate=learning_rate,\n",
        "                          batch_size=128, linear_schedule=True,\n",
        "                          decay=decay, robust_train=rob, inflate_prior=inf,\n",
        "                          burn_in=3, steps=25, b_steps=20, epsilon=eps, rob_lam=lam) #, preload=\"SGD_FCN_Posterior_1\")"
      ],
      "execution_count": null,
      "outputs": [
        {
          "output_type": "stream",
          "name": "stdout",
          "text": [
            "This optimizer does not have a default compilation method. Please make sure to call the correct .compile method before use.\n",
            "BayesKeras: Using implicit prior\n",
            "BayesKeras: Using implicit prior\n",
            "BayesKeras: Detected robust training at compilation. Please ensure you have selected a robust-compatible loss\n"
          ]
        }
      ]
    },
    {
      "cell_type": "code",
      "metadata": {
        "colab": {
          "base_uri": "https://localhost:8080/"
        },
        "id": "Qx3MChwdOa_a",
        "outputId": "cbfcd9ae-4943-475e-dfa0-ef5cc8b148fc"
      },
      "source": [
        "# steps was 50\n",
        "# Train the model on your data\n",
        "bayes_model.train(X_train, y_train, X_test, y_test)"
      ],
      "execution_count": null,
      "outputs": [
        {
          "output_type": "stream",
          "name": "stderr",
          "text": [
            "100%|██████████| 469/469 [00:41<00:00, 11.42it/s]\n"
          ]
        },
        {
          "output_type": "stream",
          "name": "stdout",
          "text": [
            "Epoch 1, loss: 0.366, acc: 0.945, val_loss: 0.144, val_acc: 0.957, rob: 0.890, (eps = 0.000100)\n"
          ]
        },
        {
          "output_type": "stream",
          "name": "stderr",
          "text": [
            "100%|██████████| 469/469 [00:28<00:00, 16.23it/s]\n"
          ]
        },
        {
          "output_type": "stream",
          "name": "stdout",
          "text": [
            "Epoch 2, loss: 0.154, acc: 0.959, val_loss: 0.139, val_acc: 0.962, rob: 0.901, (eps = 0.001102)\n"
          ]
        },
        {
          "output_type": "stream",
          "name": "stderr",
          "text": [
            "100%|██████████| 469/469 [00:29<00:00, 16.15it/s]\n"
          ]
        },
        {
          "output_type": "stream",
          "name": "stdout",
          "text": [
            "Epoch 3, loss: 0.151, acc: 0.963, val_loss: 0.141, val_acc: 0.965, rob: 0.909, (eps = 0.002105)\n"
          ]
        },
        {
          "output_type": "stream",
          "name": "stderr",
          "text": [
            "100%|██████████| 469/469 [00:28<00:00, 16.21it/s]\n"
          ]
        },
        {
          "output_type": "stream",
          "name": "stdout",
          "text": [
            "Epoch 4, loss: 0.152, acc: 0.967, val_loss: 0.145, val_acc: 0.967, rob: 0.915, (eps = 0.003107)\n"
          ]
        },
        {
          "output_type": "stream",
          "name": "stderr",
          "text": [
            "100%|██████████| 469/469 [00:41<00:00, 11.42it/s]\n"
          ]
        },
        {
          "output_type": "stream",
          "name": "stdout",
          "text": [
            "Epoch 5, loss: 0.156, acc: 0.969, val_loss: 0.150, val_acc: 0.969, rob: 0.919, (eps = 0.004110)\n"
          ]
        },
        {
          "output_type": "stream",
          "name": "stderr",
          "text": [
            "100%|██████████| 469/469 [00:29<00:00, 16.00it/s]\n"
          ]
        },
        {
          "output_type": "stream",
          "name": "stdout",
          "text": [
            "Epoch 6, loss: 0.162, acc: 0.971, val_loss: 0.156, val_acc: 0.970, rob: 0.922, (eps = 0.005112)\n"
          ]
        },
        {
          "output_type": "stream",
          "name": "stderr",
          "text": [
            "100%|██████████| 469/469 [00:29<00:00, 15.85it/s]\n"
          ]
        },
        {
          "output_type": "stream",
          "name": "stdout",
          "text": [
            "Epoch 7, loss: 0.168, acc: 0.972, val_loss: 0.162, val_acc: 0.971, rob: 0.925, (eps = 0.006115)\n"
          ]
        },
        {
          "output_type": "stream",
          "name": "stderr",
          "text": [
            "100%|██████████| 469/469 [00:41<00:00, 11.42it/s]\n"
          ]
        },
        {
          "output_type": "stream",
          "name": "stdout",
          "text": [
            "Epoch 8, loss: 0.172, acc: 0.973, val_loss: 0.167, val_acc: 0.970, rob: 0.927, (eps = 0.007117)\n"
          ]
        },
        {
          "output_type": "stream",
          "name": "stderr",
          "text": [
            "100%|██████████| 469/469 [00:29<00:00, 16.10it/s]\n"
          ]
        },
        {
          "output_type": "stream",
          "name": "stdout",
          "text": [
            "Epoch 9, loss: 0.175, acc: 0.974, val_loss: 0.173, val_acc: 0.971, rob: 0.928, (eps = 0.008120)\n"
          ]
        },
        {
          "output_type": "stream",
          "name": "stderr",
          "text": [
            "100%|██████████| 469/469 [00:41<00:00, 11.42it/s]\n"
          ]
        },
        {
          "output_type": "stream",
          "name": "stdout",
          "text": [
            "Epoch 10, loss: 0.189, acc: 0.974, val_loss: 0.177, val_acc: 0.971, rob: 0.929, (eps = 0.009122)\n"
          ]
        },
        {
          "output_type": "stream",
          "name": "stderr",
          "text": [
            "100%|██████████| 469/469 [00:29<00:00, 16.07it/s]\n"
          ]
        },
        {
          "output_type": "stream",
          "name": "stdout",
          "text": [
            "Epoch 11, loss: 0.186, acc: 0.975, val_loss: 0.184, val_acc: 0.970, rob: 0.930, (eps = 0.010125)\n"
          ]
        },
        {
          "output_type": "stream",
          "name": "stderr",
          "text": [
            "100%|██████████| 469/469 [00:41<00:00, 11.42it/s]\n"
          ]
        },
        {
          "output_type": "stream",
          "name": "stdout",
          "text": [
            "Epoch 12, loss: 0.197, acc: 0.975, val_loss: 0.187, val_acc: 0.971, rob: 0.931, (eps = 0.011127)\n"
          ]
        },
        {
          "output_type": "stream",
          "name": "stderr",
          "text": [
            "100%|██████████| 469/469 [00:41<00:00, 11.42it/s]\n"
          ]
        },
        {
          "output_type": "stream",
          "name": "stdout",
          "text": [
            "Epoch 13, loss: 0.197, acc: 0.975, val_loss: 0.191, val_acc: 0.971, rob: 0.931, (eps = 0.012130)\n"
          ]
        },
        {
          "output_type": "stream",
          "name": "stderr",
          "text": [
            "100%|██████████| 469/469 [00:41<00:00, 11.42it/s]\n"
          ]
        },
        {
          "output_type": "stream",
          "name": "stdout",
          "text": [
            "Epoch 14, loss: 0.215, acc: 0.975, val_loss: 0.195, val_acc: 0.971, rob: 0.932, (eps = 0.013132)\n"
          ]
        },
        {
          "output_type": "stream",
          "name": "stderr",
          "text": [
            "100%|██████████| 469/469 [00:41<00:00, 11.42it/s]\n"
          ]
        },
        {
          "output_type": "stream",
          "name": "stdout",
          "text": [
            "Epoch 15, loss: 0.215, acc: 0.975, val_loss: 0.199, val_acc: 0.971, rob: 0.932, (eps = 0.014135)\n"
          ]
        },
        {
          "output_type": "stream",
          "name": "stderr",
          "text": [
            "100%|██████████| 469/469 [00:41<00:00, 11.42it/s]\n"
          ]
        },
        {
          "output_type": "stream",
          "name": "stdout",
          "text": [
            "Epoch 16, loss: 0.215, acc: 0.976, val_loss: 0.202, val_acc: 0.972, rob: 0.932, (eps = 0.015137)\n"
          ]
        },
        {
          "output_type": "stream",
          "name": "stderr",
          "text": [
            "100%|██████████| 469/469 [00:28<00:00, 16.54it/s]\n"
          ]
        },
        {
          "output_type": "stream",
          "name": "stdout",
          "text": [
            "Epoch 17, loss: 0.216, acc: 0.976, val_loss: 0.206, val_acc: 0.971, rob: 0.933, (eps = 0.016140)\n"
          ]
        },
        {
          "output_type": "stream",
          "name": "stderr",
          "text": [
            "100%|██████████| 469/469 [00:28<00:00, 16.73it/s]\n"
          ]
        },
        {
          "output_type": "stream",
          "name": "stdout",
          "text": [
            "Epoch 18, loss: 0.220, acc: 0.976, val_loss: 0.210, val_acc: 0.971, rob: 0.933, (eps = 0.017142)\n"
          ]
        },
        {
          "output_type": "stream",
          "name": "stderr",
          "text": [
            "100%|██████████| 469/469 [00:28<00:00, 16.71it/s]\n"
          ]
        },
        {
          "output_type": "stream",
          "name": "stdout",
          "text": [
            "Epoch 19, loss: 0.220, acc: 0.976, val_loss: 0.214, val_acc: 0.972, rob: 0.933, (eps = 0.018145)\n"
          ]
        },
        {
          "output_type": "stream",
          "name": "stderr",
          "text": [
            "100%|██████████| 469/469 [00:27<00:00, 16.83it/s]\n"
          ]
        },
        {
          "output_type": "stream",
          "name": "stdout",
          "text": [
            "Epoch 20, loss: 0.235, acc: 0.976, val_loss: 0.217, val_acc: 0.972, rob: 0.933, (eps = 0.019147)\n"
          ]
        },
        {
          "output_type": "stream",
          "name": "stderr",
          "text": [
            "100%|██████████| 469/469 [00:41<00:00, 11.42it/s]\n"
          ]
        },
        {
          "output_type": "stream",
          "name": "stdout",
          "text": [
            "Epoch 21, loss: 0.246, acc: 0.976, val_loss: 0.224, val_acc: 0.971, rob: 0.933, (eps = 0.020150)\n"
          ]
        },
        {
          "output_type": "stream",
          "name": "stderr",
          "text": [
            "100%|██████████| 469/469 [00:28<00:00, 16.54it/s]\n"
          ]
        },
        {
          "output_type": "stream",
          "name": "stdout",
          "text": [
            "Epoch 22, loss: 0.250, acc: 0.976, val_loss: 0.224, val_acc: 0.971, rob: 0.933, (eps = 0.021152)\n"
          ]
        },
        {
          "output_type": "stream",
          "name": "stderr",
          "text": [
            "100%|██████████| 469/469 [00:30<00:00, 15.30it/s]\n"
          ]
        },
        {
          "output_type": "stream",
          "name": "stdout",
          "text": [
            "Epoch 23, loss: 0.239, acc: 0.976, val_loss: 0.232, val_acc: 0.972, rob: 0.933, (eps = 0.022155)\n"
          ]
        }
      ]
    },
    {
      "cell_type": "code",
      "metadata": {
        "colab": {
          "base_uri": "https://localhost:8080/"
        },
        "id": "Q8y0S26xYCFS",
        "outputId": "367dba92-c464-4839-f269-d0c8690d2c3a"
      },
      "source": [
        "# Save your approxiate Bayesian posterior\n",
        "bayes_model.save(experiment + \"%s_FCN_Posterior_%s\"%(optim, rob))"
      ],
      "execution_count": null,
      "outputs": [
        {
          "output_type": "stream",
          "name": "stderr",
          "text": [
            "/usr/local/lib/python3.7/dist-packages/numpy/core/_asarray.py:83: VisibleDeprecationWarning: Creating an ndarray from ragged nested sequences (which is a list-or-tuple of lists-or-tuples-or ndarrays with different lengths or shapes) is deprecated. If you meant to do this, you must specify 'dtype=object' when creating the ndarray\n",
            "  return array(a, dtype, copy=False, order=order)\n"
          ]
        },
        {
          "output_type": "stream",
          "name": "stdout",
          "text": [
            "WARNING:tensorflow:Compiled the loaded model, but the compiled metrics have yet to be built. `model.compile_metrics` will be empty until you train or evaluate the model.\n"
          ]
        }
      ]
    },
    {
      "cell_type": "code",
      "metadata": {
        "id": "coSk0dEmOw2Q",
        "colab": {
          "base_uri": "https://localhost:8080/"
        },
        "outputId": "14508cf4-1a1c-445b-d195-a99859acb0c2"
      },
      "source": [
        "!ls"
      ],
      "execution_count": null,
      "outputs": [
        {
          "output_type": "stream",
          "name": "stdout",
          "text": [
            "sample_data\n"
          ]
        }
      ]
    },
    {
      "cell_type": "code",
      "metadata": {
        "id": "A6evsxXnycRM"
      },
      "source": [
        ""
      ],
      "execution_count": null,
      "outputs": []
    }
  ]
}