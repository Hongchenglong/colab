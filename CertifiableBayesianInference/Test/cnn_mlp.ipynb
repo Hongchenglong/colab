{
 "cells": [
  {
   "cell_type": "code",
   "execution_count": 1,
   "metadata": {
    "ExecuteTime": {
     "end_time": "2021-12-25T08:03:49.320427Z",
     "start_time": "2021-12-25T08:03:49.300462Z"
    }
   },
   "outputs": [],
   "source": [
    "def cnn_mlp(train_x1, train_x2, train_y):\n",
    "    # cnn和mlp网络进行组合\n",
    "    # x1是40000长度的内容特征,x2是2500长度的文件特征\n",
    "    tf.keras.backend.clear_session()\n",
    "    # train_x1=np.reshape(train_x1, (-1, 200, 200))\n",
    "    input1 = layers.Input(shape=(200, 200))\n",
    "    input2 = layers.Input(shape=2500)\n",
    "    x1 = layers.Conv1D(16, kernel_size=5, name=\"conv_1\", activation=\"relu\")(input1)\n",
    "    x1 = layers.MaxPool1D(name=\"maxpool1\")(x1)\n",
    "    x1 = layers.Conv1D(128, kernel_size=2, name=\"conv_2\", activation=\"relu\")(x1)\n",
    "    x1 = layers.MaxPool1D(name=\"maxpool2\")(x1)\n",
    "    x1 = layers.Flatten()(x1)\n",
    "    x2 = layers.Dense(1200, activation='tanh')(input2)\n",
    "    c = layers.concatenate([x1, x2], axis=1)\n",
    "    c = layers.Dense(600, activation='sigmoid')(c)\n",
    "    c = layers.Dense(300, activation='sigmoid')(c)\n",
    "    c = layers.Dense(150, activation='sigmoid')(c)\n",
    "    c = layers.Dense(60, activation='sigmoid')(c)\n",
    "    outputs = layers.Dense(10, activation='softmax')(c)\n",
    "    model = models.Model(inputs=[input1, input2], outputs=outputs)\n",
    "    model.summary()\n",
    "\n",
    "    import datetime\n",
    "    import os\n",
    "\n",
    "    stamp = datetime.datetime.now().strftime(\"%Y%m%d-%H%M%S\")\n",
    "\n",
    "    # 在 Python3 下建议使用 pathlib 修正各操作系统的路径\n",
    "    from pathlib import Path\n",
    "    stamp = datetime.datetime.now().strftime(\"%Y%m%d-%H%M%S\")\n",
    "    logdir = str(Path('./data/autograph/' + stamp))\n",
    "\n",
    "    tensorboard_callback = tf.keras.callbacks.TensorBoard(logdir, histogram_freq=1)\n",
    "\n",
    "    model.compile(\n",
    "        optimizer=tf.keras.optimizers.Adam(learning_rate=0.001),\n",
    "        loss=tf.keras.losses.categorical_crossentropy,\n",
    "        metrics=[\"accuracy\", \"Recall\", \"Precision\", \"AUC\"]\n",
    "\n",
    "    )\n",
    "\n",
    "    history = model.fit([train_x1, train_x2], train_y, epochs=30, validation_split=0.2,\n",
    "                        callbacks=[tensorboard_callback], workers=4, shuffle=True)\n",
    "\n",
    "    return model\n"
   ]
  },
  {
   "cell_type": "code",
   "execution_count": 3,
   "metadata": {
    "ExecuteTime": {
     "end_time": "2021-12-25T08:05:05.468017Z",
     "start_time": "2021-12-25T08:04:56.838094Z"
    }
   },
   "outputs": [],
   "source": [
    "import numpy as np\n",
    "import matplotlib.pyplot as plt\n",
    "\n",
    "import tensorflow as tf\n",
    "\n",
    "dataset = \"fmnist\"\n",
    "(X_train, y_train), (X_test, y_test) = tf.keras.datasets.fashion_mnist.load_data()\n",
    "\n",
    "# 归一化\n",
    "X_train = X_train / 255.\n",
    "X_test = X_test / 255."
   ]
  },
  {
   "cell_type": "code",
   "execution_count": null,
   "metadata": {},
   "outputs": [],
   "source": []
  }
 ],
 "metadata": {
  "kernelspec": {
   "display_name": "CertifiableBayesianInference",
   "language": "python",
   "name": "certifiablebayesianinference"
  },
  "language_info": {
   "codemirror_mode": {
    "name": "ipython",
    "version": 3
   },
   "file_extension": ".py",
   "mimetype": "text/x-python",
   "name": "python",
   "nbconvert_exporter": "python",
   "pygments_lexer": "ipython3",
   "version": "3.7.12"
  },
  "toc": {
   "base_numbering": 1,
   "nav_menu": {},
   "number_sections": true,
   "sideBar": true,
   "skip_h1_title": false,
   "title_cell": "Table of Contents",
   "title_sidebar": "Contents",
   "toc_cell": false,
   "toc_position": {},
   "toc_section_display": true,
   "toc_window_display": false
  },
  "varInspector": {
   "cols": {
    "lenName": 16,
    "lenType": 16,
    "lenVar": 40
   },
   "kernels_config": {
    "python": {
     "delete_cmd_postfix": "",
     "delete_cmd_prefix": "del ",
     "library": "var_list.py",
     "varRefreshCmd": "print(var_dic_list())"
    },
    "r": {
     "delete_cmd_postfix": ") ",
     "delete_cmd_prefix": "rm(",
     "library": "var_list.r",
     "varRefreshCmd": "cat(var_dic_list()) "
    }
   },
   "types_to_exclude": [
    "module",
    "function",
    "builtin_function_or_method",
    "instance",
    "_Feature"
   ],
   "window_display": false
  }
 },
 "nbformat": 4,
 "nbformat_minor": 4
}
