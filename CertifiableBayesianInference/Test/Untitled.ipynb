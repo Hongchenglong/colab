{
 "cells": [
  {
   "cell_type": "code",
   "execution_count": 1,
   "metadata": {
    "ExecuteTime": {
     "end_time": "2021-12-26T07:54:57.987830Z",
     "start_time": "2021-12-26T07:54:51.699741Z"
    }
   },
   "outputs": [],
   "source": [
    "import torch\n",
    "import numpy as np\n",
    "from numpy import sin,cos"
   ]
  },
  {
   "cell_type": "markdown",
   "metadata": {},
   "source": [
    "定义训练集"
   ]
  },
  {
   "cell_type": "code",
   "execution_count": 2,
   "metadata": {
    "ExecuteTime": {
     "end_time": "2021-12-26T07:55:00.390260Z",
     "start_time": "2021-12-26T07:55:00.176397Z"
    },
    "code_folding": []
   },
   "outputs": [],
   "source": [
    "train_x=[]\n",
    "train_y=[]\n",
    "for x1 in np.linspace(-1,1,100):\n",
    "    for x2 in np.linspace(-1,1,100):\n",
    "        train_x.append([x1,x2])\n",
    "        train_y.append([sin(x1)**3+cos(x2)])\n",
    "train_x=torch.Tensor(train_x)\n",
    "train_y=torch.Tensor(train_y)\n"
   ]
  },
  {
   "cell_type": "code",
   "execution_count": 16,
   "metadata": {
    "ExecuteTime": {
     "end_time": "2021-12-27T05:58:41.632949Z",
     "start_time": "2021-12-27T05:58:41.622919Z"
    }
   },
   "outputs": [
    {
     "name": "stdout",
     "output_type": "stream",
     "text": [
      "torch.Size([10000, 2])\n"
     ]
    },
    {
     "data": {
      "text/plain": [
       "tensor([-1., -1.])"
      ]
     },
     "execution_count": 16,
     "metadata": {},
     "output_type": "execute_result"
    }
   ],
   "source": [
    "print(train_x.shape)\n",
    "train_x[0]"
   ]
  },
  {
   "cell_type": "code",
   "execution_count": 17,
   "metadata": {
    "ExecuteTime": {
     "end_time": "2021-12-27T05:59:03.747366Z",
     "start_time": "2021-12-27T05:59:03.737368Z"
    }
   },
   "outputs": [
    {
     "name": "stdout",
     "output_type": "stream",
     "text": [
      "torch.Size([10000, 1])\n"
     ]
    },
    {
     "data": {
      "text/plain": [
       "tensor([-0.0555])"
      ]
     },
     "execution_count": 17,
     "metadata": {},
     "output_type": "execute_result"
    }
   ],
   "source": [
    "print(train_y.shape)\n",
    "train_y[0]"
   ]
  },
  {
   "cell_type": "markdown",
   "metadata": {},
   "source": [
    "定义网络"
   ]
  },
  {
   "cell_type": "code",
   "execution_count": 18,
   "metadata": {
    "ExecuteTime": {
     "end_time": "2021-12-27T05:59:29.807666Z",
     "start_time": "2021-12-27T05:59:29.746586Z"
    }
   },
   "outputs": [],
   "source": [
    "class Net(torch.nn.Module):\n",
    "    def __init__(self,input_dim):\n",
    "        super(Net,self).__init__()\n",
    "        self.w1=torch.nn.Linear(input_dim,64)\n",
    "        self.w2=torch.nn.Linear(64,1)\n",
    "    def forward(self,x):\n",
    "        x=torch.relu(self.w1(x))\n",
    "        return self.w2(x)"
   ]
  },
  {
   "cell_type": "markdown",
   "metadata": {},
   "source": [
    "建立网络，定义优化器和损失函数"
   ]
  },
  {
   "cell_type": "code",
   "execution_count": 22,
   "metadata": {
    "ExecuteTime": {
     "end_time": "2021-12-27T06:02:40.819956Z",
     "start_time": "2021-12-27T06:02:40.760955Z"
    }
   },
   "outputs": [
    {
     "name": "stdout",
     "output_type": "stream",
     "text": [
      "Net(\n",
      "  (w1): Linear(in_features=2, out_features=64, bias=True)\n",
      "  (w2): Linear(in_features=64, out_features=1, bias=True)\n",
      ")\n",
      "Adam (\n",
      "Parameter Group 0\n",
      "    amsgrad: False\n",
      "    betas: (0.9, 0.999)\n",
      "    eps: 1e-08\n",
      "    lr: 0.001\n",
      "    weight_decay: 0\n",
      ")\n"
     ]
    },
    {
     "data": {
      "text/plain": [
       "MSELoss()"
      ]
     },
     "execution_count": 22,
     "metadata": {},
     "output_type": "execute_result"
    }
   ],
   "source": [
    "net=Net(2)\n",
    "print(net)\n",
    "opt=torch.optim.Adam(net.parameters())\n",
    "print(opt)\n",
    "MSE=torch.nn.MSELoss()\n",
    "MSE"
   ]
  },
  {
   "cell_type": "code",
   "execution_count": 23,
   "metadata": {
    "ExecuteTime": {
     "end_time": "2021-12-27T06:04:45.327758Z",
     "start_time": "2021-12-27T06:04:43.657219Z"
    }
   },
   "outputs": [
    {
     "name": "stdout",
     "output_type": "stream",
     "text": [
      "tensor([[0.2908],\n",
      "        [0.2956],\n",
      "        [0.2997],\n",
      "        ...,\n",
      "        [1.2934],\n",
      "        [1.2971],\n",
      "        [1.3005]], grad_fn=<AddmmBackward>)\n",
      "tensor(0.0314, grad_fn=<MseLossBackward>)\n"
     ]
    }
   ],
   "source": [
    "for i in range(100):\n",
    "    out=net(train_x)\n",
    "    loss=MSE(out,train_y)\n",
    "    opt.zero_grad()\n",
    "    loss.backward()\n",
    "    opt.step()\n",
    "\n",
    "print(out)\n",
    "print(loss)"
   ]
  },
  {
   "cell_type": "code",
   "execution_count": 25,
   "metadata": {
    "ExecuteTime": {
     "end_time": "2021-12-27T06:09:04.862724Z",
     "start_time": "2021-12-27T06:09:04.819723Z"
    }
   },
   "outputs": [
    {
     "name": "stdout",
     "output_type": "stream",
     "text": [
      "tensor([[0.2860],\n",
      "        [0.2907],\n",
      "        [0.2948],\n",
      "        ...,\n",
      "        [1.2970],\n",
      "        [1.3007],\n",
      "        [1.3041]], grad_fn=<AddmmBackward>)\n",
      "tensor([[-0.0555],\n",
      "        [-0.0386],\n",
      "        [-0.0220],\n",
      "        ...,\n",
      "        [ 1.1697],\n",
      "        [ 1.1530],\n",
      "        [ 1.1361]])\n"
     ]
    },
    {
     "data": {
      "text/plain": [
       "tensor(0.0310, grad_fn=<MseLossBackward>)"
      ]
     },
     "execution_count": 25,
     "metadata": {},
     "output_type": "execute_result"
    }
   ],
   "source": [
    "net.eval()\n",
    "error=MSE(net(train_x),train_y)\n",
    "print(net(train_x))\n",
    "print(train_y)\n",
    "error"
   ]
  },
  {
   "cell_type": "code",
   "execution_count": 13,
   "metadata": {
    "ExecuteTime": {
     "end_time": "2021-12-27T05:57:25.414707Z",
     "start_time": "2021-12-27T05:57:25.288710Z"
    }
   },
   "outputs": [
    {
     "name": "stdout",
     "output_type": "stream",
     "text": [
      "torch.Size([10000, 1])\n"
     ]
    }
   ],
   "source": [
    "res=Net(2)\n",
    "opt=torch.optim.Adam(res.parameters())\n",
    "for i in range(100):\n",
    "    out=res(train_x)\n",
    "    print(out)\n",
    "    # 残差\n",
    "    loss=MSE(out,train_y-net(train_x))\n",
    "    opt.zero_grad()\n",
    "    loss.backward()\n",
    "    opt.step()"
   ]
  },
  {
   "cell_type": "code",
   "execution_count": 8,
   "metadata": {
    "ExecuteTime": {
     "end_time": "2021-12-26T07:55:08.020279Z",
     "start_time": "2021-12-26T07:55:07.930301Z"
    }
   },
   "outputs": [
    {
     "data": {
      "text/plain": [
       "tensor(0.0107, grad_fn=<MseLossBackward>)"
      ]
     },
     "execution_count": 8,
     "metadata": {},
     "output_type": "execute_result"
    }
   ],
   "source": [
    "res.eval()\n",
    "res_error=MSE(net(train_x)+res(train_x),train_y)\n",
    "res_error"
   ]
  },
  {
   "cell_type": "code",
   "execution_count": 9,
   "metadata": {
    "ExecuteTime": {
     "end_time": "2021-12-26T07:55:08.068277Z",
     "start_time": "2021-12-26T07:55:08.040281Z"
    }
   },
   "outputs": [
    {
     "data": {
      "text/plain": [
       "tensor([[0.2009],\n",
       "        [0.2077],\n",
       "        [0.2144],\n",
       "        ...,\n",
       "        [1.1979],\n",
       "        [1.1904],\n",
       "        [1.1821]], grad_fn=<AddBackward0>)"
      ]
     },
     "execution_count": 9,
     "metadata": {},
     "output_type": "execute_result"
    }
   ],
   "source": [
    "pred=net(train_x)+res(train_x)\n",
    "pred"
   ]
  },
  {
   "cell_type": "code",
   "execution_count": 10,
   "metadata": {
    "ExecuteTime": {
     "end_time": "2021-12-26T07:55:08.116280Z",
     "start_time": "2021-12-26T07:55:08.103280Z"
    }
   },
   "outputs": [
    {
     "data": {
      "text/plain": [
       "tensor([[-0.0555],\n",
       "        [-0.0386],\n",
       "        [-0.0220],\n",
       "        ...,\n",
       "        [ 1.1697],\n",
       "        [ 1.1530],\n",
       "        [ 1.1361]])"
      ]
     },
     "execution_count": 10,
     "metadata": {},
     "output_type": "execute_result"
    }
   ],
   "source": [
    "train_y"
   ]
  },
  {
   "cell_type": "code",
   "execution_count": null,
   "metadata": {},
   "outputs": [],
   "source": []
  }
 ],
 "metadata": {
  "kernelspec": {
   "display_name": "Python3",
   "language": "python",
   "name": "python3"
  },
  "language_info": {
   "codemirror_mode": {
    "name": "ipython",
    "version": 3
   },
   "file_extension": ".py",
   "mimetype": "text/x-python",
   "name": "python",
   "nbconvert_exporter": "python",
   "pygments_lexer": "ipython3",
   "version": "3.7.6"
  },
  "toc": {
   "base_numbering": 1,
   "nav_menu": {},
   "number_sections": true,
   "sideBar": true,
   "skip_h1_title": false,
   "title_cell": "Table of Contents",
   "title_sidebar": "Contents",
   "toc_cell": false,
   "toc_position": {},
   "toc_section_display": true,
   "toc_window_display": false
  },
  "varInspector": {
   "cols": {
    "lenName": 16,
    "lenType": 16,
    "lenVar": 40
   },
   "kernels_config": {
    "python": {
     "delete_cmd_postfix": "",
     "delete_cmd_prefix": "del ",
     "library": "var_list.py",
     "varRefreshCmd": "print(var_dic_list())"
    },
    "r": {
     "delete_cmd_postfix": ") ",
     "delete_cmd_prefix": "rm(",
     "library": "var_list.r",
     "varRefreshCmd": "cat(var_dic_list()) "
    }
   },
   "types_to_exclude": [
    "module",
    "function",
    "builtin_function_or_method",
    "instance",
    "_Feature"
   ],
   "window_display": false
  }
 },
 "nbformat": 4,
 "nbformat_minor": 2
}
