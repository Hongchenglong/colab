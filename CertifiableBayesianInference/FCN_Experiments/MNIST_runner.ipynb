{
  "nbformat": 4,
  "nbformat_minor": 0,
  "metadata": {
    "colab": {
      "name": "MNIST_runner.ipynb",
      "provenance": [],
      "collapsed_sections": [],
      "authorship_tag": "ABX9TyOwZDb1ShmRC7LVkhtI33D+",
      "include_colab_link": true
    },
    "kernelspec": {
      "name": "python3",
      "display_name": "Python 3"
    },
    "language_info": {
      "name": "python"
    }
  },
  "cells": [
    {
      "cell_type": "markdown",
      "metadata": {
        "id": "view-in-github",
        "colab_type": "text"
      },
      "source": [
        "<a href=\"https://colab.research.google.com/github/Hongchenglong/colab/blob/main/CertifiableBayesianInference/FCN_Experiments/MNIST_runner.ipynb\" target=\"_parent\"><img src=\"https://colab.research.google.com/assets/colab-badge.svg\" alt=\"Open In Colab\"/></a>"
      ]
    },
    {
      "cell_type": "code",
      "metadata": {
        "colab": {
          "base_uri": "https://localhost:8080/"
        },
        "id": "nfaBXS3HZd6l",
        "outputId": "b350a53d-1884-415e-8a6c-d62137d82204"
      },
      "source": [
        "# 装载Google硬盘\n",
        "from google.colab import drive\n",
        "drive.mount('/content/drive')"
      ],
      "execution_count": 1,
      "outputs": [
        {
          "output_type": "stream",
          "name": "stdout",
          "text": [
            "Mounted at /content/drive\n"
          ]
        }
      ]
    },
    {
      "cell_type": "code",
      "metadata": {
        "id": "XfFdTV2jZkCi"
      },
      "source": [
        "import sys, os\n",
        "from pathlib import Path\n",
        "path = Path(os.getcwd())\n",
        "sys.path.append(str(path.parent))\n",
        "sys.path.append('/content/drive/MyDrive/ColabNotebooks/CertifiableBayesianInference')\n",
        "experiment = '/content/drive/MyDrive/ColabNotebooks/CertifiableBayesianInference/FCN_Experiments/'"
      ],
      "execution_count": 2,
      "outputs": []
    },
    {
      "cell_type": "code",
      "metadata": {
        "id": "jj12Lu-JZ-iz"
      },
      "source": [
        "# python3 MNIST_runner.py --eps 0.11 --lam 0.25 --rob 0 --opt HMC --gpu 0 &\n",
        "# python3 MNIST_runner.py --eps 0.11 --lam 0.25 --rob 2 --opt HMC --gpu 1 &\n",
        "# python3 MNIST_runner.py --eps 0.11 --lam 0.25 --rob 2 --opt BBB --gpu 1 &\n",
        "\n",
        "\n",
        "# dict = {'eps': 0.11, 'lam': 0.25, 'rob': 0, 'opt': 'HMC', 'gpu': '0'}\n",
        "# dict = {'eps': 0.11, 'lam': 0.25, 'rob': 2, 'opt': 'HMC', 'gpu': '1'}\n",
        "dict = {'eps': 0.11, 'lam': 0.25, 'rob': 1, 'opt': 'HMC', 'gpu': '1'}\n",
        "\n",
        "\n",
        "# epsilon:  the strength of the adversary, 在测试点周围多大的区域里考虑它的鲁棒性\n",
        "eps = dict['eps']\n",
        "# lamada: the probability of seeing the clean data (lambda = 1.0 means no adversarial data considered, lambda = 0.0 means only adversarial data considered)\n",
        "lam = dict['lam'] \n",
        "# robustness mode, 0:标准 1:IBP 2:PGD\n",
        "rob = dict['rob'] \n",
        "# the variational inference method\n",
        "optim = dict['opt']\n",
        "gpu = dict['gpu']\n",
        "os.environ['CUDA_VISIBLE_DEVICES'] = gpu"
      ],
      "execution_count": 3,
      "outputs": []
    },
    {
      "cell_type": "code",
      "metadata": {
        "id": "MNm4EYFRZkHy",
        "colab": {
          "base_uri": "https://localhost:8080/"
        },
        "outputId": "a1942552-e7ab-4dbd-b437-49b9560094f6"
      },
      "source": [
        "# 作者封装的BayesKeras模块\n",
        "import BayesKeras\n",
        "import BayesKeras.optimizers as optimizers\n",
        "\n",
        "import tensorflow as tf\n",
        "from tensorflow.keras.models import *\n",
        "from tensorflow.keras.layers import *"
      ],
      "execution_count": 4,
      "outputs": [
        {
          "output_type": "stream",
          "name": "stderr",
          "text": [
            "/usr/local/lib/python3.7/dist-packages/statsmodels/tools/_testing.py:19: FutureWarning: pandas.util.testing is deprecated. Use the functions in the public API at pandas.testing instead.\n",
            "  import pandas.util.testing as tm\n"
          ]
        }
      ]
    },
    {
      "cell_type": "code",
      "metadata": {
        "colab": {
          "base_uri": "https://localhost:8080/"
        },
        "id": "JwAWnS0uZhVv",
        "outputId": "e010542f-ccd9-414d-957d-98fb1de68004"
      },
      "source": [
        "# 划分训练集，测试集\n",
        "(X_train, y_train), (X_test, y_test) = tf.keras.datasets.mnist.load_data()\n",
        "X_train = X_train/255.\n",
        "X_test = X_test/255.\n",
        "X_train = X_train.astype(\"float32\").reshape(-1, 28*28)\n",
        "X_test = X_test.astype(\"float32\").reshape(-1, 28*28)\n",
        "\n",
        "#X_train = X_train[0:10000]\n",
        "#y_train = y_train[0:10000]\n",
        "\n",
        "# 构建Sequential模型\n",
        "model = Sequential()\n",
        "# 构建Dense隐藏层并添加到模型中\n",
        "# 添加具有512个神经元的Dense隐藏层，使用relu激活函数\n",
        "model.add(Dense(512, activation=\"relu\", input_shape=(None, None, 28*28)))\n",
        "# 添加具有10个神经元的Dense隐藏层，使用softmax激活函数\n",
        "model.add(Dense(10, activation=\"softmax\"))\n",
        "\n",
        "inf = 2\n",
        "full_covar = False\n",
        "if(optim == 'VOGN'):\n",
        "    # was 0.25 for a bit\n",
        "    inf = 2\n",
        "    learning_rate = 0.35; decay=0.0\n",
        "    opt = optimizers.VariationalOnlineGuassNewton()\n",
        "elif(optim == 'BBB'):\n",
        "    inf = 10\n",
        "    learning_rate = 0.45; decay=0.0\n",
        "    opt = optimizers.BayesByBackprop()\n",
        "elif(optim == 'SWAG'):\n",
        "    learning_rate = 0.01; decay=0.0\n",
        "    opt = optimizers.StochasticWeightAveragingGaussian()\n",
        "elif(optim == 'SWAG-FC'):\n",
        "    learning_rate = 0.01; decay=0.0; full_covar=True\n",
        "    # 优化器.随机加权平均高斯\n",
        "    opt = optimizers.StochasticWeightAveragingGaussian()\n",
        "elif(optim == 'SGD'):\n",
        "    learning_rate = 1.0; decay=0.0\n",
        "    opt = optimizers.StochasticGradientDescent()\n",
        "elif(optim == 'NA'):\n",
        "    inf = 2\n",
        "    learning_rate = 0.001; decay=0.0\n",
        "    opt = optimizers.NoisyAdam()\n",
        "elif(optim == 'ADAM'):\n",
        "    learning_rate = 0.00001; decay=0.0\n",
        "    opt = optimizers.Adam()\n",
        "elif(optim == 'HMC'):\n",
        "    learning_rate = 0.075; decay=0.0; inf=250\n",
        "    linear_schedule = False\n",
        "    opt = optimizers.HamiltonianMonteCarlo()\n",
        "\n",
        "# Compile the model to train with Bayesian inference\n",
        "if(rob == 0):\n",
        "    # 稀疏分类交叉熵\n",
        "    loss = tf.keras.losses.SparseCategoricalCrossentropy()\n",
        "elif(rob != 0):\n",
        "    # 鲁棒交叉熵损失函数\n",
        "    loss = BayesKeras.optimizers.losses.robust_crossentropy_loss\n",
        "\n",
        "bayes_model = opt.compile(model, loss_fn=loss, epochs=20, learning_rate=learning_rate,\n",
        "                          batch_size=128, linear_schedule=True,\n",
        "                          decay=decay, robust_train=rob, inflate_prior=inf,\n",
        "                          burn_in=3, steps=25, b_steps=20, epsilon=eps, rob_lam=lam) #, preload=\"SGD_FCN_Posterior_1\")"
      ],
      "execution_count": 5,
      "outputs": [
        {
          "output_type": "stream",
          "name": "stdout",
          "text": [
            "Downloading data from https://storage.googleapis.com/tensorflow/tf-keras-datasets/mnist.npz\n",
            "11493376/11490434 [==============================] - 2s 0us/step\n",
            "11501568/11490434 [==============================] - 2s 0us/step\n",
            "This optimizer does not have a default compilation method. Please make sure to call the correct .compile method before use.\n",
            "BayesKeras: Using implicit prior\n",
            "(784, 512) 0.5646924393157821\n",
            "(512, 10) 0.6987712429686843\n",
            "BayesKeras: Using implicit prior\n",
            "(784, 512) 0.5646924393157821\n",
            "(512, 10) 0.6987712429686843\n",
            "BayesKeras: Detected robust training at compilation. Please ensure you have selected a robust-compatible loss\n",
            "<class 'list'>\n",
            "<class 'tensorflow.python.framework.ops.EagerTensor'>\n",
            "<class 'tensorflow.python.framework.ops.EagerTensor'>\n",
            "<class 'tensorflow.python.framework.ops.EagerTensor'>\n",
            "<class 'tensorflow.python.framework.ops.EagerTensor'>\n",
            "[<tf.Tensor: shape=(784, 512), dtype=float32, numpy=\n",
            "array([[0., 0., 0., ..., 0., 0., 0.],\n",
            "       [0., 0., 0., ..., 0., 0., 0.],\n",
            "       [0., 0., 0., ..., 0., 0., 0.],\n",
            "       ...,\n",
            "       [0., 0., 0., ..., 0., 0., 0.],\n",
            "       [0., 0., 0., ..., 0., 0., 0.],\n",
            "       [0., 0., 0., ..., 0., 0., 0.]], dtype=float32)>, <tf.Tensor: shape=(512,), dtype=float32, numpy=\n",
            "array([0., 0., 0., 0., 0., 0., 0., 0., 0., 0., 0., 0., 0., 0., 0., 0., 0.,\n",
            "       0., 0., 0., 0., 0., 0., 0., 0., 0., 0., 0., 0., 0., 0., 0., 0., 0.,\n",
            "       0., 0., 0., 0., 0., 0., 0., 0., 0., 0., 0., 0., 0., 0., 0., 0., 0.,\n",
            "       0., 0., 0., 0., 0., 0., 0., 0., 0., 0., 0., 0., 0., 0., 0., 0., 0.,\n",
            "       0., 0., 0., 0., 0., 0., 0., 0., 0., 0., 0., 0., 0., 0., 0., 0., 0.,\n",
            "       0., 0., 0., 0., 0., 0., 0., 0., 0., 0., 0., 0., 0., 0., 0., 0., 0.,\n",
            "       0., 0., 0., 0., 0., 0., 0., 0., 0., 0., 0., 0., 0., 0., 0., 0., 0.,\n",
            "       0., 0., 0., 0., 0., 0., 0., 0., 0., 0., 0., 0., 0., 0., 0., 0., 0.,\n",
            "       0., 0., 0., 0., 0., 0., 0., 0., 0., 0., 0., 0., 0., 0., 0., 0., 0.,\n",
            "       0., 0., 0., 0., 0., 0., 0., 0., 0., 0., 0., 0., 0., 0., 0., 0., 0.,\n",
            "       0., 0., 0., 0., 0., 0., 0., 0., 0., 0., 0., 0., 0., 0., 0., 0., 0.,\n",
            "       0., 0., 0., 0., 0., 0., 0., 0., 0., 0., 0., 0., 0., 0., 0., 0., 0.,\n",
            "       0., 0., 0., 0., 0., 0., 0., 0., 0., 0., 0., 0., 0., 0., 0., 0., 0.,\n",
            "       0., 0., 0., 0., 0., 0., 0., 0., 0., 0., 0., 0., 0., 0., 0., 0., 0.,\n",
            "       0., 0., 0., 0., 0., 0., 0., 0., 0., 0., 0., 0., 0., 0., 0., 0., 0.,\n",
            "       0., 0., 0., 0., 0., 0., 0., 0., 0., 0., 0., 0., 0., 0., 0., 0., 0.,\n",
            "       0., 0., 0., 0., 0., 0., 0., 0., 0., 0., 0., 0., 0., 0., 0., 0., 0.,\n",
            "       0., 0., 0., 0., 0., 0., 0., 0., 0., 0., 0., 0., 0., 0., 0., 0., 0.,\n",
            "       0., 0., 0., 0., 0., 0., 0., 0., 0., 0., 0., 0., 0., 0., 0., 0., 0.,\n",
            "       0., 0., 0., 0., 0., 0., 0., 0., 0., 0., 0., 0., 0., 0., 0., 0., 0.,\n",
            "       0., 0., 0., 0., 0., 0., 0., 0., 0., 0., 0., 0., 0., 0., 0., 0., 0.,\n",
            "       0., 0., 0., 0., 0., 0., 0., 0., 0., 0., 0., 0., 0., 0., 0., 0., 0.,\n",
            "       0., 0., 0., 0., 0., 0., 0., 0., 0., 0., 0., 0., 0., 0., 0., 0., 0.,\n",
            "       0., 0., 0., 0., 0., 0., 0., 0., 0., 0., 0., 0., 0., 0., 0., 0., 0.,\n",
            "       0., 0., 0., 0., 0., 0., 0., 0., 0., 0., 0., 0., 0., 0., 0., 0., 0.,\n",
            "       0., 0., 0., 0., 0., 0., 0., 0., 0., 0., 0., 0., 0., 0., 0., 0., 0.,\n",
            "       0., 0., 0., 0., 0., 0., 0., 0., 0., 0., 0., 0., 0., 0., 0., 0., 0.,\n",
            "       0., 0., 0., 0., 0., 0., 0., 0., 0., 0., 0., 0., 0., 0., 0., 0., 0.,\n",
            "       0., 0., 0., 0., 0., 0., 0., 0., 0., 0., 0., 0., 0., 0., 0., 0., 0.,\n",
            "       0., 0., 0., 0., 0., 0., 0., 0., 0., 0., 0., 0., 0., 0., 0., 0., 0.,\n",
            "       0., 0.], dtype=float32)>, <tf.Tensor: shape=(512, 10), dtype=float32, numpy=\n",
            "array([[0., 0., 0., ..., 0., 0., 0.],\n",
            "       [0., 0., 0., ..., 0., 0., 0.],\n",
            "       [0., 0., 0., ..., 0., 0., 0.],\n",
            "       ...,\n",
            "       [0., 0., 0., ..., 0., 0., 0.],\n",
            "       [0., 0., 0., ..., 0., 0., 0.],\n",
            "       [0., 0., 0., ..., 0., 0., 0.]], dtype=float32)>, <tf.Tensor: shape=(10,), dtype=float32, numpy=array([0., 0., 0., 0., 0., 0., 0., 0., 0., 0.], dtype=float32)>]\n"
          ]
        }
      ]
    },
    {
      "cell_type": "code",
      "metadata": {
        "colab": {
          "base_uri": "https://localhost:8080/"
        },
        "id": "Adx0zGgIZhYY",
        "outputId": "2b592233-3789-4b1f-8419-a60b0cccdcd6"
      },
      "source": [
        "# steps was 50\n",
        "# Train the model on your data\n",
        "bayes_model.train(X_train, y_train, X_test, y_test)"
      ],
      "execution_count": 6,
      "outputs": [
        {
          "output_type": "stream",
          "name": "stdout",
          "text": [
            "BayesKeras Warning: HMC is a memory hungry optimizer. \n",
            "         Given you system and parameters of this training run,\n",
            "         we expect your system to need 0.002496 MB of available memory\n"
          ]
        },
        {
          "output_type": "stream",
          "name": "stderr",
          "text": [
            "/usr/local/lib/python3.7/dist-packages/numpy/core/_asarray.py:83: VisibleDeprecationWarning: Creating an ndarray from ragged nested sequences (which is a list-or-tuple of lists-or-tuples-or ndarrays with different lengths or shapes) is deprecated. If you meant to do this, you must specify 'dtype=object' when creating the ndarray\n",
            "  return array(a, dtype, copy=False, order=order)\n",
            "Numerical Integration: 100%|██████████| 20/20 [01:39<00:00,  5.00s/it]\n"
          ]
        },
        {
          "output_type": "stream",
          "name": "stdout",
          "text": [
            "Current  U:  tf.Tensor(4.148409, shape=(), dtype=float32)\n",
            "Proposed U:  tf.Tensor(2.5728998, shape=(), dtype=float32)\n",
            "Current  K:  tf.Tensor(0.008359623, shape=(), dtype=float32)\n",
            "Proposed K:  tf.Tensor(0.017667681, shape=(), dtype=float32)\n",
            "METROPOLIS CORRECTION CONSTANT:  tf.Tensor(4.7884226, shape=(), dtype=float32)\n",
            "ACCEPTED\n",
            "Debug info:\n",
            "[0, 1]\n",
            "Epoch 1, loss: 3.125, acc: 0.619, val_loss: 0.615, val_acc: 0.877, rob: 0.526, (eps = 0.000000)\n",
            "Still in Burn-In state of Markov chain.\n"
          ]
        },
        {
          "output_type": "stream",
          "name": "stderr",
          "text": [
            "Numerical Integration: 100%|██████████| 20/20 [01:40<00:00,  5.02s/it]\n"
          ]
        },
        {
          "output_type": "stream",
          "name": "stdout",
          "text": [
            "Current  U:  tf.Tensor(2.5728998, shape=(), dtype=float32)\n",
            "Proposed U:  tf.Tensor(3.8568068, shape=(), dtype=float32)\n",
            "Current  K:  tf.Tensor(0.0067873737, shape=(), dtype=float32)\n",
            "Proposed K:  tf.Tensor(0.0073204683, shape=(), dtype=float32)\n",
            "METROPOLIS CORRECTION CONSTANT:  tf.Tensor(0.27680555, shape=(), dtype=float32)\n",
            "ACCEPTED\n",
            "Debug info:\n",
            "[0, 1]\n",
            "Epoch 2, loss: 3.870, acc: 0.876, val_loss: 1.876, val_acc: 0.867, rob: 0.000, (eps = 0.036667)\n",
            "Still in Burn-In state of Markov chain.\n"
          ]
        },
        {
          "output_type": "stream",
          "name": "stderr",
          "text": [
            "Numerical Integration: 100%|██████████| 20/20 [01:39<00:00,  5.00s/it]\n"
          ]
        },
        {
          "output_type": "stream",
          "name": "stdout",
          "text": [
            "Current  U:  tf.Tensor(3.8568068, shape=(), dtype=float32)\n",
            "Proposed U:  tf.Tensor(3.8628602, shape=(), dtype=float32)\n",
            "Current  K:  tf.Tensor(0.0067377794, shape=(), dtype=float32)\n",
            "Proposed K:  tf.Tensor(0.006657156, shape=(), dtype=float32)\n",
            "METROPOLIS CORRECTION CONSTANT:  tf.Tensor(0.99404496, shape=(), dtype=float32)\n",
            "ACCEPTED\n",
            "Debug info:\n",
            "[0, 1]\n",
            "Epoch 3, loss: 3.830, acc: 0.889, val_loss: 1.797, val_acc: 0.895, rob: 0.000, (eps = 0.073333)\n",
            "Still in Burn-In state of Markov chain.\n"
          ]
        },
        {
          "output_type": "stream",
          "name": "stderr",
          "text": [
            "Numerical Integration: 100%|██████████| 25/25 [02:03<00:00,  4.96s/it]\n"
          ]
        },
        {
          "output_type": "stream",
          "name": "stdout",
          "text": [
            "Current  U:  tf.Tensor(3.8628602, shape=(), dtype=float32)\n",
            "Proposed U:  tf.Tensor(4.0905876, shape=(), dtype=float32)\n",
            "Current  K:  tf.Tensor(0.0142415445, shape=(), dtype=float32)\n",
            "Proposed K:  tf.Tensor(0.013945051, shape=(), dtype=float32)\n",
            "METROPOLIS CORRECTION CONSTANT:  tf.Tensor(0.79657745, shape=(), dtype=float32)\n",
            "ACCEPTED\n",
            "Debug info:\n",
            "[0, 1]\n",
            "Epoch 1, loss: 3.952, acc: 0.884, val_loss: 1.935, val_acc: 0.870, rob: 0.000, (eps = 0.110000)\n",
            "Out of Burn-In state. Generating samples from the chain\n"
          ]
        },
        {
          "output_type": "stream",
          "name": "stderr",
          "text": [
            "Numerical Integration: 100%|██████████| 25/25 [02:04<00:00,  4.98s/it]\n"
          ]
        },
        {
          "output_type": "stream",
          "name": "stdout",
          "text": [
            "Current  U:  tf.Tensor(4.0905876, shape=(), dtype=float32)\n",
            "Proposed U:  tf.Tensor(4.2500334, shape=(), dtype=float32)\n",
            "Current  K:  tf.Tensor(0.016390048, shape=(), dtype=float32)\n",
            "Proposed K:  tf.Tensor(0.016178042, shape=(), dtype=float32)\n",
            "METROPOLIS CORRECTION CONSTANT:  tf.Tensor(0.852797, shape=(), dtype=float32)\n",
            "ACCEPTED\n",
            "Debug info:\n",
            "[0, 1, 1]\n",
            "Epoch 2, loss: 4.149, acc: 0.880, val_loss: 1.960, val_acc: 0.888, rob: 0.000, (eps = 0.110000)\n",
            "Out of Burn-In state. Generating samples from the chain\n"
          ]
        },
        {
          "output_type": "stream",
          "name": "stderr",
          "text": [
            "Numerical Integration: 100%|██████████| 25/25 [02:04<00:00,  4.98s/it]\n"
          ]
        },
        {
          "output_type": "stream",
          "name": "stdout",
          "text": [
            "Current  U:  tf.Tensor(4.2500334, shape=(), dtype=float32)\n",
            "Proposed U:  tf.Tensor(4.381871, shape=(), dtype=float32)\n",
            "Current  K:  tf.Tensor(0.018261295, shape=(), dtype=float32)\n",
            "Proposed K:  tf.Tensor(0.0182287, shape=(), dtype=float32)\n",
            "METROPOLIS CORRECTION CONSTANT:  tf.Tensor(0.8765117, shape=(), dtype=float32)\n",
            "ACCEPTED\n",
            "Debug info:\n",
            "[0, 1, 1, 1]\n",
            "Epoch 3, loss: 4.299, acc: 0.884, val_loss: 2.014, val_acc: 0.886, rob: 0.000, (eps = 0.110000)\n",
            "Out of Burn-In state. Generating samples from the chain\n"
          ]
        },
        {
          "output_type": "stream",
          "name": "stderr",
          "text": [
            "Numerical Integration: 100%|██████████| 25/25 [02:04<00:00,  4.98s/it]\n"
          ]
        },
        {
          "output_type": "stream",
          "name": "stdout",
          "text": [
            "Current  U:  tf.Tensor(4.381871, shape=(), dtype=float32)\n",
            "Proposed U:  tf.Tensor(4.4476414, shape=(), dtype=float32)\n",
            "Current  K:  tf.Tensor(0.01412491, shape=(), dtype=float32)\n",
            "Proposed K:  tf.Tensor(0.014412375, shape=(), dtype=float32)\n",
            "METROPOLIS CORRECTION CONSTANT:  tf.Tensor(0.93607694, shape=(), dtype=float32)\n",
            "ACCEPTED\n",
            "Debug info:\n",
            "[0, 1, 1, 1, 1]\n",
            "Epoch 4, loss: 4.397, acc: 0.890, val_loss: 2.055, val_acc: 0.891, rob: 0.000, (eps = 0.110000)\n",
            "Out of Burn-In state. Generating samples from the chain\n"
          ]
        },
        {
          "output_type": "stream",
          "name": "stderr",
          "text": [
            "Numerical Integration: 100%|██████████| 25/25 [02:04<00:00,  4.98s/it]\n"
          ]
        },
        {
          "output_type": "stream",
          "name": "stdout",
          "text": [
            "Current  U:  tf.Tensor(4.4476414, shape=(), dtype=float32)\n",
            "Proposed U:  tf.Tensor(4.5892777, shape=(), dtype=float32)\n",
            "Current  K:  tf.Tensor(0.016508788, shape=(), dtype=float32)\n",
            "Proposed K:  tf.Tensor(0.016219428, shape=(), dtype=float32)\n",
            "METROPOLIS CORRECTION CONSTANT:  tf.Tensor(0.86818796, shape=(), dtype=float32)\n",
            "REJECTED\n",
            "Debug info:\n",
            "[0, 1, 1, 1, 2]\n",
            "Epoch 5, loss: 4.508, acc: 0.893, val_loss: 2.085, val_acc: 0.894, rob: 0.000, (eps = 0.110000)\n",
            "Out of Burn-In state. Generating samples from the chain\n"
          ]
        },
        {
          "output_type": "stream",
          "name": "stderr",
          "text": [
            "Numerical Integration: 100%|██████████| 25/25 [02:04<00:00,  4.99s/it]\n"
          ]
        },
        {
          "output_type": "stream",
          "name": "stdout",
          "text": [
            "Current  U:  tf.Tensor(4.4476414, shape=(), dtype=float32)\n",
            "Proposed U:  tf.Tensor(4.768549, shape=(), dtype=float32)\n",
            "Current  K:  tf.Tensor(0.018341567, shape=(), dtype=float32)\n",
            "Proposed K:  tf.Tensor(0.018536773, shape=(), dtype=float32)\n",
            "METROPOLIS CORRECTION CONSTANT:  tf.Tensor(0.7253487, shape=(), dtype=float32)\n",
            "ACCEPTED\n",
            "Debug info:\n",
            "[0, 1, 1, 1, 2, 1]\n",
            "Epoch 6, loss: 4.663, acc: 0.898, val_loss: 2.105, val_acc: 0.900, rob: 0.000, (eps = 0.110000)\n",
            "Out of Burn-In state. Generating samples from the chain\n"
          ]
        },
        {
          "output_type": "stream",
          "name": "stderr",
          "text": [
            "Numerical Integration: 100%|██████████| 25/25 [02:03<00:00,  4.96s/it]\n"
          ]
        },
        {
          "output_type": "stream",
          "name": "stdout",
          "text": [
            "Current  U:  tf.Tensor(4.768549, shape=(), dtype=float32)\n",
            "Proposed U:  tf.Tensor(4.8779945, shape=(), dtype=float32)\n",
            "Current  K:  tf.Tensor(0.017732799, shape=(), dtype=float32)\n",
            "Proposed K:  tf.Tensor(0.01756979, shape=(), dtype=float32)\n",
            "METROPOLIS CORRECTION CONSTANT:  tf.Tensor(0.89647704, shape=(), dtype=float32)\n",
            "ACCEPTED\n",
            "Debug info:\n",
            "[0, 1, 1, 1, 2, 1, 1]\n",
            "Epoch 7, loss: 4.812, acc: 0.902, val_loss: 2.073, val_acc: 0.904, rob: 0.000, (eps = 0.110000)\n",
            "Out of Burn-In state. Generating samples from the chain\n"
          ]
        },
        {
          "output_type": "stream",
          "name": "stderr",
          "text": [
            "Numerical Integration: 100%|██████████| 25/25 [02:04<00:00,  4.98s/it]\n"
          ]
        },
        {
          "output_type": "stream",
          "name": "stdout",
          "text": [
            "Current  U:  tf.Tensor(4.8779945, shape=(), dtype=float32)\n",
            "Proposed U:  tf.Tensor(5.0716887, shape=(), dtype=float32)\n",
            "Current  K:  tf.Tensor(0.015022937, shape=(), dtype=float32)\n",
            "Proposed K:  tf.Tensor(0.01513968, shape=(), dtype=float32)\n",
            "METROPOLIS CORRECTION CONSTANT:  tf.Tensor(0.8238137, shape=(), dtype=float32)\n",
            "ACCEPTED\n",
            "Debug info:\n",
            "[0, 1, 1, 1, 2, 1, 1, 1]\n",
            "Epoch 8, loss: 4.960, acc: 0.905, val_loss: 2.129, val_acc: 0.903, rob: 0.000, (eps = 0.110000)\n",
            "Out of Burn-In state. Generating samples from the chain\n"
          ]
        },
        {
          "output_type": "stream",
          "name": "stderr",
          "text": [
            "Numerical Integration: 100%|██████████| 25/25 [02:04<00:00,  4.97s/it]\n"
          ]
        },
        {
          "output_type": "stream",
          "name": "stdout",
          "text": [
            "Current  U:  tf.Tensor(5.0716887, shape=(), dtype=float32)\n",
            "Proposed U:  tf.Tensor(5.187026, shape=(), dtype=float32)\n",
            "Current  K:  tf.Tensor(0.013172978, shape=(), dtype=float32)\n",
            "Proposed K:  tf.Tensor(0.013248366, shape=(), dtype=float32)\n",
            "METROPOLIS CORRECTION CONSTANT:  tf.Tensor(0.8909983, shape=(), dtype=float32)\n",
            "ACCEPTED\n",
            "Debug info:\n",
            "[0, 1, 1, 1, 2, 1, 1, 1, 1]\n",
            "Epoch 9, loss: 5.119, acc: 0.905, val_loss: 2.119, val_acc: 0.909, rob: 0.000, (eps = 0.110000)\n",
            "Out of Burn-In state. Generating samples from the chain\n"
          ]
        },
        {
          "output_type": "stream",
          "name": "stderr",
          "text": [
            "Numerical Integration: 100%|██████████| 25/25 [02:04<00:00,  4.96s/it]\n"
          ]
        },
        {
          "output_type": "stream",
          "name": "stdout",
          "text": [
            "Current  U:  tf.Tensor(5.187026, shape=(), dtype=float32)\n",
            "Proposed U:  tf.Tensor(5.227196, shape=(), dtype=float32)\n",
            "Current  K:  tf.Tensor(0.01369478, shape=(), dtype=float32)\n",
            "Proposed K:  tf.Tensor(0.013611277, shape=(), dtype=float32)\n",
            "METROPOLIS CORRECTION CONSTANT:  tf.Tensor(0.9607062, shape=(), dtype=float32)\n",
            "ACCEPTED\n",
            "Debug info:\n",
            "[0, 1, 1, 1, 2, 1, 1, 1, 1, 1]\n",
            "Epoch 10, loss: 5.195, acc: 0.909, val_loss: 2.125, val_acc: 0.907, rob: 0.000, (eps = 0.110000)\n",
            "Out of Burn-In state. Generating samples from the chain\n"
          ]
        },
        {
          "output_type": "stream",
          "name": "stderr",
          "text": [
            "Numerical Integration: 100%|██████████| 25/25 [02:04<00:00,  4.98s/it]\n"
          ]
        },
        {
          "output_type": "stream",
          "name": "stdout",
          "text": [
            "Current  U:  tf.Tensor(5.227196, shape=(), dtype=float32)\n",
            "Proposed U:  tf.Tensor(5.4187317, shape=(), dtype=float32)\n",
            "Current  K:  tf.Tensor(0.018441182, shape=(), dtype=float32)\n",
            "Proposed K:  tf.Tensor(0.018482558, shape=(), dtype=float32)\n",
            "METROPOLIS CORRECTION CONSTANT:  tf.Tensor(0.8256562, shape=(), dtype=float32)\n",
            "REJECTED\n",
            "Debug info:\n",
            "[0, 1, 1, 1, 2, 1, 1, 1, 1, 2]\n",
            "Epoch 11, loss: 5.307, acc: 0.912, val_loss: 2.108, val_acc: 0.915, rob: 0.000, (eps = 0.110000)\n",
            "Out of Burn-In state. Generating samples from the chain\n"
          ]
        },
        {
          "output_type": "stream",
          "name": "stderr",
          "text": [
            "Numerical Integration: 100%|██████████| 25/25 [02:04<00:00,  4.98s/it]\n"
          ]
        },
        {
          "output_type": "stream",
          "name": "stdout",
          "text": [
            "Current  U:  tf.Tensor(5.227196, shape=(), dtype=float32)\n",
            "Proposed U:  tf.Tensor(5.478175, shape=(), dtype=float32)\n",
            "Current  K:  tf.Tensor(0.013707077, shape=(), dtype=float32)\n",
            "Proposed K:  tf.Tensor(0.013566137, shape=(), dtype=float32)\n",
            "METROPOLIS CORRECTION CONSTANT:  tf.Tensor(0.7781484, shape=(), dtype=float32)\n",
            "ACCEPTED\n",
            "Debug info:\n",
            "[0, 1, 1, 1, 2, 1, 1, 1, 1, 2, 1]\n",
            "Epoch 12, loss: 5.431, acc: 0.913, val_loss: 2.171, val_acc: 0.912, rob: 0.000, (eps = 0.110000)\n",
            "Out of Burn-In state. Generating samples from the chain\n"
          ]
        },
        {
          "output_type": "stream",
          "name": "stderr",
          "text": [
            "Numerical Integration: 100%|██████████| 25/25 [02:04<00:00,  4.98s/it]\n"
          ]
        },
        {
          "output_type": "stream",
          "name": "stdout",
          "text": [
            "Current  U:  tf.Tensor(5.478175, shape=(), dtype=float32)\n",
            "Proposed U:  tf.Tensor(5.539635, shape=(), dtype=float32)\n",
            "Current  K:  tf.Tensor(0.014759235, shape=(), dtype=float32)\n",
            "Proposed K:  tf.Tensor(0.014801017, shape=(), dtype=float32)\n",
            "METROPOLIS CORRECTION CONSTANT:  tf.Tensor(0.94035125, shape=(), dtype=float32)\n",
            "ACCEPTED\n",
            "Debug info:\n",
            "[0, 1, 1, 1, 2, 1, 1, 1, 1, 2, 1, 1]\n",
            "Epoch 13, loss: 5.497, acc: 0.913, val_loss: 2.158, val_acc: 0.913, rob: 0.000, (eps = 0.110000)\n",
            "Out of Burn-In state. Generating samples from the chain\n"
          ]
        },
        {
          "output_type": "stream",
          "name": "stderr",
          "text": [
            "Numerical Integration: 100%|██████████| 25/25 [02:04<00:00,  4.98s/it]\n"
          ]
        },
        {
          "output_type": "stream",
          "name": "stdout",
          "text": [
            "Current  U:  tf.Tensor(5.539635, shape=(), dtype=float32)\n",
            "Proposed U:  tf.Tensor(5.584949, shape=(), dtype=float32)\n",
            "Current  K:  tf.Tensor(0.0155088175, shape=(), dtype=float32)\n",
            "Proposed K:  tf.Tensor(0.015455996, shape=(), dtype=float32)\n",
            "METROPOLIS CORRECTION CONSTANT:  tf.Tensor(0.95574796, shape=(), dtype=float32)\n",
            "ACCEPTED\n",
            "Debug info:\n",
            "[0, 1, 1, 1, 2, 1, 1, 1, 1, 2, 1, 1, 1]\n",
            "Epoch 14, loss: 5.549, acc: 0.914, val_loss: 2.196, val_acc: 0.910, rob: 0.000, (eps = 0.110000)\n",
            "Out of Burn-In state. Generating samples from the chain\n"
          ]
        },
        {
          "output_type": "stream",
          "name": "stderr",
          "text": [
            "Numerical Integration: 100%|██████████| 25/25 [02:04<00:00,  4.97s/it]\n"
          ]
        },
        {
          "output_type": "stream",
          "name": "stdout",
          "text": [
            "Current  U:  tf.Tensor(5.584949, shape=(), dtype=float32)\n",
            "Proposed U:  tf.Tensor(5.664165, shape=(), dtype=float32)\n",
            "Current  K:  tf.Tensor(0.015289935, shape=(), dtype=float32)\n",
            "Proposed K:  tf.Tensor(0.0152979, shape=(), dtype=float32)\n",
            "METROPOLIS CORRECTION CONSTANT:  tf.Tensor(0.923833, shape=(), dtype=float32)\n",
            "ACCEPTED\n",
            "Debug info:\n",
            "[0, 1, 1, 1, 2, 1, 1, 1, 1, 2, 1, 1, 1, 1]\n",
            "Epoch 15, loss: 5.611, acc: 0.915, val_loss: 2.210, val_acc: 0.910, rob: 0.000, (eps = 0.110000)\n",
            "Out of Burn-In state. Generating samples from the chain\n"
          ]
        },
        {
          "output_type": "stream",
          "name": "stderr",
          "text": [
            "Numerical Integration: 100%|██████████| 25/25 [02:04<00:00,  4.99s/it]\n"
          ]
        },
        {
          "output_type": "stream",
          "name": "stdout",
          "text": [
            "Current  U:  tf.Tensor(5.664165, shape=(), dtype=float32)\n",
            "Proposed U:  tf.Tensor(5.7296195, shape=(), dtype=float32)\n",
            "Current  K:  tf.Tensor(0.015785426, shape=(), dtype=float32)\n",
            "Proposed K:  tf.Tensor(0.01591186, shape=(), dtype=float32)\n",
            "METROPOLIS CORRECTION CONSTANT:  tf.Tensor(0.93652326, shape=(), dtype=float32)\n",
            "REJECTED\n",
            "Debug info:\n",
            "[0, 1, 1, 1, 2, 1, 1, 1, 1, 2, 1, 1, 1, 2]\n",
            "Epoch 16, loss: 5.685, acc: 0.916, val_loss: 2.205, val_acc: 0.911, rob: 0.000, (eps = 0.110000)\n",
            "Out of Burn-In state. Generating samples from the chain\n"
          ]
        },
        {
          "output_type": "stream",
          "name": "stderr",
          "text": [
            "Numerical Integration: 100%|██████████| 25/25 [02:04<00:00,  4.98s/it]\n"
          ]
        },
        {
          "output_type": "stream",
          "name": "stdout",
          "text": [
            "Current  U:  tf.Tensor(5.664165, shape=(), dtype=float32)\n",
            "Proposed U:  tf.Tensor(5.7915897, shape=(), dtype=float32)\n",
            "Current  K:  tf.Tensor(0.013913121, shape=(), dtype=float32)\n",
            "Proposed K:  tf.Tensor(0.013900291, shape=(), dtype=float32)\n",
            "METROPOLIS CORRECTION CONSTANT:  tf.Tensor(0.880371, shape=(), dtype=float32)\n",
            "ACCEPTED\n",
            "Debug info:\n",
            "[0, 1, 1, 1, 2, 1, 1, 1, 1, 2, 1, 1, 1, 2, 1]\n",
            "Epoch 17, loss: 5.747, acc: 0.918, val_loss: 2.226, val_acc: 0.911, rob: 0.000, (eps = 0.110000)\n",
            "Out of Burn-In state. Generating samples from the chain\n"
          ]
        },
        {
          "output_type": "stream",
          "name": "stderr",
          "text": [
            "Numerical Integration: 100%|██████████| 25/25 [02:04<00:00,  4.97s/it]\n"
          ]
        },
        {
          "output_type": "stream",
          "name": "stdout",
          "text": [
            "Current  U:  tf.Tensor(5.7915897, shape=(), dtype=float32)\n",
            "Proposed U:  tf.Tensor(5.8237495, shape=(), dtype=float32)\n",
            "Current  K:  tf.Tensor(0.015080735, shape=(), dtype=float32)\n",
            "Proposed K:  tf.Tensor(0.01511191, shape=(), dtype=float32)\n",
            "METROPOLIS CORRECTION CONSTANT:  tf.Tensor(0.9683216, shape=(), dtype=float32)\n",
            "ACCEPTED\n",
            "Debug info:\n",
            "[0, 1, 1, 1, 2, 1, 1, 1, 1, 2, 1, 1, 1, 2, 1, 1]\n",
            "Epoch 18, loss: 5.797, acc: 0.919, val_loss: 2.184, val_acc: 0.916, rob: 0.000, (eps = 0.110000)\n",
            "Out of Burn-In state. Generating samples from the chain\n"
          ]
        },
        {
          "output_type": "stream",
          "name": "stderr",
          "text": [
            "Numerical Integration: 100%|██████████| 25/25 [02:04<00:00,  4.97s/it]\n"
          ]
        },
        {
          "output_type": "stream",
          "name": "stdout",
          "text": [
            "Current  U:  tf.Tensor(5.8237495, shape=(), dtype=float32)\n",
            "Proposed U:  tf.Tensor(5.9327393, shape=(), dtype=float32)\n",
            "Current  K:  tf.Tensor(0.014620271, shape=(), dtype=float32)\n",
            "Proposed K:  tf.Tensor(0.014657633, shape=(), dtype=float32)\n",
            "METROPOLIS CORRECTION CONSTANT:  tf.Tensor(0.89670616, shape=(), dtype=float32)\n",
            "ACCEPTED\n",
            "Debug info:\n",
            "[0, 1, 1, 1, 2, 1, 1, 1, 1, 2, 1, 1, 1, 2, 1, 1, 1]\n",
            "Epoch 19, loss: 5.865, acc: 0.921, val_loss: 2.186, val_acc: 0.917, rob: 0.000, (eps = 0.110000)\n",
            "Out of Burn-In state. Generating samples from the chain\n"
          ]
        },
        {
          "output_type": "stream",
          "name": "stderr",
          "text": [
            "Numerical Integration: 100%|██████████| 25/25 [02:04<00:00,  4.96s/it]\n"
          ]
        },
        {
          "output_type": "stream",
          "name": "stdout",
          "text": [
            "Current  U:  tf.Tensor(5.9327393, shape=(), dtype=float32)\n",
            "Proposed U:  tf.Tensor(5.964735, shape=(), dtype=float32)\n",
            "Current  K:  tf.Tensor(0.018864272, shape=(), dtype=float32)\n",
            "Proposed K:  tf.Tensor(0.018780831, shape=(), dtype=float32)\n",
            "METROPOLIS CORRECTION CONSTANT:  tf.Tensor(0.9685915, shape=(), dtype=float32)\n",
            "ACCEPTED\n",
            "Debug info:\n",
            "[0, 1, 1, 1, 2, 1, 1, 1, 1, 2, 1, 1, 1, 2, 1, 1, 1, 1]\n",
            "Epoch 20, loss: 5.930, acc: 0.920, val_loss: 2.237, val_acc: 0.915, rob: 0.000, (eps = 0.110000)\n",
            "Out of Burn-In state. Generating samples from the chain\n"
          ]
        },
        {
          "output_type": "stream",
          "name": "stderr",
          "text": [
            "Numerical Integration: 100%|██████████| 25/25 [02:04<00:00,  4.98s/it]\n"
          ]
        },
        {
          "output_type": "stream",
          "name": "stdout",
          "text": [
            "Current  U:  tf.Tensor(5.964735, shape=(), dtype=float32)\n",
            "Proposed U:  tf.Tensor(6.0421104, shape=(), dtype=float32)\n",
            "Current  K:  tf.Tensor(0.014798769, shape=(), dtype=float32)\n",
            "Proposed K:  tf.Tensor(0.014863508, shape=(), dtype=float32)\n",
            "METROPOLIS CORRECTION CONSTANT:  tf.Tensor(0.9254824, shape=(), dtype=float32)\n",
            "ACCEPTED\n",
            "Debug info:\n",
            "[0, 1, 1, 1, 2, 1, 1, 1, 1, 2, 1, 1, 1, 2, 1, 1, 1, 1, 1]\n",
            "Epoch 21, loss: 5.991, acc: 0.919, val_loss: 2.244, val_acc: 0.917, rob: 0.000, (eps = 0.110000)\n",
            "Out of Burn-In state. Generating samples from the chain\n"
          ]
        }
      ]
    },
    {
      "cell_type": "code",
      "metadata": {
        "colab": {
          "base_uri": "https://localhost:8080/"
        },
        "id": "d6qTjn8rZha9",
        "outputId": "0f0d08ba-5b95-49a4-c6c1-49164560df02"
      },
      "source": [
        "# Save your approxiate Bayesian posterior\n",
        "bayes_model.save(experiment + \"%s_FCN_Posterior_%s\"%(optim, rob))"
      ],
      "execution_count": 7,
      "outputs": [
        {
          "output_type": "stream",
          "name": "stdout",
          "text": [
            "WARNING:tensorflow:Compiled the loaded model, but the compiled metrics have yet to be built. `model.compile_metrics` will be empty until you train or evaluate the model.\n"
          ]
        },
        {
          "output_type": "stream",
          "name": "stderr",
          "text": [
            "/usr/local/lib/python3.7/dist-packages/numpy/core/_asarray.py:83: VisibleDeprecationWarning: Creating an ndarray from ragged nested sequences (which is a list-or-tuple of lists-or-tuples-or ndarrays with different lengths or shapes) is deprecated. If you meant to do this, you must specify 'dtype=object' when creating the ndarray\n",
            "  return array(a, dtype, copy=False, order=order)\n"
          ]
        }
      ]
    },
    {
      "cell_type": "code",
      "metadata": {
        "id": "JK9Pn-xEp124"
      },
      "source": [
        ""
      ],
      "execution_count": 7,
      "outputs": []
    }
  ]
}