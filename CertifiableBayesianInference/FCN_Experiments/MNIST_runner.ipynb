{
  "nbformat": 4,
  "nbformat_minor": 0,
  "metadata": {
    "colab": {
      "name": "MNIST_runner.ipynb",
      "provenance": [],
      "collapsed_sections": [],
      "authorship_tag": "ABX9TyN7KZqp9COHu6r0lXgxfl54",
      "include_colab_link": true
    },
    "kernelspec": {
      "name": "python3",
      "display_name": "Python 3"
    },
    "language_info": {
      "name": "python"
    }
  },
  "cells": [
    {
      "cell_type": "markdown",
      "metadata": {
        "id": "view-in-github",
        "colab_type": "text"
      },
      "source": [
        "<a href=\"https://colab.research.google.com/github/Hongchenglong/colab/blob/main/CertifiableBayesianInference/FCN_Experiments/MNIST_runner.ipynb\" target=\"_parent\"><img src=\"https://colab.research.google.com/assets/colab-badge.svg\" alt=\"Open In Colab\"/></a>"
      ]
    },
    {
      "cell_type": "code",
      "metadata": {
        "colab": {
          "base_uri": "https://localhost:8080/"
        },
        "id": "nfaBXS3HZd6l",
        "outputId": "6f35cfd4-2d7d-4042-af8b-c565d6d8ac21"
      },
      "source": [
        "from google.colab import drive\n",
        "drive.mount('/content/drive')"
      ],
      "execution_count": null,
      "outputs": [
        {
          "output_type": "stream",
          "name": "stdout",
          "text": [
            "Mounted at /content/drive\n"
          ]
        }
      ]
    },
    {
      "cell_type": "code",
      "metadata": {
        "id": "XfFdTV2jZkCi"
      },
      "source": [
        "import sys, os\n",
        "from pathlib import Path\n",
        "path = Path(os.getcwd())\n",
        "sys.path.append(str(path.parent))\n",
        "sys.path.append('/content/drive/MyDrive/CertifiableBayesianInference')\n",
        "experiment = '/content/drive/MyDrive/ColabNotebooks/CertifiableBayesianInference/FCN_Experiments/'"
      ],
      "execution_count": null,
      "outputs": []
    },
    {
      "cell_type": "code",
      "metadata": {
        "colab": {
          "base_uri": "https://localhost:8080/"
        },
        "id": "MNm4EYFRZkHy",
        "outputId": "4b326a01-54bb-4c3d-9901-a76dbdfcdc62"
      },
      "source": [
        "import BayesKeras\n",
        "import BayesKeras.optimizers as optimizers\n",
        "\n",
        "import tensorflow as tf\n",
        "from tensorflow.keras.models import *\n",
        "from tensorflow.keras.layers import *\n",
        "\n",
        "#tf.debugging.set_log_device_placement(True)\n",
        "#os.environ['CUDA_VISIBLE_DEVICES'] = '-1'"
      ],
      "execution_count": null,
      "outputs": [
        {
          "output_type": "stream",
          "name": "stderr",
          "text": [
            "/usr/local/lib/python3.7/dist-packages/statsmodels/tools/_testing.py:19: FutureWarning: pandas.util.testing is deprecated. Use the functions in the public API at pandas.testing instead.\n",
            "  import pandas.util.testing as tm\n"
          ]
        }
      ]
    },
    {
      "cell_type": "code",
      "metadata": {
        "id": "jj12Lu-JZ-iz"
      },
      "source": [
        "# python3 MNIST_runner.py --eps 0.11 --lam 0.25 --rob 0 --opt HMC --gpu 0 &\n",
        "# python3 MNIST_runner.py --eps 0.11 --lam 0.25 --rob 2 --opt HMC --gpu 1 &\n",
        "\n",
        "dict = {'eps': 0.11, 'lam': 0.25, 'rob': 0, 'opt': 'HMC', 'gpu': '0'}\n",
        "\n",
        "eps = dict['eps']\n",
        "lam = dict['lam']\n",
        "rob = dict['rob']\n",
        "optim = dict['opt']\n",
        "gpu = dict['gpu']\n",
        "os.environ['CUDA_VISIBLE_DEVICES'] = gpu"
      ],
      "execution_count": null,
      "outputs": []
    },
    {
      "cell_type": "code",
      "metadata": {
        "colab": {
          "base_uri": "https://localhost:8080/"
        },
        "id": "JwAWnS0uZhVv",
        "outputId": "f23f2d8f-5b20-4a5b-fb31-c328f5d84f88"
      },
      "source": [
        "(X_train, y_train), (X_test, y_test) = tf.keras.datasets.mnist.load_data()\n",
        "X_train = X_train/255.\n",
        "X_test = X_test/255.\n",
        "X_train = X_train.astype(\"float32\").reshape(-1, 28*28)\n",
        "X_test = X_test.astype(\"float32\").reshape(-1, 28*28)\n",
        "\n",
        "#X_train = X_train[0:10000]\n",
        "#y_train = y_train[0:10000]\n",
        "\n",
        "model = Sequential()\n",
        "model.add(Dense(512, activation=\"relu\", input_shape=(None, None, 28*28)))\n",
        "model.add(Dense(10, activation=\"softmax\"))\n",
        "\n",
        "inf = 2\n",
        "full_covar = False\n",
        "if(optim == 'VOGN'):\n",
        "    # was 0.25 for a bit\n",
        "    inf = 2\n",
        "    learning_rate = 0.35; decay=0.0\n",
        "    opt = optimizers.VariationalOnlineGuassNewton()\n",
        "elif(optim == 'BBB'):\n",
        "    inf = 10\n",
        "    learning_rate = 0.45; decay=0.0\n",
        "    opt = optimizers.BayesByBackprop()\n",
        "elif(optim == 'SWAG'):\n",
        "    learning_rate = 0.01; decay=0.0\n",
        "    opt = optimizers.StochasticWeightAveragingGaussian()\n",
        "elif(optim == 'SWAG-FC'):\n",
        "    learning_rate = 0.01; decay=0.0; full_covar=True\n",
        "    opt = optimizers.StochasticWeightAveragingGaussian()\n",
        "elif(optim == 'SGD'):\n",
        "    learning_rate = 1.0; decay=0.0\n",
        "    opt = optimizers.StochasticGradientDescent()\n",
        "elif(optim == 'NA'):\n",
        "    inf = 2\n",
        "    learning_rate = 0.001; decay=0.0\n",
        "    opt = optimizers.NoisyAdam()\n",
        "elif(optim == 'ADAM'):\n",
        "    learning_rate = 0.00001; decay=0.0\n",
        "    opt = optimizers.Adam()\n",
        "elif(optim == 'HMC'):\n",
        "    learning_rate = 0.075; decay=0.0; inf=250\n",
        "    linear_schedule = False\n",
        "    opt = optimizers.HamiltonianMonteCarlo()\n",
        "\n",
        "# Compile the model to train with Bayesian inference\n",
        "if(rob == 0):\n",
        "    loss = tf.keras.losses.SparseCategoricalCrossentropy()\n",
        "elif(rob != 0):\n",
        "    loss = BayesKeras.optimizers.losses.robust_crossentropy_loss\n",
        "\n",
        "bayes_model = opt.compile(model, loss_fn=loss, epochs=20, learning_rate=learning_rate,\n",
        "                          batch_size=128, linear_schedule=True,\n",
        "                          decay=decay, robust_train=rob, inflate_prior=inf,\n",
        "                          burn_in=3, steps=25, b_steps=20, epsilon=eps, rob_lam=lam) #, preload=\"SGD_FCN_Posterior_1\")\n",
        "\n"
      ],
      "execution_count": null,
      "outputs": [
        {
          "output_type": "stream",
          "name": "stdout",
          "text": [
            "This optimizer does not have a default compilation method. Please make sure to call the correct .compile method before use.\n",
            "BayesKeras: Using implicit prior\n",
            "(784, 512) 0.5646924393157821\n",
            "(512, 10) 0.6987712429686843\n",
            "BayesKeras: Using implicit prior\n",
            "(784, 512) 0.5646924393157821\n",
            "(512, 10) 0.6987712429686843\n",
            "<class 'list'>\n",
            "<class 'tensorflow.python.framework.ops.EagerTensor'>\n",
            "<class 'tensorflow.python.framework.ops.EagerTensor'>\n",
            "<class 'tensorflow.python.framework.ops.EagerTensor'>\n",
            "<class 'tensorflow.python.framework.ops.EagerTensor'>\n",
            "[<tf.Tensor: shape=(784, 512), dtype=float32, numpy=\n",
            "array([[0., 0., 0., ..., 0., 0., 0.],\n",
            "       [0., 0., 0., ..., 0., 0., 0.],\n",
            "       [0., 0., 0., ..., 0., 0., 0.],\n",
            "       ...,\n",
            "       [0., 0., 0., ..., 0., 0., 0.],\n",
            "       [0., 0., 0., ..., 0., 0., 0.],\n",
            "       [0., 0., 0., ..., 0., 0., 0.]], dtype=float32)>, <tf.Tensor: shape=(512,), dtype=float32, numpy=\n",
            "array([0., 0., 0., 0., 0., 0., 0., 0., 0., 0., 0., 0., 0., 0., 0., 0., 0.,\n",
            "       0., 0., 0., 0., 0., 0., 0., 0., 0., 0., 0., 0., 0., 0., 0., 0., 0.,\n",
            "       0., 0., 0., 0., 0., 0., 0., 0., 0., 0., 0., 0., 0., 0., 0., 0., 0.,\n",
            "       0., 0., 0., 0., 0., 0., 0., 0., 0., 0., 0., 0., 0., 0., 0., 0., 0.,\n",
            "       0., 0., 0., 0., 0., 0., 0., 0., 0., 0., 0., 0., 0., 0., 0., 0., 0.,\n",
            "       0., 0., 0., 0., 0., 0., 0., 0., 0., 0., 0., 0., 0., 0., 0., 0., 0.,\n",
            "       0., 0., 0., 0., 0., 0., 0., 0., 0., 0., 0., 0., 0., 0., 0., 0., 0.,\n",
            "       0., 0., 0., 0., 0., 0., 0., 0., 0., 0., 0., 0., 0., 0., 0., 0., 0.,\n",
            "       0., 0., 0., 0., 0., 0., 0., 0., 0., 0., 0., 0., 0., 0., 0., 0., 0.,\n",
            "       0., 0., 0., 0., 0., 0., 0., 0., 0., 0., 0., 0., 0., 0., 0., 0., 0.,\n",
            "       0., 0., 0., 0., 0., 0., 0., 0., 0., 0., 0., 0., 0., 0., 0., 0., 0.,\n",
            "       0., 0., 0., 0., 0., 0., 0., 0., 0., 0., 0., 0., 0., 0., 0., 0., 0.,\n",
            "       0., 0., 0., 0., 0., 0., 0., 0., 0., 0., 0., 0., 0., 0., 0., 0., 0.,\n",
            "       0., 0., 0., 0., 0., 0., 0., 0., 0., 0., 0., 0., 0., 0., 0., 0., 0.,\n",
            "       0., 0., 0., 0., 0., 0., 0., 0., 0., 0., 0., 0., 0., 0., 0., 0., 0.,\n",
            "       0., 0., 0., 0., 0., 0., 0., 0., 0., 0., 0., 0., 0., 0., 0., 0., 0.,\n",
            "       0., 0., 0., 0., 0., 0., 0., 0., 0., 0., 0., 0., 0., 0., 0., 0., 0.,\n",
            "       0., 0., 0., 0., 0., 0., 0., 0., 0., 0., 0., 0., 0., 0., 0., 0., 0.,\n",
            "       0., 0., 0., 0., 0., 0., 0., 0., 0., 0., 0., 0., 0., 0., 0., 0., 0.,\n",
            "       0., 0., 0., 0., 0., 0., 0., 0., 0., 0., 0., 0., 0., 0., 0., 0., 0.,\n",
            "       0., 0., 0., 0., 0., 0., 0., 0., 0., 0., 0., 0., 0., 0., 0., 0., 0.,\n",
            "       0., 0., 0., 0., 0., 0., 0., 0., 0., 0., 0., 0., 0., 0., 0., 0., 0.,\n",
            "       0., 0., 0., 0., 0., 0., 0., 0., 0., 0., 0., 0., 0., 0., 0., 0., 0.,\n",
            "       0., 0., 0., 0., 0., 0., 0., 0., 0., 0., 0., 0., 0., 0., 0., 0., 0.,\n",
            "       0., 0., 0., 0., 0., 0., 0., 0., 0., 0., 0., 0., 0., 0., 0., 0., 0.,\n",
            "       0., 0., 0., 0., 0., 0., 0., 0., 0., 0., 0., 0., 0., 0., 0., 0., 0.,\n",
            "       0., 0., 0., 0., 0., 0., 0., 0., 0., 0., 0., 0., 0., 0., 0., 0., 0.,\n",
            "       0., 0., 0., 0., 0., 0., 0., 0., 0., 0., 0., 0., 0., 0., 0., 0., 0.,\n",
            "       0., 0., 0., 0., 0., 0., 0., 0., 0., 0., 0., 0., 0., 0., 0., 0., 0.,\n",
            "       0., 0., 0., 0., 0., 0., 0., 0., 0., 0., 0., 0., 0., 0., 0., 0., 0.,\n",
            "       0., 0.], dtype=float32)>, <tf.Tensor: shape=(512, 10), dtype=float32, numpy=\n",
            "array([[0., 0., 0., ..., 0., 0., 0.],\n",
            "       [0., 0., 0., ..., 0., 0., 0.],\n",
            "       [0., 0., 0., ..., 0., 0., 0.],\n",
            "       ...,\n",
            "       [0., 0., 0., ..., 0., 0., 0.],\n",
            "       [0., 0., 0., ..., 0., 0., 0.],\n",
            "       [0., 0., 0., ..., 0., 0., 0.]], dtype=float32)>, <tf.Tensor: shape=(10,), dtype=float32, numpy=array([0., 0., 0., 0., 0., 0., 0., 0., 0., 0.], dtype=float32)>]\n"
          ]
        }
      ]
    },
    {
      "cell_type": "code",
      "metadata": {
        "colab": {
          "base_uri": "https://localhost:8080/"
        },
        "id": "Adx0zGgIZhYY",
        "outputId": "d9518af9-f7cb-43d4-8681-38f15c5b02a5"
      },
      "source": [
        "#steps was 50\n",
        "# Train the model on your data\n",
        "bayes_model.train(X_train, y_train, X_test, y_test)"
      ],
      "execution_count": null,
      "outputs": [
        {
          "metadata": {
            "tags": null
          },
          "name": "stdout",
          "output_type": "stream",
          "text": [
            "BayesKeras Warning: HMC is a memory hungry optimizer. \n",
            "         Given you system and parameters of this training run,\n",
            "         we expect your system to need 0.002392 MB of available memory\n"
          ]
        },
        {
          "metadata": {
            "tags": null
          },
          "name": "stderr",
          "output_type": "stream",
          "text": [
            "/usr/local/lib/python3.7/dist-packages/numpy/core/_asarray.py:83: VisibleDeprecationWarning: Creating an ndarray from ragged nested sequences (which is a list-or-tuple of lists-or-tuples-or ndarrays with different lengths or shapes) is deprecated. If you meant to do this, you must specify 'dtype=object' when creating the ndarray\n",
            "  return array(a, dtype, copy=False, order=order)\n",
            "Numerical Integration: 100%|██████████| 20/20 [00:35<00:00,  1.77s/it]\n"
          ]
        },
        {
          "metadata": {
            "tags": null
          },
          "name": "stdout",
          "output_type": "stream",
          "text": [
            "Current  U:  tf.Tensor(4.1266956, shape=(), dtype=float32)\n",
            "Proposed U:  tf.Tensor(2.627695, shape=(), dtype=float32)\n",
            "Current  K:  tf.Tensor(0.0066142525, shape=(), dtype=float32)\n",
            "Proposed K:  tf.Tensor(0.01592695, shape=(), dtype=float32)\n",
            "METROPOLIS CORRECTION CONSTANT:  tf.Tensor(4.4357104, shape=(), dtype=float32)\n",
            "ACCEPTED\n",
            "Debug info:\n",
            "[0, 1]\n",
            "Epoch 1, loss: 3.114, acc: 0.647, val_loss: 0.685, val_acc: 0.878\n",
            "Still in Burn-In state of Markov chain.\n"
          ]
        },
        {
          "metadata": {
            "tags": null
          },
          "name": "stderr",
          "output_type": "stream",
          "text": [
            "Numerical Integration: 100%|██████████| 20/20 [00:35<00:00,  1.77s/it]\n"
          ]
        },
        {
          "metadata": {
            "tags": null
          },
          "name": "stdout",
          "output_type": "stream",
          "text": [
            "Current  U:  tf.Tensor(2.627695, shape=(), dtype=float32)\n",
            "Proposed U:  tf.Tensor(2.4755416, shape=(), dtype=float32)\n",
            "Current  K:  tf.Tensor(0.007039245, shape=(), dtype=float32)\n",
            "Proposed K:  tf.Tensor(0.0074577844, shape=(), dtype=float32)\n",
            "METROPOLIS CORRECTION CONSTANT:  tf.Tensor(1.1638517, shape=(), dtype=float32)\n",
            "ACCEPTED\n",
            "Debug info:\n",
            "[0, 1]\n",
            "Epoch 2, loss: 2.497, acc: 0.876, val_loss: 0.486, val_acc: 0.855\n",
            "Still in Burn-In state of Markov chain.\n"
          ]
        },
        {
          "metadata": {
            "tags": null
          },
          "name": "stderr",
          "output_type": "stream",
          "text": [
            "Numerical Integration: 100%|██████████| 20/20 [00:35<00:00,  1.78s/it]\n"
          ]
        },
        {
          "metadata": {
            "tags": null
          },
          "name": "stdout",
          "output_type": "stream",
          "text": [
            "Current  U:  tf.Tensor(2.4755416, shape=(), dtype=float32)\n",
            "Proposed U:  tf.Tensor(2.4727669, shape=(), dtype=float32)\n",
            "Current  K:  tf.Tensor(0.0068374225, shape=(), dtype=float32)\n",
            "Proposed K:  tf.Tensor(0.007056922, shape=(), dtype=float32)\n",
            "METROPOLIS CORRECTION CONSTANT:  tf.Tensor(1.0025585, shape=(), dtype=float32)\n",
            "ACCEPTED\n",
            "Debug info:\n",
            "[0, 1]\n",
            "Epoch 3, loss: 2.430, acc: 0.886, val_loss: 0.418, val_acc: 0.895\n",
            "Still in Burn-In state of Markov chain.\n"
          ]
        },
        {
          "metadata": {
            "tags": null
          },
          "name": "stderr",
          "output_type": "stream",
          "text": [
            "Numerical Integration: 100%|██████████| 25/25 [00:44<00:00,  1.77s/it]\n"
          ]
        },
        {
          "metadata": {
            "tags": null
          },
          "name": "stdout",
          "output_type": "stream",
          "text": [
            "Current  U:  tf.Tensor(2.4727669, shape=(), dtype=float32)\n",
            "Proposed U:  tf.Tensor(2.6974642, shape=(), dtype=float32)\n",
            "Current  K:  tf.Tensor(0.016343301, shape=(), dtype=float32)\n",
            "Proposed K:  tf.Tensor(0.016400093, shape=(), dtype=float32)\n",
            "METROPOLIS CORRECTION CONSTANT:  tf.Tensor(0.79871255, shape=(), dtype=float32)\n",
            "ACCEPTED\n",
            "Debug info:\n",
            "[0, 1]\n",
            "Epoch 1, loss: 2.560, acc: 0.878, val_loss: 0.531, val_acc: 0.867\n",
            "Out of Burn-In state. Generating samples from the chain\n"
          ]
        },
        {
          "metadata": {
            "tags": null
          },
          "name": "stderr",
          "output_type": "stream",
          "text": [
            "Numerical Integration: 100%|██████████| 25/25 [00:44<00:00,  1.77s/it]\n"
          ]
        },
        {
          "metadata": {
            "tags": null
          },
          "name": "stdout",
          "output_type": "stream",
          "text": [
            "Current  U:  tf.Tensor(2.6974642, shape=(), dtype=float32)\n",
            "Proposed U:  tf.Tensor(2.8722553, shape=(), dtype=float32)\n",
            "Current  K:  tf.Tensor(0.01476253, shape=(), dtype=float32)\n",
            "Proposed K:  tf.Tensor(0.014824865, shape=(), dtype=float32)\n",
            "METROPOLIS CORRECTION CONSTANT:  tf.Tensor(0.83958006, shape=(), dtype=float32)\n",
            "ACCEPTED\n",
            "Debug info:\n",
            "[0, 1, 1]\n",
            "Epoch 2, loss: 2.768, acc: 0.873, val_loss: 0.578, val_acc: 0.883\n",
            "Out of Burn-In state. Generating samples from the chain\n"
          ]
        },
        {
          "metadata": {
            "tags": null
          },
          "name": "stderr",
          "output_type": "stream",
          "text": [
            "Numerical Integration: 100%|██████████| 25/25 [00:44<00:00,  1.77s/it]\n"
          ]
        },
        {
          "metadata": {
            "tags": null
          },
          "name": "stdout",
          "output_type": "stream",
          "text": [
            "Current  U:  tf.Tensor(2.8722553, shape=(), dtype=float32)\n",
            "Proposed U:  tf.Tensor(2.9923058, shape=(), dtype=float32)\n",
            "Current  K:  tf.Tensor(0.013750516, shape=(), dtype=float32)\n",
            "Proposed K:  tf.Tensor(0.013837243, shape=(), dtype=float32)\n",
            "METROPOLIS CORRECTION CONSTANT:  tf.Tensor(0.8867988, shape=(), dtype=float32)\n",
            "ACCEPTED\n",
            "Debug info:\n",
            "[0, 1, 1, 1]\n",
            "Epoch 3, loss: 2.915, acc: 0.880, val_loss: 0.626, val_acc: 0.879\n",
            "Out of Burn-In state. Generating samples from the chain\n"
          ]
        },
        {
          "metadata": {
            "tags": null
          },
          "name": "stderr",
          "output_type": "stream",
          "text": [
            "Numerical Integration: 100%|██████████| 25/25 [00:44<00:00,  1.77s/it]\n"
          ]
        },
        {
          "metadata": {
            "tags": null
          },
          "name": "stdout",
          "output_type": "stream",
          "text": [
            "Current  U:  tf.Tensor(2.9923058, shape=(), dtype=float32)\n",
            "Proposed U:  tf.Tensor(3.1193564, shape=(), dtype=float32)\n",
            "Current  K:  tf.Tensor(0.014556147, shape=(), dtype=float32)\n",
            "Proposed K:  tf.Tensor(0.014675859, shape=(), dtype=float32)\n",
            "METROPOLIS CORRECTION CONSTANT:  tf.Tensor(0.88058364, shape=(), dtype=float32)\n",
            "ACCEPTED\n",
            "Debug info:\n",
            "[0, 1, 1, 1, 1]\n",
            "Epoch 4, loss: 3.032, acc: 0.886, val_loss: 0.677, val_acc: 0.890\n",
            "Out of Burn-In state. Generating samples from the chain\n"
          ]
        },
        {
          "metadata": {
            "tags": null
          },
          "name": "stderr",
          "output_type": "stream",
          "text": [
            "Numerical Integration: 100%|██████████| 25/25 [00:44<00:00,  1.76s/it]\n"
          ]
        },
        {
          "metadata": {
            "tags": null
          },
          "name": "stdout",
          "output_type": "stream",
          "text": [
            "Current  U:  tf.Tensor(3.1193564, shape=(), dtype=float32)\n",
            "Proposed U:  tf.Tensor(3.1667888, shape=(), dtype=float32)\n",
            "Current  K:  tf.Tensor(0.014709523, shape=(), dtype=float32)\n",
            "Proposed K:  tf.Tensor(0.014964953, shape=(), dtype=float32)\n",
            "METROPOLIS CORRECTION CONSTANT:  tf.Tensor(0.95343137, shape=(), dtype=float32)\n",
            "ACCEPTED\n",
            "Debug info:\n",
            "[0, 1, 1, 1, 1, 1]\n",
            "Epoch 5, loss: 3.125, acc: 0.891, val_loss: 0.711, val_acc: 0.888\n",
            "Out of Burn-In state. Generating samples from the chain\n"
          ]
        },
        {
          "metadata": {
            "tags": null
          },
          "name": "stderr",
          "output_type": "stream",
          "text": [
            "Numerical Integration: 100%|██████████| 25/25 [00:44<00:00,  1.77s/it]\n"
          ]
        },
        {
          "metadata": {
            "tags": null
          },
          "name": "stdout",
          "output_type": "stream",
          "text": [
            "Current  U:  tf.Tensor(3.1667888, shape=(), dtype=float32)\n",
            "Proposed U:  tf.Tensor(3.3074534, shape=(), dtype=float32)\n",
            "Current  K:  tf.Tensor(0.018124593, shape=(), dtype=float32)\n",
            "Proposed K:  tf.Tensor(0.017914463, shape=(), dtype=float32)\n",
            "METROPOLIS CORRECTION CONSTANT:  tf.Tensor(0.86896324, shape=(), dtype=float32)\n",
            "ACCEPTED\n",
            "Debug info:\n",
            "[0, 1, 1, 1, 1, 1, 1]\n",
            "Epoch 6, loss: 3.218, acc: 0.895, val_loss: 0.755, val_acc: 0.890\n",
            "Out of Burn-In state. Generating samples from the chain\n"
          ]
        },
        {
          "metadata": {
            "tags": null
          },
          "name": "stderr",
          "output_type": "stream",
          "text": [
            "Numerical Integration: 100%|██████████| 25/25 [00:44<00:00,  1.76s/it]\n"
          ]
        },
        {
          "metadata": {
            "tags": null
          },
          "name": "stdout",
          "output_type": "stream",
          "text": [
            "Current  U:  tf.Tensor(3.3074534, shape=(), dtype=float32)\n",
            "Proposed U:  tf.Tensor(3.4516392, shape=(), dtype=float32)\n",
            "Current  K:  tf.Tensor(0.012644642, shape=(), dtype=float32)\n",
            "Proposed K:  tf.Tensor(0.012726906, shape=(), dtype=float32)\n",
            "METROPOLIS CORRECTION CONSTANT:  tf.Tensor(0.86565566, shape=(), dtype=float32)\n",
            "ACCEPTED\n",
            "Debug info:\n",
            "[0, 1, 1, 1, 1, 1, 1, 1]\n",
            "Epoch 7, loss: 3.369, acc: 0.898, val_loss: 0.823, val_acc: 0.896\n",
            "Out of Burn-In state. Generating samples from the chain\n"
          ]
        },
        {
          "metadata": {
            "tags": null
          },
          "name": "stderr",
          "output_type": "stream",
          "text": [
            "Numerical Integration: 100%|██████████| 25/25 [00:44<00:00,  1.76s/it]\n"
          ]
        },
        {
          "metadata": {
            "tags": null
          },
          "name": "stdout",
          "output_type": "stream",
          "text": [
            "Current  U:  tf.Tensor(3.4516392, shape=(), dtype=float32)\n",
            "Proposed U:  tf.Tensor(3.5586362, shape=(), dtype=float32)\n",
            "Current  K:  tf.Tensor(0.016285324, shape=(), dtype=float32)\n",
            "Proposed K:  tf.Tensor(0.016212089, shape=(), dtype=float32)\n",
            "METROPOLIS CORRECTION CONSTANT:  tf.Tensor(0.89859414, shape=(), dtype=float32)\n",
            "ACCEPTED\n",
            "Debug info:\n",
            "[0, 1, 1, 1, 1, 1, 1, 1, 1]\n",
            "Epoch 8, loss: 3.492, acc: 0.899, val_loss: 0.871, val_acc: 0.892\n",
            "Out of Burn-In state. Generating samples from the chain\n"
          ]
        },
        {
          "metadata": {
            "tags": null
          },
          "name": "stderr",
          "output_type": "stream",
          "text": [
            "Numerical Integration: 100%|██████████| 25/25 [00:44<00:00,  1.77s/it]\n"
          ]
        },
        {
          "metadata": {
            "tags": null
          },
          "name": "stdout",
          "output_type": "stream",
          "text": [
            "Current  U:  tf.Tensor(3.5586362, shape=(), dtype=float32)\n",
            "Proposed U:  tf.Tensor(3.7019396, shape=(), dtype=float32)\n",
            "Current  K:  tf.Tensor(0.014166115, shape=(), dtype=float32)\n",
            "Proposed K:  tf.Tensor(0.014283926, shape=(), dtype=float32)\n",
            "METROPOLIS CORRECTION CONSTANT:  tf.Tensor(0.8663891, shape=(), dtype=float32)\n",
            "ACCEPTED\n",
            "Debug info:\n",
            "[0, 1, 1, 1, 1, 1, 1, 1, 1, 1]\n",
            "Epoch 9, loss: 3.614, acc: 0.903, val_loss: 0.861, val_acc: 0.901\n",
            "Out of Burn-In state. Generating samples from the chain\n"
          ]
        },
        {
          "metadata": {
            "tags": null
          },
          "name": "stderr",
          "output_type": "stream",
          "text": [
            "Numerical Integration: 100%|██████████| 25/25 [00:44<00:00,  1.77s/it]\n"
          ]
        },
        {
          "metadata": {
            "tags": null
          },
          "name": "stdout",
          "output_type": "stream",
          "text": [
            "Current  U:  tf.Tensor(3.7019396, shape=(), dtype=float32)\n",
            "Proposed U:  tf.Tensor(3.9071145, shape=(), dtype=float32)\n",
            "Current  K:  tf.Tensor(0.019241814, shape=(), dtype=float32)\n",
            "Proposed K:  tf.Tensor(0.019172546, shape=(), dtype=float32)\n",
            "METROPOLIS CORRECTION CONSTANT:  tf.Tensor(0.81456125, shape=(), dtype=float32)\n",
            "ACCEPTED\n",
            "Debug info:\n",
            "[0, 1, 1, 1, 1, 1, 1, 1, 1, 1, 1]\n",
            "Epoch 10, loss: 3.788, acc: 0.905, val_loss: 0.917, val_acc: 0.902\n",
            "Out of Burn-In state. Generating samples from the chain\n"
          ]
        },
        {
          "metadata": {
            "tags": null
          },
          "name": "stderr",
          "output_type": "stream",
          "text": [
            "Numerical Integration: 100%|██████████| 25/25 [00:44<00:00,  1.76s/it]\n"
          ]
        },
        {
          "metadata": {
            "tags": null
          },
          "name": "stdout",
          "output_type": "stream",
          "text": [
            "Current  U:  tf.Tensor(3.9071145, shape=(), dtype=float32)\n",
            "Proposed U:  tf.Tensor(4.0571003, shape=(), dtype=float32)\n",
            "Current  K:  tf.Tensor(0.013413229, shape=(), dtype=float32)\n",
            "Proposed K:  tf.Tensor(0.013356564, shape=(), dtype=float32)\n",
            "METROPOLIS CORRECTION CONSTANT:  tf.Tensor(0.860769, shape=(), dtype=float32)\n",
            "ACCEPTED\n",
            "Debug info:\n",
            "[0, 1, 1, 1, 1, 1, 1, 1, 1, 1, 1, 1]\n",
            "Epoch 11, loss: 3.967, acc: 0.908, val_loss: 0.899, val_acc: 0.908\n",
            "Out of Burn-In state. Generating samples from the chain\n"
          ]
        },
        {
          "metadata": {
            "tags": null
          },
          "name": "stderr",
          "output_type": "stream",
          "text": [
            "Numerical Integration: 100%|██████████| 25/25 [00:44<00:00,  1.77s/it]\n"
          ]
        },
        {
          "metadata": {
            "tags": null
          },
          "name": "stdout",
          "output_type": "stream",
          "text": [
            "Current  U:  tf.Tensor(4.0571003, shape=(), dtype=float32)\n",
            "Proposed U:  tf.Tensor(4.1876807, shape=(), dtype=float32)\n",
            "Current  K:  tf.Tensor(0.014021527, shape=(), dtype=float32)\n",
            "Proposed K:  tf.Tensor(0.013960676, shape=(), dtype=float32)\n",
            "METROPOLIS CORRECTION CONSTANT:  tf.Tensor(0.8776393, shape=(), dtype=float32)\n",
            "ACCEPTED\n",
            "Debug info:\n",
            "[0, 1, 1, 1, 1, 1, 1, 1, 1, 1, 1, 1, 1]\n",
            "Epoch 12, loss: 4.104, acc: 0.911, val_loss: 0.941, val_acc: 0.906\n",
            "Out of Burn-In state. Generating samples from the chain\n"
          ]
        },
        {
          "metadata": {
            "tags": null
          },
          "name": "stderr",
          "output_type": "stream",
          "text": [
            "Numerical Integration: 100%|██████████| 25/25 [00:44<00:00,  1.77s/it]\n"
          ]
        },
        {
          "metadata": {
            "tags": null
          },
          "name": "stdout",
          "output_type": "stream",
          "text": [
            "Current  U:  tf.Tensor(4.1876807, shape=(), dtype=float32)\n",
            "Proposed U:  tf.Tensor(4.39018, shape=(), dtype=float32)\n",
            "Current  K:  tf.Tensor(0.014504259, shape=(), dtype=float32)\n",
            "Proposed K:  tf.Tensor(0.014466345, shape=(), dtype=float32)\n",
            "METROPOLIS CORRECTION CONSTANT:  tf.Tensor(0.8167179, shape=(), dtype=float32)\n",
            "ACCEPTED\n",
            "Debug info:\n",
            "[0, 1, 1, 1, 1, 1, 1, 1, 1, 1, 1, 1, 1, 1]\n",
            "Epoch 13, loss: 4.274, acc: 0.914, val_loss: 1.011, val_acc: 0.911\n",
            "Out of Burn-In state. Generating samples from the chain\n"
          ]
        },
        {
          "metadata": {
            "tags": null
          },
          "name": "stderr",
          "output_type": "stream",
          "text": [
            "Numerical Integration: 100%|██████████| 25/25 [00:44<00:00,  1.77s/it]\n"
          ]
        },
        {
          "metadata": {
            "tags": null
          },
          "name": "stdout",
          "output_type": "stream",
          "text": [
            "Current  U:  tf.Tensor(4.39018, shape=(), dtype=float32)\n",
            "Proposed U:  tf.Tensor(4.5602345, shape=(), dtype=float32)\n",
            "Current  K:  tf.Tensor(0.015044297, shape=(), dtype=float32)\n",
            "Proposed K:  tf.Tensor(0.014975372, shape=(), dtype=float32)\n",
            "METROPOLIS CORRECTION CONSTANT:  tf.Tensor(0.84367704, shape=(), dtype=float32)\n",
            "ACCEPTED\n",
            "Debug info:\n",
            "[0, 1, 1, 1, 1, 1, 1, 1, 1, 1, 1, 1, 1, 1, 1]\n",
            "Epoch 14, loss: 4.468, acc: 0.917, val_loss: 1.020, val_acc: 0.913\n",
            "Out of Burn-In state. Generating samples from the chain\n"
          ]
        },
        {
          "metadata": {
            "tags": null
          },
          "name": "stderr",
          "output_type": "stream",
          "text": [
            "Numerical Integration: 100%|██████████| 25/25 [00:44<00:00,  1.76s/it]\n"
          ]
        },
        {
          "metadata": {
            "tags": null
          },
          "name": "stdout",
          "output_type": "stream",
          "text": [
            "Current  U:  tf.Tensor(4.5602345, shape=(), dtype=float32)\n",
            "Proposed U:  tf.Tensor(4.71712, shape=(), dtype=float32)\n",
            "Current  K:  tf.Tensor(0.013164207, shape=(), dtype=float32)\n",
            "Proposed K:  tf.Tensor(0.012935288, shape=(), dtype=float32)\n",
            "METROPOLIS CORRECTION CONSTANT:  tf.Tensor(0.8549975, shape=(), dtype=float32)\n",
            "ACCEPTED\n",
            "Debug info:\n",
            "[0, 1, 1, 1, 1, 1, 1, 1, 1, 1, 1, 1, 1, 1, 1, 1]\n",
            "Epoch 15, loss: 4.626, acc: 0.917, val_loss: 1.047, val_acc: 0.913\n",
            "Out of Burn-In state. Generating samples from the chain\n"
          ]
        },
        {
          "metadata": {
            "tags": null
          },
          "name": "stderr",
          "output_type": "stream",
          "text": [
            "Numerical Integration: 100%|██████████| 25/25 [00:44<00:00,  1.77s/it]\n"
          ]
        },
        {
          "metadata": {
            "tags": null
          },
          "name": "stdout",
          "output_type": "stream",
          "text": [
            "Current  U:  tf.Tensor(4.71712, shape=(), dtype=float32)\n",
            "Proposed U:  tf.Tensor(4.9184027, shape=(), dtype=float32)\n",
            "Current  K:  tf.Tensor(0.014266106, shape=(), dtype=float32)\n",
            "Proposed K:  tf.Tensor(0.014360159, shape=(), dtype=float32)\n",
            "METROPOLIS CORRECTION CONSTANT:  tf.Tensor(0.8176045, shape=(), dtype=float32)\n",
            "ACCEPTED\n",
            "Debug info:\n",
            "[0, 1, 1, 1, 1, 1, 1, 1, 1, 1, 1, 1, 1, 1, 1, 1, 1]\n",
            "Epoch 16, loss: 4.808, acc: 0.917, val_loss: 1.109, val_acc: 0.913\n",
            "Out of Burn-In state. Generating samples from the chain\n"
          ]
        },
        {
          "output_type": "stream",
          "name": "stderr",
          "text": [
            "Numerical Integration: 100%|██████████| 25/25 [00:44<00:00,  1.77s/it]\n"
          ]
        },
        {
          "output_type": "stream",
          "name": "stdout",
          "text": [
            "Current  U:  tf.Tensor(4.9184027, shape=(), dtype=float32)\n",
            "Proposed U:  tf.Tensor(5.063541, shape=(), dtype=float32)\n",
            "Current  K:  tf.Tensor(0.01448793, shape=(), dtype=float32)\n",
            "Proposed K:  tf.Tensor(0.0143343, shape=(), dtype=float32)\n",
            "METROPOLIS CORRECTION CONSTANT:  tf.Tensor(0.8650356, shape=(), dtype=float32)\n",
            "ACCEPTED\n",
            "Debug info:\n",
            "[0, 1, 1, 1, 1, 1, 1, 1, 1, 1, 1, 1, 1, 1, 1, 1, 1, 1]\n",
            "Epoch 17, loss: 4.976, acc: 0.920, val_loss: 1.072, val_acc: 0.915\n",
            "Out of Burn-In state. Generating samples from the chain\n"
          ]
        },
        {
          "output_type": "stream",
          "name": "stderr",
          "text": [
            "Numerical Integration: 100%|██████████| 25/25 [00:43<00:00,  1.76s/it]\n"
          ]
        },
        {
          "output_type": "stream",
          "name": "stdout",
          "text": [
            "Current  U:  tf.Tensor(5.063541, shape=(), dtype=float32)\n",
            "Proposed U:  tf.Tensor(5.0690374, shape=(), dtype=float32)\n",
            "Current  K:  tf.Tensor(0.013841083, shape=(), dtype=float32)\n",
            "Proposed K:  tf.Tensor(0.013827855, shape=(), dtype=float32)\n",
            "METROPOLIS CORRECTION CONSTANT:  tf.Tensor(0.99453175, shape=(), dtype=float32)\n",
            "ACCEPTED\n",
            "Debug info:\n",
            "[0, 1, 1, 1, 1, 1, 1, 1, 1, 1, 1, 1, 1, 1, 1, 1, 1, 1, 1]\n",
            "Epoch 18, loss: 5.052, acc: 0.922, val_loss: 1.142, val_acc: 0.915\n",
            "Out of Burn-In state. Generating samples from the chain\n"
          ]
        },
        {
          "output_type": "stream",
          "name": "stderr",
          "text": [
            "Numerical Integration: 100%|██████████| 25/25 [00:43<00:00,  1.76s/it]\n"
          ]
        },
        {
          "output_type": "stream",
          "name": "stdout",
          "text": [
            "Current  U:  tf.Tensor(5.0690374, shape=(), dtype=float32)\n",
            "Proposed U:  tf.Tensor(5.1299396, shape=(), dtype=float32)\n",
            "Current  K:  tf.Tensor(0.016644984, shape=(), dtype=float32)\n",
            "Proposed K:  tf.Tensor(0.016706318, shape=(), dtype=float32)\n",
            "METROPOLIS CORRECTION CONSTANT:  tf.Tensor(0.94085765, shape=(), dtype=float32)\n",
            "ACCEPTED\n",
            "Debug info:\n",
            "[0, 1, 1, 1, 1, 1, 1, 1, 1, 1, 1, 1, 1, 1, 1, 1, 1, 1, 1, 1]\n",
            "Epoch 19, loss: 5.086, acc: 0.922, val_loss: 1.087, val_acc: 0.916\n",
            "Out of Burn-In state. Generating samples from the chain\n"
          ]
        },
        {
          "output_type": "stream",
          "name": "stderr",
          "text": [
            "Numerical Integration: 100%|██████████| 25/25 [00:43<00:00,  1.76s/it]\n"
          ]
        },
        {
          "output_type": "stream",
          "name": "stdout",
          "text": [
            "Current  U:  tf.Tensor(5.1299396, shape=(), dtype=float32)\n",
            "Proposed U:  tf.Tensor(5.245542, shape=(), dtype=float32)\n",
            "Current  K:  tf.Tensor(0.015776107, shape=(), dtype=float32)\n",
            "Proposed K:  tf.Tensor(0.015926972, shape=(), dtype=float32)\n",
            "METROPOLIS CORRECTION CONSTANT:  tf.Tensor(0.89069486, shape=(), dtype=float32)\n",
            "ACCEPTED\n",
            "Debug info:\n",
            "[0, 1, 1, 1, 1, 1, 1, 1, 1, 1, 1, 1, 1, 1, 1, 1, 1, 1, 1, 1, 1]\n",
            "Epoch 20, loss: 5.180, acc: 0.924, val_loss: 1.129, val_acc: 0.918\n",
            "Out of Burn-In state. Generating samples from the chain\n"
          ]
        }
      ]
    },
    {
      "cell_type": "code",
      "metadata": {
        "colab": {
          "base_uri": "https://localhost:8080/"
        },
        "id": "d6qTjn8rZha9",
        "outputId": "61cd8e16-fefa-4603-fee3-d578f3710e70"
      },
      "source": [
        "# Save your approxiate Bayesian posterior\n",
        "bayes_model.save(experiment + \"%s_FCN_Posterior_%s\"%(optim, rob))"
      ],
      "execution_count": null,
      "outputs": [
        {
          "output_type": "stream",
          "name": "stderr",
          "text": [
            "/usr/local/lib/python3.7/dist-packages/numpy/core/_asarray.py:83: VisibleDeprecationWarning: Creating an ndarray from ragged nested sequences (which is a list-or-tuple of lists-or-tuples-or ndarrays with different lengths or shapes) is deprecated. If you meant to do this, you must specify 'dtype=object' when creating the ndarray\n",
            "  return array(a, dtype, copy=False, order=order)\n"
          ]
        },
        {
          "output_type": "stream",
          "name": "stdout",
          "text": [
            "WARNING:tensorflow:Compiled the loaded model, but the compiled metrics have yet to be built. `model.compile_metrics` will be empty until you train or evaluate the model.\n"
          ]
        }
      ]
    },
    {
      "cell_type": "code",
      "metadata": {
        "id": "JK9Pn-xEp124"
      },
      "source": [
        ""
      ],
      "execution_count": null,
      "outputs": []
    }
  ]
}