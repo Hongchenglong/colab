{
 "cells": [
  {
   "cell_type": "markdown",
   "metadata": {
    "colab_type": "text",
    "id": "view-in-github"
   },
   "source": [
    "<a href=\"https://colab.research.google.com/github/Hongchenglong/colab/blob/main/CertifiableBayesianInference/FCN_Experiments/MNIST_runner.ipynb\" target=\"_parent\"><img src=\"https://colab.research.google.com/assets/colab-badge.svg\" alt=\"Open In Colab\"/></a>"
   ]
  },
  {
   "cell_type": "code",
   "execution_count": 1,
   "metadata": {
    "colab": {
     "base_uri": "https://localhost:8080/"
    },
    "id": "nfaBXS3HZd6l",
    "outputId": "3346ca77-206b-40ce-c9b9-41a7bf8b6a64"
   },
   "outputs": [
    {
     "name": "stdout",
     "output_type": "stream",
     "text": [
      "Mounted at /content/drive\n"
     ]
    }
   ],
   "source": [
    "# 装载Google硬盘\n",
    "from google.colab import drive\n",
    "drive.mount('/content/drive')"
   ]
  },
  {
   "cell_type": "code",
   "execution_count": 2,
   "metadata": {
    "id": "XfFdTV2jZkCi"
   },
   "outputs": [],
   "source": [
    "import sys, os\n",
    "from pathlib import Path\n",
    "path = Path(os.getcwd())\n",
    "sys.path.append(str(path.parent))\n",
    "sys.path.append('/content/drive/MyDrive/CertifiableBayesianInference')\n",
    "experiment = '/content/drive/MyDrive/ColabNotebooks/CertifiableBayesianInference/FCN_Experiments/'"
   ]
  },
  {
   "cell_type": "code",
   "execution_count": 10,
   "metadata": {
    "id": "jj12Lu-JZ-iz"
   },
   "outputs": [],
   "source": [
    "# python3 MNIST_runner.py --eps 0.11 --lam 0.25 --rob 0 --opt HMC --gpu 0 &\n",
    "# python3 MNIST_runner.py --eps 0.11 --lam 0.25 --rob 2 --opt HMC --gpu 1 &\n",
    "\n",
    "# dict = {'eps': 0.11, 'lam': 0.25, 'rob': 0, 'opt': 'HMC', 'gpu': '0'}\n",
    "dict = {'eps': 0.11, 'lam': 0.25, 'rob': 2, 'opt': 'HMC', 'gpu': '1'}\n",
    "\n",
    "# epsilon:  the strength of the adversary, 在测试点周围多大的区域里考虑它的鲁棒性\n",
    "eps = dict['eps']\n",
    "# lamada: the probability of seeing the clean data (lambda = 1.0 means no adversarial data considered, lambda = 0.0 means only adversarial data considered)\n",
    "lam = dict['lam'] \n",
    "# robustness mode, 0:标准 1:IBP 2:PGD\n",
    "rob = dict['rob'] \n",
    "# the variational inference method\n",
    "optim = dict['opt']\n",
    "gpu = dict['gpu']\n",
    "os.environ['CUDA_VISIBLE_DEVICES'] = gpu"
   ]
  },
  {
   "cell_type": "code",
   "execution_count": 9,
   "metadata": {
    "id": "MNm4EYFRZkHy"
   },
   "outputs": [],
   "source": [
    "# 作者封装的BayesKeras模块\n",
    "import BayesKeras\n",
    "import BayesKeras.optimizers as optimizers\n",
    "\n",
    "import tensorflow as tf\n",
    "from tensorflow.keras.models import *\n",
    "from tensorflow.keras.layers import *"
   ]
  },
  {
   "cell_type": "code",
   "execution_count": 5,
   "metadata": {
    "colab": {
     "base_uri": "https://localhost:8080/"
    },
    "id": "JwAWnS0uZhVv",
    "outputId": "b54018d7-dd3c-4de3-ba9f-a830b6312b33"
   },
   "outputs": [
    {
     "name": "stdout",
     "output_type": "stream",
     "text": [
      "Downloading data from https://storage.googleapis.com/tensorflow/tf-keras-datasets/mnist.npz\n",
      "11493376/11490434 [==============================] - 0s 0us/step\n",
      "11501568/11490434 [==============================] - 0s 0us/step\n",
      "This optimizer does not have a default compilation method. Please make sure to call the correct .compile method before use.\n",
      "BayesKeras: Using implicit prior\n",
      "(784, 512) 0.5646924393157821\n",
      "(512, 10) 0.6987712429686843\n",
      "BayesKeras: Using implicit prior\n",
      "(784, 512) 0.5646924393157821\n",
      "(512, 10) 0.6987712429686843\n",
      "BayesKeras: Detected robust training at compilation. Please ensure you have selected a robust-compatible loss\n",
      "<class 'list'>\n",
      "<class 'tensorflow.python.framework.ops.EagerTensor'>\n",
      "<class 'tensorflow.python.framework.ops.EagerTensor'>\n",
      "<class 'tensorflow.python.framework.ops.EagerTensor'>\n",
      "<class 'tensorflow.python.framework.ops.EagerTensor'>\n",
      "[<tf.Tensor: shape=(784, 512), dtype=float32, numpy=\n",
      "array([[0., 0., 0., ..., 0., 0., 0.],\n",
      "       [0., 0., 0., ..., 0., 0., 0.],\n",
      "       [0., 0., 0., ..., 0., 0., 0.],\n",
      "       ...,\n",
      "       [0., 0., 0., ..., 0., 0., 0.],\n",
      "       [0., 0., 0., ..., 0., 0., 0.],\n",
      "       [0., 0., 0., ..., 0., 0., 0.]], dtype=float32)>, <tf.Tensor: shape=(512,), dtype=float32, numpy=\n",
      "array([0., 0., 0., 0., 0., 0., 0., 0., 0., 0., 0., 0., 0., 0., 0., 0., 0.,\n",
      "       0., 0., 0., 0., 0., 0., 0., 0., 0., 0., 0., 0., 0., 0., 0., 0., 0.,\n",
      "       0., 0., 0., 0., 0., 0., 0., 0., 0., 0., 0., 0., 0., 0., 0., 0., 0.,\n",
      "       0., 0., 0., 0., 0., 0., 0., 0., 0., 0., 0., 0., 0., 0., 0., 0., 0.,\n",
      "       0., 0., 0., 0., 0., 0., 0., 0., 0., 0., 0., 0., 0., 0., 0., 0., 0.,\n",
      "       0., 0., 0., 0., 0., 0., 0., 0., 0., 0., 0., 0., 0., 0., 0., 0., 0.,\n",
      "       0., 0., 0., 0., 0., 0., 0., 0., 0., 0., 0., 0., 0., 0., 0., 0., 0.,\n",
      "       0., 0., 0., 0., 0., 0., 0., 0., 0., 0., 0., 0., 0., 0., 0., 0., 0.,\n",
      "       0., 0., 0., 0., 0., 0., 0., 0., 0., 0., 0., 0., 0., 0., 0., 0., 0.,\n",
      "       0., 0., 0., 0., 0., 0., 0., 0., 0., 0., 0., 0., 0., 0., 0., 0., 0.,\n",
      "       0., 0., 0., 0., 0., 0., 0., 0., 0., 0., 0., 0., 0., 0., 0., 0., 0.,\n",
      "       0., 0., 0., 0., 0., 0., 0., 0., 0., 0., 0., 0., 0., 0., 0., 0., 0.,\n",
      "       0., 0., 0., 0., 0., 0., 0., 0., 0., 0., 0., 0., 0., 0., 0., 0., 0.,\n",
      "       0., 0., 0., 0., 0., 0., 0., 0., 0., 0., 0., 0., 0., 0., 0., 0., 0.,\n",
      "       0., 0., 0., 0., 0., 0., 0., 0., 0., 0., 0., 0., 0., 0., 0., 0., 0.,\n",
      "       0., 0., 0., 0., 0., 0., 0., 0., 0., 0., 0., 0., 0., 0., 0., 0., 0.,\n",
      "       0., 0., 0., 0., 0., 0., 0., 0., 0., 0., 0., 0., 0., 0., 0., 0., 0.,\n",
      "       0., 0., 0., 0., 0., 0., 0., 0., 0., 0., 0., 0., 0., 0., 0., 0., 0.,\n",
      "       0., 0., 0., 0., 0., 0., 0., 0., 0., 0., 0., 0., 0., 0., 0., 0., 0.,\n",
      "       0., 0., 0., 0., 0., 0., 0., 0., 0., 0., 0., 0., 0., 0., 0., 0., 0.,\n",
      "       0., 0., 0., 0., 0., 0., 0., 0., 0., 0., 0., 0., 0., 0., 0., 0., 0.,\n",
      "       0., 0., 0., 0., 0., 0., 0., 0., 0., 0., 0., 0., 0., 0., 0., 0., 0.,\n",
      "       0., 0., 0., 0., 0., 0., 0., 0., 0., 0., 0., 0., 0., 0., 0., 0., 0.,\n",
      "       0., 0., 0., 0., 0., 0., 0., 0., 0., 0., 0., 0., 0., 0., 0., 0., 0.,\n",
      "       0., 0., 0., 0., 0., 0., 0., 0., 0., 0., 0., 0., 0., 0., 0., 0., 0.,\n",
      "       0., 0., 0., 0., 0., 0., 0., 0., 0., 0., 0., 0., 0., 0., 0., 0., 0.,\n",
      "       0., 0., 0., 0., 0., 0., 0., 0., 0., 0., 0., 0., 0., 0., 0., 0., 0.,\n",
      "       0., 0., 0., 0., 0., 0., 0., 0., 0., 0., 0., 0., 0., 0., 0., 0., 0.,\n",
      "       0., 0., 0., 0., 0., 0., 0., 0., 0., 0., 0., 0., 0., 0., 0., 0., 0.,\n",
      "       0., 0., 0., 0., 0., 0., 0., 0., 0., 0., 0., 0., 0., 0., 0., 0., 0.,\n",
      "       0., 0.], dtype=float32)>, <tf.Tensor: shape=(512, 10), dtype=float32, numpy=\n",
      "array([[0., 0., 0., ..., 0., 0., 0.],\n",
      "       [0., 0., 0., ..., 0., 0., 0.],\n",
      "       [0., 0., 0., ..., 0., 0., 0.],\n",
      "       ...,\n",
      "       [0., 0., 0., ..., 0., 0., 0.],\n",
      "       [0., 0., 0., ..., 0., 0., 0.],\n",
      "       [0., 0., 0., ..., 0., 0., 0.]], dtype=float32)>, <tf.Tensor: shape=(10,), dtype=float32, numpy=array([0., 0., 0., 0., 0., 0., 0., 0., 0., 0.], dtype=float32)>]\n"
     ]
    }
   ],
   "source": [
    "# 划分训练集，测试集\n",
    "(X_train, y_train), (X_test, y_test) = tf.keras.datasets.mnist.load_data()\n",
    "X_train = X_train/255.\n",
    "X_test = X_test/255.\n",
    "X_train = X_train.astype(\"float32\").reshape(-1, 28*28)\n",
    "X_test = X_test.astype(\"float32\").reshape(-1, 28*28)\n",
    "\n",
    "#X_train = X_train[0:10000]\n",
    "#y_train = y_train[0:10000]\n",
    "\n",
    "# 构建Sequential模型\n",
    "model = Sequential()\n",
    "# 构建Dense隐藏层并添加到模型中\n",
    "# 添加具有512个神经元的Dense隐藏层，使用relu激活函数\n",
    "model.add(Dense(512, activation=\"relu\", input_shape=(None, None, 28*28)))\n",
    "# 添加具有10个神经元的Dense隐藏层，使用softmax激活函数\n",
    "model.add(Dense(10, activation=\"softmax\"))\n",
    "\n",
    "inf = 2\n",
    "full_covar = False\n",
    "if(optim == 'VOGN'):\n",
    "    # was 0.25 for a bit\n",
    "    inf = 2\n",
    "    learning_rate = 0.35; decay=0.0\n",
    "    opt = optimizers.VariationalOnlineGuassNewton()\n",
    "elif(optim == 'BBB'):\n",
    "    inf = 10\n",
    "    learning_rate = 0.45; decay=0.0\n",
    "    opt = optimizers.BayesByBackprop()\n",
    "elif(optim == 'SWAG'):\n",
    "    learning_rate = 0.01; decay=0.0\n",
    "    opt = optimizers.StochasticWeightAveragingGaussian()\n",
    "elif(optim == 'SWAG-FC'):\n",
    "    learning_rate = 0.01; decay=0.0; full_covar=True\n",
    "    # 优化器.随机加权平均高斯\n",
    "    opt = optimizers.StochasticWeightAveragingGaussian()\n",
    "elif(optim == 'SGD'):\n",
    "    learning_rate = 1.0; decay=0.0\n",
    "    opt = optimizers.StochasticGradientDescent()\n",
    "elif(optim == 'NA'):\n",
    "    inf = 2\n",
    "    learning_rate = 0.001; decay=0.0\n",
    "    opt = optimizers.NoisyAdam()\n",
    "elif(optim == 'ADAM'):\n",
    "    learning_rate = 0.00001; decay=0.0\n",
    "    opt = optimizers.Adam()\n",
    "elif(optim == 'HMC'):\n",
    "    learning_rate = 0.075; decay=0.0; inf=250\n",
    "    linear_schedule = False\n",
    "    # 哈密顿蒙特卡罗\n",
    "    opt = optimizers.HamiltonianMonteCarlo()\n",
    "\n",
    "# Compile the model to train with Bayesian inference\n",
    "if(rob == 0):\n",
    "    # 稀疏分类交叉熵\n",
    "    loss = tf.keras.losses.SparseCategoricalCrossentropy()\n",
    "elif(rob != 0):\n",
    "    loss = BayesKeras.optimizers.losses.robust_crossentropy_loss\n",
    "\n",
    "bayes_model = opt.compile(model, loss_fn=loss, epochs=20, learning_rate=learning_rate,\n",
    "                          batch_size=128, linear_schedule=True,\n",
    "                          decay=decay, robust_train=rob, c=inf,\n",
    "                          burn_in=3, steps=25, b_steps=20, epsilon=eps, rob_lam=lam) #, preload=\"SGD_FCN_Posterior_1\")"
   ]
  },
  {
   "cell_type": "code",
   "execution_count": 6,
   "metadata": {
    "colab": {
     "base_uri": "https://localhost:8080/"
    },
    "id": "Adx0zGgIZhYY",
    "outputId": "00df01f5-2686-4498-e235-dea093e17581"
   },
   "outputs": [
    {
     "name": "stdout",
     "output_type": "stream",
     "text": [
      "BayesKeras Warning: HMC is a memory hungry optimizer. \n",
      "         Given you system and parameters of this training run,\n",
      "         we expect your system to need 0.002496 MB of available memory\n"
     ]
    },
    {
     "name": "stderr",
     "output_type": "stream",
     "text": [
      "/usr/local/lib/python3.7/dist-packages/numpy/core/_asarray.py:83: VisibleDeprecationWarning: Creating an ndarray from ragged nested sequences (which is a list-or-tuple of lists-or-tuples-or ndarrays with different lengths or shapes) is deprecated. If you meant to do this, you must specify 'dtype=object' when creating the ndarray\n",
      "  return array(a, dtype, copy=False, order=order)\n",
      "Numerical Integration: 100%|██████████| 20/20 [02:44<00:00,  8.20s/it]\n"
     ]
    },
    {
     "name": "stdout",
     "output_type": "stream",
     "text": [
      "Current  U:  tf.Tensor(2.362415, shape=(), dtype=float32)\n",
      "Proposed U:  tf.Tensor(0.656806, shape=(), dtype=float32)\n",
      "Current  K:  tf.Tensor(0.007950459, shape=(), dtype=float32)\n",
      "Proposed K:  tf.Tensor(0.012483012, shape=(), dtype=float32)\n",
      "METROPOLIS CORRECTION CONSTANT:  tf.Tensor(5.479843, shape=(), dtype=float32)\n",
      "ACCEPTED\n",
      "Debug info:\n",
      "[0, 1]\n",
      "Epoch 1, loss: 3.130, acc: 0.612, val_loss: 0.606, val_acc: 0.878, rob: 0.000, (eps = 0.000000)\n",
      "Still in Burn-In state of Markov chain.\n"
     ]
    },
    {
     "name": "stderr",
     "output_type": "stream",
     "text": [
      "Numerical Integration: 100%|██████████| 20/20 [02:47<00:00,  8.39s/it]\n"
     ]
    },
    {
     "name": "stdout",
     "output_type": "stream",
     "text": [
      "Current  U:  tf.Tensor(0.656806, shape=(), dtype=float32)\n",
      "Proposed U:  tf.Tensor(0.54883325, shape=(), dtype=float32)\n",
      "Current  K:  tf.Tensor(0.008193829, shape=(), dtype=float32)\n",
      "Proposed K:  tf.Tensor(0.008865946, shape=(), dtype=float32)\n",
      "METROPOLIS CORRECTION CONSTANT:  tf.Tensor(1.1132689, shape=(), dtype=float32)\n",
      "ACCEPTED\n",
      "Debug info:\n",
      "[0, 1]\n",
      "Epoch 2, loss: 2.659, acc: 0.879, val_loss: 0.500, val_acc: 0.889, rob: 0.000, (eps = 0.036667)\n",
      "Still in Burn-In state of Markov chain.\n"
     ]
    },
    {
     "name": "stderr",
     "output_type": "stream",
     "text": [
      "Numerical Integration: 100%|██████████| 20/20 [02:48<00:00,  8.41s/it]\n"
     ]
    },
    {
     "name": "stdout",
     "output_type": "stream",
     "text": [
      "Current  U:  tf.Tensor(0.54883325, shape=(), dtype=float32)\n",
      "Proposed U:  tf.Tensor(0.6336301, shape=(), dtype=float32)\n",
      "Current  K:  tf.Tensor(0.0066845226, shape=(), dtype=float32)\n",
      "Proposed K:  tf.Tensor(0.0065457197, shape=(), dtype=float32)\n",
      "METROPOLIS CORRECTION CONSTANT:  tf.Tensor(0.9188264, shape=(), dtype=float32)\n",
      "ACCEPTED\n",
      "Debug info:\n",
      "[0, 1]\n",
      "Epoch 3, loss: 3.278, acc: 0.878, val_loss: 0.599, val_acc: 0.875, rob: 0.000, (eps = 0.073333)\n",
      "Still in Burn-In state of Markov chain.\n"
     ]
    },
    {
     "name": "stderr",
     "output_type": "stream",
     "text": [
      "Numerical Integration: 100%|██████████| 25/25 [03:29<00:00,  8.36s/it]\n"
     ]
    },
    {
     "name": "stdout",
     "output_type": "stream",
     "text": [
      "Current  U:  tf.Tensor(0.6336301, shape=(), dtype=float32)\n",
      "Proposed U:  tf.Tensor(0.8893929, shape=(), dtype=float32)\n",
      "Current  K:  tf.Tensor(0.013238585, shape=(), dtype=float32)\n",
      "Proposed K:  tf.Tensor(0.013295075, shape=(), dtype=float32)\n",
      "METROPOLIS CORRECTION CONSTANT:  tf.Tensor(0.77428186, shape=(), dtype=float32)\n",
      "ACCEPTED\n",
      "Debug info:\n",
      "[0, 1]\n",
      "Epoch 1, loss: 3.453, acc: 0.858, val_loss: 0.820, val_acc: 0.848, rob: 0.000, (eps = 0.110000)\n",
      "Out of Burn-In state. Generating samples from the chain\n"
     ]
    },
    {
     "name": "stderr",
     "output_type": "stream",
     "text": [
      "Numerical Integration: 100%|██████████| 25/25 [03:28<00:00,  8.33s/it]\n"
     ]
    },
    {
     "name": "stdout",
     "output_type": "stream",
     "text": [
      "Current  U:  tf.Tensor(0.8893929, shape=(), dtype=float32)\n",
      "Proposed U:  tf.Tensor(0.9462096, shape=(), dtype=float32)\n",
      "Current  K:  tf.Tensor(0.014746658, shape=(), dtype=float32)\n",
      "Proposed K:  tf.Tensor(0.014539902, shape=(), dtype=float32)\n",
      "METROPOLIS CORRECTION CONSTANT:  tf.Tensor(0.94496256, shape=(), dtype=float32)\n",
      "ACCEPTED\n",
      "Debug info:\n",
      "[0, 1, 1]\n",
      "Epoch 2, loss: 3.633, acc: 0.850, val_loss: 0.895, val_acc: 0.859, rob: 0.000, (eps = 0.110000)\n",
      "Out of Burn-In state. Generating samples from the chain\n"
     ]
    },
    {
     "name": "stderr",
     "output_type": "stream",
     "text": [
      "Numerical Integration: 100%|██████████| 25/25 [03:27<00:00,  8.32s/it]\n"
     ]
    },
    {
     "name": "stdout",
     "output_type": "stream",
     "text": [
      "Current  U:  tf.Tensor(0.9462096, shape=(), dtype=float32)\n",
      "Proposed U:  tf.Tensor(1.03468, shape=(), dtype=float32)\n",
      "Current  K:  tf.Tensor(0.014487675, shape=(), dtype=float32)\n",
      "Proposed K:  tf.Tensor(0.014371372, shape=(), dtype=float32)\n",
      "METROPOLIS CORRECTION CONSTANT:  tf.Tensor(0.9154367, shape=(), dtype=float32)\n",
      "ACCEPTED\n",
      "Debug info:\n",
      "[0, 1, 1, 1]\n",
      "Epoch 3, loss: 3.753, acc: 0.855, val_loss: 0.956, val_acc: 0.862, rob: 0.000, (eps = 0.110000)\n",
      "Out of Burn-In state. Generating samples from the chain\n"
     ]
    },
    {
     "name": "stderr",
     "output_type": "stream",
     "text": [
      "Numerical Integration: 100%|██████████| 25/25 [03:28<00:00,  8.32s/it]\n"
     ]
    },
    {
     "name": "stdout",
     "output_type": "stream",
     "text": [
      "Current  U:  tf.Tensor(1.03468, shape=(), dtype=float32)\n",
      "Proposed U:  tf.Tensor(1.1344299, shape=(), dtype=float32)\n",
      "Current  K:  tf.Tensor(0.016029738, shape=(), dtype=float32)\n",
      "Proposed K:  tf.Tensor(0.016179066, shape=(), dtype=float32)\n",
      "METROPOLIS CORRECTION CONSTANT:  tf.Tensor(0.90492857, shape=(), dtype=float32)\n",
      "ACCEPTED\n",
      "Debug info:\n",
      "[0, 1, 1, 1, 1]\n",
      "Epoch 4, loss: 3.868, acc: 0.858, val_loss: 1.117, val_acc: 0.855, rob: 0.000, (eps = 0.110000)\n",
      "Out of Burn-In state. Generating samples from the chain\n"
     ]
    },
    {
     "name": "stderr",
     "output_type": "stream",
     "text": [
      "Numerical Integration: 100%|██████████| 25/25 [03:32<00:00,  8.48s/it]\n"
     ]
    },
    {
     "name": "stdout",
     "output_type": "stream",
     "text": [
      "Current  U:  tf.Tensor(1.1344299, shape=(), dtype=float32)\n",
      "Proposed U:  tf.Tensor(1.213339, shape=(), dtype=float32)\n",
      "Current  K:  tf.Tensor(0.015022511, shape=(), dtype=float32)\n",
      "Proposed K:  tf.Tensor(0.015092986, shape=(), dtype=float32)\n",
      "METROPOLIS CORRECTION CONSTANT:  tf.Tensor(0.92405885, shape=(), dtype=float32)\n",
      "ACCEPTED\n",
      "Debug info:\n",
      "[0, 1, 1, 1, 1, 1]\n",
      "Epoch 5, loss: 3.971, acc: 0.855, val_loss: 1.162, val_acc: 0.857, rob: 0.000, (eps = 0.110000)\n",
      "Out of Burn-In state. Generating samples from the chain\n"
     ]
    },
    {
     "name": "stderr",
     "output_type": "stream",
     "text": [
      "Numerical Integration: 100%|██████████| 25/25 [03:29<00:00,  8.37s/it]\n"
     ]
    },
    {
     "name": "stdout",
     "output_type": "stream",
     "text": [
      "Current  U:  tf.Tensor(1.213339, shape=(), dtype=float32)\n",
      "Proposed U:  tf.Tensor(1.2315278, shape=(), dtype=float32)\n",
      "Current  K:  tf.Tensor(0.013849156, shape=(), dtype=float32)\n",
      "Proposed K:  tf.Tensor(0.013813682, shape=(), dtype=float32)\n",
      "METROPOLIS CORRECTION CONSTANT:  tf.Tensor(0.9820104, shape=(), dtype=float32)\n",
      "ACCEPTED\n",
      "Debug info:\n",
      "[0, 1, 1, 1, 1, 1, 1]\n",
      "Epoch 6, loss: 4.093, acc: 0.857, val_loss: 1.188, val_acc: 0.865, rob: 0.000, (eps = 0.110000)\n",
      "Out of Burn-In state. Generating samples from the chain\n"
     ]
    },
    {
     "name": "stderr",
     "output_type": "stream",
     "text": [
      "Numerical Integration: 100%|██████████| 25/25 [03:28<00:00,  8.35s/it]\n"
     ]
    },
    {
     "name": "stdout",
     "output_type": "stream",
     "text": [
      "Current  U:  tf.Tensor(1.2315278, shape=(), dtype=float32)\n",
      "Proposed U:  tf.Tensor(1.337668, shape=(), dtype=float32)\n",
      "Current  K:  tf.Tensor(0.012566304, shape=(), dtype=float32)\n",
      "Proposed K:  tf.Tensor(0.012674887, shape=(), dtype=float32)\n",
      "METROPOLIS CORRECTION CONSTANT:  tf.Tensor(0.899201, shape=(), dtype=float32)\n",
      "ACCEPTED\n",
      "Debug info:\n",
      "[0, 1, 1, 1, 1, 1, 1, 1]\n",
      "Epoch 7, loss: 4.191, acc: 0.858, val_loss: 1.278, val_acc: 0.862, rob: 0.000, (eps = 0.110000)\n",
      "Out of Burn-In state. Generating samples from the chain\n"
     ]
    },
    {
     "name": "stderr",
     "output_type": "stream",
     "text": [
      "Numerical Integration: 100%|██████████| 25/25 [03:28<00:00,  8.33s/it]\n"
     ]
    },
    {
     "name": "stdout",
     "output_type": "stream",
     "text": [
      "Current  U:  tf.Tensor(1.337668, shape=(), dtype=float32)\n",
      "Proposed U:  tf.Tensor(1.3369669, shape=(), dtype=float32)\n",
      "Current  K:  tf.Tensor(0.01725727, shape=(), dtype=float32)\n",
      "Proposed K:  tf.Tensor(0.017377434, shape=(), dtype=float32)\n",
      "METROPOLIS CORRECTION CONSTANT:  tf.Tensor(1.000581, shape=(), dtype=float32)\n",
      "ACCEPTED\n",
      "Debug info:\n",
      "[0, 1, 1, 1, 1, 1, 1, 1, 1]\n",
      "Epoch 8, loss: 4.267, acc: 0.861, val_loss: 1.287, val_acc: 0.865, rob: 0.000, (eps = 0.110000)\n",
      "Out of Burn-In state. Generating samples from the chain\n"
     ]
    },
    {
     "name": "stderr",
     "output_type": "stream",
     "text": [
      "Numerical Integration: 100%|██████████| 25/25 [03:28<00:00,  8.32s/it]\n"
     ]
    },
    {
     "name": "stdout",
     "output_type": "stream",
     "text": [
      "Current  U:  tf.Tensor(1.3369669, shape=(), dtype=float32)\n",
      "Proposed U:  tf.Tensor(1.4462143, shape=(), dtype=float32)\n",
      "Current  K:  tf.Tensor(0.014278324, shape=(), dtype=float32)\n",
      "Proposed K:  tf.Tensor(0.014324416, shape=(), dtype=float32)\n",
      "METROPOLIS CORRECTION CONSTANT:  tf.Tensor(0.8964672, shape=(), dtype=float32)\n",
      "ACCEPTED\n",
      "Debug info:\n",
      "[0, 1, 1, 1, 1, 1, 1, 1, 1, 1]\n",
      "Epoch 9, loss: 4.374, acc: 0.857, val_loss: 1.429, val_acc: 0.858, rob: 0.000, (eps = 0.110000)\n",
      "Out of Burn-In state. Generating samples from the chain\n"
     ]
    },
    {
     "name": "stderr",
     "output_type": "stream",
     "text": [
      "Numerical Integration: 100%|██████████| 25/25 [03:25<00:00,  8.23s/it]\n"
     ]
    },
    {
     "name": "stdout",
     "output_type": "stream",
     "text": [
      "Current  U:  tf.Tensor(1.4462143, shape=(), dtype=float32)\n",
      "Proposed U:  tf.Tensor(1.4222456, shape=(), dtype=float32)\n",
      "Current  K:  tf.Tensor(0.015557254, shape=(), dtype=float32)\n",
      "Proposed K:  tf.Tensor(0.01552085, shape=(), dtype=float32)\n",
      "METROPOLIS CORRECTION CONSTANT:  tf.Tensor(1.0242956, shape=(), dtype=float32)\n",
      "ACCEPTED\n",
      "Debug info:\n",
      "[0, 1, 1, 1, 1, 1, 1, 1, 1, 1, 1]\n",
      "Epoch 10, loss: 4.502, acc: 0.855, val_loss: 1.385, val_acc: 0.861, rob: 0.000, (eps = 0.110000)\n",
      "Out of Burn-In state. Generating samples from the chain\n"
     ]
    },
    {
     "name": "stderr",
     "output_type": "stream",
     "text": [
      "Numerical Integration: 100%|██████████| 25/25 [03:25<00:00,  8.20s/it]\n"
     ]
    },
    {
     "name": "stdout",
     "output_type": "stream",
     "text": [
      "Current  U:  tf.Tensor(1.4222456, shape=(), dtype=float32)\n",
      "Proposed U:  tf.Tensor(1.4659318, shape=(), dtype=float32)\n",
      "Current  K:  tf.Tensor(0.012905805, shape=(), dtype=float32)\n",
      "Proposed K:  tf.Tensor(0.0129302135, shape=(), dtype=float32)\n",
      "METROPOLIS CORRECTION CONSTANT:  tf.Tensor(0.957231, shape=(), dtype=float32)\n",
      "ACCEPTED\n",
      "Debug info:\n",
      "[0, 1, 1, 1, 1, 1, 1, 1, 1, 1, 1, 1]\n",
      "Epoch 11, loss: 4.621, acc: 0.858, val_loss: 1.471, val_acc: 0.857, rob: 0.000, (eps = 0.110000)\n",
      "Out of Burn-In state. Generating samples from the chain\n"
     ]
    },
    {
     "name": "stderr",
     "output_type": "stream",
     "text": [
      "Numerical Integration: 100%|██████████| 25/25 [03:24<00:00,  8.18s/it]\n"
     ]
    },
    {
     "name": "stdout",
     "output_type": "stream",
     "text": [
      "Current  U:  tf.Tensor(1.4659318, shape=(), dtype=float32)\n",
      "Proposed U:  tf.Tensor(1.4841509, shape=(), dtype=float32)\n",
      "Current  K:  tf.Tensor(0.015872579, shape=(), dtype=float32)\n",
      "Proposed K:  tf.Tensor(0.015902014, shape=(), dtype=float32)\n",
      "METROPOLIS CORRECTION CONSTANT:  tf.Tensor(0.98191696, shape=(), dtype=float32)\n",
      "ACCEPTED\n",
      "Debug info:\n",
      "[0, 1, 1, 1, 1, 1, 1, 1, 1, 1, 1, 1, 1]\n",
      "Epoch 12, loss: 4.752, acc: 0.860, val_loss: 1.445, val_acc: 0.862, rob: 0.000, (eps = 0.110000)\n",
      "Out of Burn-In state. Generating samples from the chain\n"
     ]
    },
    {
     "name": "stderr",
     "output_type": "stream",
     "text": [
      "Numerical Integration: 100%|██████████| 25/25 [03:24<00:00,  8.17s/it]\n"
     ]
    },
    {
     "name": "stdout",
     "output_type": "stream",
     "text": [
      "Current  U:  tf.Tensor(1.4841509, shape=(), dtype=float32)\n",
      "Proposed U:  tf.Tensor(1.5608268, shape=(), dtype=float32)\n",
      "Current  K:  tf.Tensor(0.014657779, shape=(), dtype=float32)\n",
      "Proposed K:  tf.Tensor(0.014677055, shape=(), dtype=float32)\n",
      "METROPOLIS CORRECTION CONSTANT:  tf.Tensor(0.92617214, shape=(), dtype=float32)\n",
      "ACCEPTED\n",
      "Debug info:\n",
      "[0, 1, 1, 1, 1, 1, 1, 1, 1, 1, 1, 1, 1, 1]\n",
      "Epoch 13, loss: 4.881, acc: 0.859, val_loss: 1.510, val_acc: 0.859, rob: 0.000, (eps = 0.110000)\n",
      "Out of Burn-In state. Generating samples from the chain\n"
     ]
    },
    {
     "name": "stderr",
     "output_type": "stream",
     "text": [
      "Numerical Integration: 100%|██████████| 25/25 [03:24<00:00,  8.18s/it]\n"
     ]
    },
    {
     "name": "stdout",
     "output_type": "stream",
     "text": [
      "Current  U:  tf.Tensor(1.5608268, shape=(), dtype=float32)\n",
      "Proposed U:  tf.Tensor(1.5231802, shape=(), dtype=float32)\n",
      "Current  K:  tf.Tensor(0.015559075, shape=(), dtype=float32)\n",
      "Proposed K:  tf.Tensor(0.0154835805, shape=(), dtype=float32)\n",
      "METROPOLIS CORRECTION CONSTANT:  tf.Tensor(1.0384425, shape=(), dtype=float32)\n",
      "ACCEPTED\n",
      "Debug info:\n",
      "[0, 1, 1, 1, 1, 1, 1, 1, 1, 1, 1, 1, 1, 1, 1]\n",
      "Epoch 14, loss: 4.982, acc: 0.859, val_loss: 1.441, val_acc: 0.865, rob: 0.000, (eps = 0.110000)\n",
      "Out of Burn-In state. Generating samples from the chain\n"
     ]
    },
    {
     "name": "stderr",
     "output_type": "stream",
     "text": [
      "Numerical Integration: 100%|██████████| 25/25 [03:24<00:00,  8.17s/it]\n"
     ]
    },
    {
     "name": "stdout",
     "output_type": "stream",
     "text": [
      "Current  U:  tf.Tensor(1.5231802, shape=(), dtype=float32)\n",
      "Proposed U:  tf.Tensor(1.5839983, shape=(), dtype=float32)\n",
      "Current  K:  tf.Tensor(0.014260545, shape=(), dtype=float32)\n",
      "Proposed K:  tf.Tensor(0.01421628, shape=(), dtype=float32)\n",
      "METROPOLIS CORRECTION CONSTANT:  tf.Tensor(0.94103605, shape=(), dtype=float32)\n",
      "ACCEPTED\n",
      "Debug info:\n",
      "[0, 1, 1, 1, 1, 1, 1, 1, 1, 1, 1, 1, 1, 1, 1, 1]\n",
      "Epoch 15, loss: 5.089, acc: 0.860, val_loss: 1.575, val_acc: 0.855, rob: 0.000, (eps = 0.110000)\n",
      "Out of Burn-In state. Generating samples from the chain\n"
     ]
    },
    {
     "name": "stderr",
     "output_type": "stream",
     "text": [
      "Numerical Integration: 100%|██████████| 25/25 [03:24<00:00,  8.17s/it]\n"
     ]
    },
    {
     "name": "stdout",
     "output_type": "stream",
     "text": [
      "Current  U:  tf.Tensor(1.5839983, shape=(), dtype=float32)\n",
      "Proposed U:  tf.Tensor(1.6012921, shape=(), dtype=float32)\n",
      "Current  K:  tf.Tensor(0.014848979, shape=(), dtype=float32)\n",
      "Proposed K:  tf.Tensor(0.014832957, shape=(), dtype=float32)\n",
      "METROPOLIS CORRECTION CONSTANT:  tf.Tensor(0.98287064, shape=(), dtype=float32)\n",
      "ACCEPTED\n",
      "Debug info:\n",
      "[0, 1, 1, 1, 1, 1, 1, 1, 1, 1, 1, 1, 1, 1, 1, 1, 1]\n",
      "Epoch 16, loss: 5.246, acc: 0.857, val_loss: 1.560, val_acc: 0.856, rob: 0.000, (eps = 0.110000)\n",
      "Out of Burn-In state. Generating samples from the chain\n"
     ]
    },
    {
     "name": "stderr",
     "output_type": "stream",
     "text": [
      "Numerical Integration: 100%|██████████| 25/25 [03:24<00:00,  8.17s/it]\n"
     ]
    },
    {
     "name": "stdout",
     "output_type": "stream",
     "text": [
      "Current  U:  tf.Tensor(1.6012921, shape=(), dtype=float32)\n",
      "Proposed U:  tf.Tensor(1.6207672, shape=(), dtype=float32)\n",
      "Current  K:  tf.Tensor(0.013395123, shape=(), dtype=float32)\n",
      "Proposed K:  tf.Tensor(0.013389155, shape=(), dtype=float32)\n",
      "METROPOLIS CORRECTION CONSTANT:  tf.Tensor(0.98071915, shape=(), dtype=float32)\n",
      "ACCEPTED\n",
      "Debug info:\n",
      "[0, 1, 1, 1, 1, 1, 1, 1, 1, 1, 1, 1, 1, 1, 1, 1, 1, 1]\n",
      "Epoch 17, loss: 5.368, acc: 0.853, val_loss: 1.631, val_acc: 0.853, rob: 0.000, (eps = 0.110000)\n",
      "Out of Burn-In state. Generating samples from the chain\n"
     ]
    },
    {
     "name": "stderr",
     "output_type": "stream",
     "text": [
      "Numerical Integration: 100%|██████████| 25/25 [03:23<00:00,  8.16s/it]\n"
     ]
    },
    {
     "name": "stdout",
     "output_type": "stream",
     "text": [
      "Current  U:  tf.Tensor(1.6207672, shape=(), dtype=float32)\n",
      "Proposed U:  tf.Tensor(1.5925021, shape=(), dtype=float32)\n",
      "Current  K:  tf.Tensor(0.012876404, shape=(), dtype=float32)\n",
      "Proposed K:  tf.Tensor(0.012981067, shape=(), dtype=float32)\n",
      "METROPOLIS CORRECTION CONSTANT:  tf.Tensor(1.0285608, shape=(), dtype=float32)\n",
      "ACCEPTED\n",
      "Debug info:\n",
      "[0, 1, 1, 1, 1, 1, 1, 1, 1, 1, 1, 1, 1, 1, 1, 1, 1, 1, 1]\n",
      "Epoch 18, loss: 5.405, acc: 0.858, val_loss: 1.559, val_acc: 0.861, rob: 0.000, (eps = 0.110000)\n",
      "Out of Burn-In state. Generating samples from the chain\n"
     ]
    },
    {
     "name": "stderr",
     "output_type": "stream",
     "text": [
      "Numerical Integration: 100%|██████████| 25/25 [03:24<00:00,  8.16s/it]\n"
     ]
    },
    {
     "name": "stdout",
     "output_type": "stream",
     "text": [
      "Current  U:  tf.Tensor(1.5925021, shape=(), dtype=float32)\n",
      "Proposed U:  tf.Tensor(1.6639435, shape=(), dtype=float32)\n",
      "Current  K:  tf.Tensor(0.013712346, shape=(), dtype=float32)\n",
      "Proposed K:  tf.Tensor(0.013774063, shape=(), dtype=float32)\n",
      "METROPOLIS CORRECTION CONSTANT:  tf.Tensor(0.9309934, shape=(), dtype=float32)\n",
      "REJECTED\n",
      "Debug info:\n",
      "[0, 1, 1, 1, 1, 1, 1, 1, 1, 1, 1, 1, 1, 1, 1, 1, 1, 1, 2]\n",
      "Epoch 19, loss: 5.486, acc: 0.856, val_loss: 1.617, val_acc: 0.857, rob: 0.000, (eps = 0.110000)\n",
      "Out of Burn-In state. Generating samples from the chain\n"
     ]
    },
    {
     "name": "stderr",
     "output_type": "stream",
     "text": [
      "Numerical Integration: 100%|██████████| 25/25 [03:23<00:00,  8.15s/it]\n"
     ]
    },
    {
     "name": "stdout",
     "output_type": "stream",
     "text": [
      "Current  U:  tf.Tensor(1.5925021, shape=(), dtype=float32)\n",
      "Proposed U:  tf.Tensor(1.698325, shape=(), dtype=float32)\n",
      "Current  K:  tf.Tensor(0.012494015, shape=(), dtype=float32)\n",
      "Proposed K:  tf.Tensor(0.012518293, shape=(), dtype=float32)\n",
      "METROPOLIS CORRECTION CONSTANT:  tf.Tensor(0.89956206, shape=(), dtype=float32)\n",
      "ACCEPTED\n",
      "Debug info:\n",
      "[0, 1, 1, 1, 1, 1, 1, 1, 1, 1, 1, 1, 1, 1, 1, 1, 1, 1, 2, 1]\n",
      "Epoch 20, loss: 5.556, acc: 0.854, val_loss: 1.598, val_acc: 0.860, rob: 0.000, (eps = 0.110000)\n",
      "Out of Burn-In state. Generating samples from the chain\n"
     ]
    },
    {
     "name": "stderr",
     "output_type": "stream",
     "text": [
      "Numerical Integration: 100%|██████████| 25/25 [03:23<00:00,  8.14s/it]\n"
     ]
    },
    {
     "name": "stdout",
     "output_type": "stream",
     "text": [
      "Current  U:  tf.Tensor(1.698325, shape=(), dtype=float32)\n",
      "Proposed U:  tf.Tensor(1.747495, shape=(), dtype=float32)\n",
      "Current  K:  tf.Tensor(0.014051455, shape=(), dtype=float32)\n",
      "Proposed K:  tf.Tensor(0.014085925, shape=(), dtype=float32)\n",
      "METROPOLIS CORRECTION CONSTANT:  tf.Tensor(0.95198643, shape=(), dtype=float32)\n",
      "ACCEPTED\n",
      "Debug info:\n",
      "[0, 1, 1, 1, 1, 1, 1, 1, 1, 1, 1, 1, 1, 1, 1, 1, 1, 1, 2, 1, 1]\n",
      "Epoch 21, loss: 5.682, acc: 0.851, val_loss: 1.630, val_acc: 0.856, rob: 0.000, (eps = 0.110000)\n",
      "Out of Burn-In state. Generating samples from the chain\n"
     ]
    }
   ],
   "source": [
    "# steps was 50\n",
    "# Train the model on your data\n",
    "bayes_model.train(X_train, y_train, X_test, y_test)"
   ]
  },
  {
   "cell_type": "code",
   "execution_count": 7,
   "metadata": {
    "colab": {
     "base_uri": "https://localhost:8080/"
    },
    "id": "d6qTjn8rZha9",
    "outputId": "763efe44-6afe-4962-d365-8d765dcf1c05"
   },
   "outputs": [
    {
     "name": "stderr",
     "output_type": "stream",
     "text": [
      "/usr/local/lib/python3.7/dist-packages/numpy/core/_asarray.py:83: VisibleDeprecationWarning: Creating an ndarray from ragged nested sequences (which is a list-or-tuple of lists-or-tuples-or ndarrays with different lengths or shapes) is deprecated. If you meant to do this, you must specify 'dtype=object' when creating the ndarray\n",
      "  return array(a, dtype, copy=False, order=order)\n"
     ]
    },
    {
     "name": "stdout",
     "output_type": "stream",
     "text": [
      "WARNING:tensorflow:Compiled the loaded model, but the compiled metrics have yet to be built. `model.compile_metrics` will be empty until you train or evaluate the model.\n"
     ]
    }
   ],
   "source": [
    "# Save your approxiate Bayesian posterior\n",
    "bayes_model.save(experiment + \"%s_FCN_Posterior_%s\"%(optim, rob))"
   ]
  },
  {
   "cell_type": "code",
   "execution_count": null,
   "metadata": {
    "id": "JK9Pn-xEp124"
   },
   "outputs": [],
   "source": []
  }
 ],
 "metadata": {
  "colab": {
   "authorship_tag": "ABX9TyOg5K8aIsBLwNfcz5oDu1eD",
   "collapsed_sections": [],
   "include_colab_link": true,
   "name": "MNIST_runner.ipynb",
   "provenance": []
  },
  "kernelspec": {
   "display_name": "Python3",
   "language": "python",
   "name": "python3"
  },
  "language_info": {
   "codemirror_mode": {
    "name": "ipython",
    "version": 3
   },
   "file_extension": ".py",
   "mimetype": "text/x-python",
   "name": "python",
   "nbconvert_exporter": "python",
   "pygments_lexer": "ipython3",
   "version": "3.7.6"
  },
  "toc": {
   "base_numbering": 1,
   "nav_menu": {},
   "number_sections": true,
   "sideBar": true,
   "skip_h1_title": false,
   "title_cell": "Table of Contents",
   "title_sidebar": "Contents",
   "toc_cell": false,
   "toc_position": {},
   "toc_section_display": true,
   "toc_window_display": false
  },
  "varInspector": {
   "cols": {
    "lenName": 16,
    "lenType": 16,
    "lenVar": 40
   },
   "kernels_config": {
    "python": {
     "delete_cmd_postfix": "",
     "delete_cmd_prefix": "del ",
     "library": "var_list.py",
     "varRefreshCmd": "print(var_dic_list())"
    },
    "r": {
     "delete_cmd_postfix": ") ",
     "delete_cmd_prefix": "rm(",
     "library": "var_list.r",
     "varRefreshCmd": "cat(var_dic_list()) "
    }
   },
   "types_to_exclude": [
    "module",
    "function",
    "builtin_function_or_method",
    "instance",
    "_Feature"
   ],
   "window_display": false
  }
 },
 "nbformat": 4,
 "nbformat_minor": 1
}
