{
  "nbformat": 4,
  "nbformat_minor": 0,
  "metadata": {
    "colab": {
      "name": "analysis.ipynb",
      "provenance": [],
      "include_colab_link": true
    },
    "kernelspec": {
      "name": "python3",
      "display_name": "Python 3"
    },
    "language_info": {
      "name": "python"
    }
  },
  "cells": [
    {
      "cell_type": "markdown",
      "metadata": {
        "id": "view-in-github",
        "colab_type": "text"
      },
      "source": [
        "<a href=\"https://colab.research.google.com/github/Hongchenglong/colab/blob/main/CertifiableBayesianInference/FCN_Experiments/analysis.ipynb\" target=\"_parent\"><img src=\"https://colab.research.google.com/assets/colab-badge.svg\" alt=\"Open In Colab\"/></a>"
      ]
    },
    {
      "cell_type": "code",
      "metadata": {
        "colab": {
          "base_uri": "https://localhost:8080/"
        },
        "id": "6TGbK9oIw9gl",
        "outputId": "808a16e4-001f-4a59-faac-393a160243a8"
      },
      "source": [
        "from google.colab import drive\n",
        "drive.mount('/content/drive')"
      ],
      "execution_count": 1,
      "outputs": [
        {
          "output_type": "stream",
          "name": "stdout",
          "text": [
            "Mounted at /content/drive\n"
          ]
        }
      ]
    },
    {
      "cell_type": "code",
      "metadata": {
        "id": "G_zNvxljPoFO"
      },
      "source": [
        "import sys, os\n",
        "from pathlib import Path\n",
        "path = Path(os.getcwd())\n",
        "sys.path.append(str(path.parent))\n",
        "sys.path.append('/content/drive/MyDrive/ColabNotebooks/CertifiableBayesianInference')\n",
        "experiment = '/content/drive/MyDrive/ColabNotebooks/CertifiableBayesianInference/FCN_Experiments/'"
      ],
      "execution_count": 2,
      "outputs": []
    },
    {
      "cell_type": "code",
      "metadata": {
        "id": "SFu_d8cP3aa5"
      },
      "source": [
        "# python3 MNIST_runner.py --eps 0.11 --lam 0.25 --rob 0 --opt HMC --gpu 0 &\n",
        "# python3 MNIST_runner.py --eps 0.11 --lam 0.25 --rob 2 --opt HMC --gpu 1 &\n",
        "\n",
        "dict = {'eps': 0.11, 'lam': 0.25, 'rob': 0, 'opt': 'HMC', 'gpu': '0'}\n",
        "\n",
        "rob = dict['rob']\n",
        "opt = dict['opt']\n",
        "inference = opt"
      ],
      "execution_count": 8,
      "outputs": []
    },
    {
      "cell_type": "code",
      "metadata": {
        "colab": {
          "base_uri": "https://localhost:8080/"
        },
        "id": "hN6AkNue3sR7",
        "outputId": "5bd7f9d7-7e1e-4528-d406-24b015cd5440"
      },
      "source": [
        "import BayesKeras\n",
        "from BayesKeras import PosteriorModel\n",
        "from BayesKeras import analyzers\n",
        "\n",
        "import tensorflow as tf\n",
        "from tensorflow.keras.models import *\n",
        "from tensorflow.keras.layers import *\n",
        "os.environ['CUDA_VISIBLE_DEVICES'] = '-1'\n",
        "\n",
        "import numpy as np\n",
        "\n",
        "(X_train, y_train), (X_test, y_test) = tf.keras.datasets.mnist.load_data()\n",
        "X_train = X_train/255.\n",
        "X_test = X_test/255.\n",
        "X_train = X_train.astype(\"float32\").reshape(-1, 28*28)\n",
        "X_test = X_test.astype(\"float32\").reshape(-1, 28*28)\n",
        "\n",
        "\n",
        "model = PosteriorModel(experiment + \"%s_FCN_Posterior_%s\"%(inference, rob))"
      ],
      "execution_count": 9,
      "outputs": [
        {
          "output_type": "stream",
          "name": "stdout",
          "text": [
            "[INFO] BayesKeras: Attempting to load a sample based posterior\n",
            "WARNING:tensorflow:No training configuration found in the save file, so the model was *not* compiled. Compile it manually.\n",
            "Model: \"sequential_3\"\n",
            "_________________________________________________________________\n",
            " Layer (type)                Output Shape              Param #   \n",
            "=================================================================\n",
            " dense_6 (Dense)             (None, None, None, 512)   401920    \n",
            "                                                                 \n",
            " dense_7 (Dense)             (None, None, None, 10)    5130      \n",
            "                                                                 \n",
            "=================================================================\n",
            "Total params: 407,050\n",
            "Trainable params: 407,050\n",
            "Non-trainable params: 0\n",
            "_________________________________________________________________\n",
            "BayesKeras detected the above model \n",
            " None\n"
          ]
        }
      ]
    },
    {
      "cell_type": "code",
      "metadata": {
        "colab": {
          "base_uri": "https://localhost:8080/",
          "height": 122
        },
        "id": "NmkAoIy0tMTb",
        "outputId": "498e3e6c-e75d-46c9-f89f-92b50b7ec0bc"
      },
      "source": [
        "\n",
        "from tqdm import trange\n",
        "\n",
        "loss = tf.keras.losses.SparseCategoricalCrossentropy()\n",
        "\n",
        "num_images = 500\n",
        "\n",
        "accuracy = tf.keras.metrics.Accuracy()\n",
        "preds = model.predict(X_test[0:500]) #np.argmax(model.predict(np.asarray(adv)), axis=1)\n",
        "accuracy.update_state(np.argmax(preds, axis=1), y_test[0:500])\n",
        "fgsm = accuracy.result()\n",
        "print(\"%s Accuracy: \"%(inference), accuracy.result())\n",
        "\n",
        "accuracy = tf.keras.metrics.Accuracy()\n",
        "adv = analyzers.PGD(model, X_test[0:500], eps=0.1, loss_fn=loss, num_models=10)\n",
        "preds = model.predict(adv) #np.argmax(model.predict(np.asarray(adv)), axis=1)\n",
        "accuracy.update_state(np.argmax(preds, axis=1), y_test[0:500])\n",
        "fgsm = accuracy.result()\n",
        "print(\"FGSM Robustness: \", accuracy.result())\n",
        "\n",
        "accuracy = tf.keras.metrics.Accuracy()\n",
        "preds = analyzers.chernoff_bound_verification(model, X_test[0:100], 0.1, y_test[0:100], confidence=0.80)\n",
        "#print(preds.shape)\n",
        "#print(np.argmax(preds, axis=1).shape)\n",
        "accuracy.update_state(np.argmax(preds, axis=1), y_test[0:100])\n",
        "print(\"Chernoff Lower Bound (IBP): \",  accuracy.result())\n",
        "\n",
        "\"\"\"\n",
        "p = 0\n",
        "for i in trange(100, desc=\"Computing FGSM Robustness\"):\n",
        "    this_p = analyzers.massart_bound_check(model, np.asarray([X_test[i]]), 0.075, y_test[i])\n",
        "    print(this_p)\n",
        "    p += this_p\n",
        "print(\"Massart Lower Bound (IBP): \", p/100.0)\n",
        "\"\"\"\n"
      ],
      "execution_count": 10,
      "outputs": [
        {
          "output_type": "stream",
          "name": "stdout",
          "text": [
            "HMC Accuracy:  tf.Tensor(0.918, shape=(), dtype=float32)\n",
            "FGSM Robustness:  tf.Tensor(0.768, shape=(), dtype=float32)\n"
          ]
        },
        {
          "output_type": "stream",
          "name": "stderr",
          "text": [
            "Sampling for Chernoff Bound Satisfaction: 100%|██████████| 24/24 [00:00<00:00, 54.24it/s]"
          ]
        },
        {
          "output_type": "stream",
          "name": "stdout",
          "text": [
            "Chernoff Lower Bound (IBP):  tf.Tensor(0.0, shape=(), dtype=float32)\n"
          ]
        },
        {
          "output_type": "stream",
          "name": "stderr",
          "text": [
            "\n"
          ]
        },
        {
          "output_type": "execute_result",
          "data": {
            "application/vnd.google.colaboratory.intrinsic+json": {
              "type": "string"
            },
            "text/plain": [
              "'\\np = 0\\nfor i in trange(100, desc=\"Computing FGSM Robustness\"):\\n    this_p = analyzers.massart_bound_check(model, np.asarray([X_test[i]]), 0.075, y_test[i])\\n    print(this_p)\\n    p += this_p\\nprint(\"Massart Lower Bound (IBP): \", p/100.0)\\n'"
            ]
          },
          "metadata": {},
          "execution_count": 10
        }
      ]
    },
    {
      "cell_type": "code",
      "metadata": {
        "id": "aCY7sYQV3y4i"
      },
      "source": [
        ""
      ],
      "execution_count": null,
      "outputs": []
    }
  ]
}