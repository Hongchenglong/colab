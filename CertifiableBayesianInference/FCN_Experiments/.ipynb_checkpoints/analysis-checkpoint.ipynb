{
 "cells": [
  {
   "cell_type": "markdown",
   "metadata": {
    "colab_type": "text",
    "id": "view-in-github"
   },
   "source": [
    "<a href=\"https://colab.research.google.com/github/Hongchenglong/colab/blob/main/CertifiableBayesianInference/FCN_Experiments/analysis.ipynb\" target=\"_parent\"><img src=\"https://colab.research.google.com/assets/colab-badge.svg\" alt=\"Open In Colab\"/></a>"
   ]
  },
  {
   "cell_type": "code",
   "execution_count": 1,
   "metadata": {
    "colab": {
     "base_uri": "https://localhost:8080/"
    },
    "id": "6TGbK9oIw9gl",
    "outputId": "808a16e4-001f-4a59-faac-393a160243a8"
   },
   "outputs": [
    {
     "name": "stdout",
     "output_type": "stream",
     "text": [
      "Mounted at /content/drive\n"
     ]
    }
   ],
   "source": [
    "from google.colab import drive\n",
    "drive.mount('/content/drive')"
   ]
  },
  {
   "cell_type": "code",
   "execution_count": 2,
   "metadata": {
    "id": "G_zNvxljPoFO"
   },
   "outputs": [],
   "source": [
    "import sys, os\n",
    "from pathlib import Path\n",
    "path = Path(os.getcwd())\n",
    "sys.path.append(str(path.parent))\n",
    "sys.path.append('/content/drive/MyDrive/ColabNotebooks/CertifiableBayesianInference')\n",
    "experiment = '/content/drive/MyDrive/ColabNotebooks/CertifiableBayesianInference/FCN_Experiments/'"
   ]
  },
  {
   "cell_type": "code",
   "execution_count": 8,
   "metadata": {
    "id": "SFu_d8cP3aa5"
   },
   "outputs": [],
   "source": [
    "# python3 MNIST_runner.py --eps 0.11 --lam 0.25 --rob 0 --opt HMC --gpu 0 &\n",
    "# python3 MNIST_runner.py --eps 0.11 --lam 0.25 --rob 2 --opt HMC --gpu 1 &\n",
    "\n",
    "dict = {'eps': 0.11, 'lam': 0.25, 'rob': 0, 'opt': 'HMC', 'gpu': '0'}\n",
    "\n",
    "rob = dict['rob']\n",
    "opt = dict['opt']\n",
    "inference = opt"
   ]
  },
  {
   "cell_type": "code",
   "execution_count": 9,
   "metadata": {
    "colab": {
     "base_uri": "https://localhost:8080/"
    },
    "id": "hN6AkNue3sR7",
    "outputId": "5bd7f9d7-7e1e-4528-d406-24b015cd5440"
   },
   "outputs": [
    {
     "name": "stdout",
     "output_type": "stream",
     "text": [
      "[INFO] BayesKeras: Attempting to load a sample based posterior\n",
      "WARNING:tensorflow:No training configuration found in the save file, so the model was *not* compiled. Compile it manually.\n",
      "Model: \"sequential_3\"\n",
      "_________________________________________________________________\n",
      " Layer (type)                Output Shape              Param #   \n",
      "=================================================================\n",
      " dense_6 (Dense)             (None, None, None, 512)   401920    \n",
      "                                                                 \n",
      " dense_7 (Dense)             (None, None, None, 10)    5130      \n",
      "                                                                 \n",
      "=================================================================\n",
      "Total params: 407,050\n",
      "Trainable params: 407,050\n",
      "Non-trainable params: 0\n",
      "_________________________________________________________________\n",
      "BayesKeras detected the above model \n",
      " None\n"
     ]
    }
   ],
   "source": [
    "import BayesKeras\n",
    "from BayesKeras import PosteriorModel\n",
    "from BayesKeras import analyzers\n",
    "\n",
    "import tensorflow as tf\n",
    "from tensorflow.keras.models import *\n",
    "from tensorflow.keras.layers import *\n",
    "os.environ['CUDA_VISIBLE_DEVICES'] = '-1'\n",
    "\n",
    "import numpy as np\n",
    "\n",
    "(X_train, y_train), (X_test, y_test) = tf.keras.datasets.mnist.load_data()\n",
    "X_train = X_train/255.\n",
    "X_test = X_test/255.\n",
    "X_train = X_train.astype(\"float32\").reshape(-1, 28*28)\n",
    "X_test = X_test.astype(\"float32\").reshape(-1, 28*28)\n",
    "\n",
    "\n",
    "model = PosteriorModel(experiment + \"%s_FCN_Posterior_%s\"%(inference, rob))"
   ]
  },
  {
   "cell_type": "code",
   "execution_count": 10,
   "metadata": {
    "colab": {
     "base_uri": "https://localhost:8080/",
     "height": 122
    },
    "id": "NmkAoIy0tMTb",
    "outputId": "498e3e6c-e75d-46c9-f89f-92b50b7ec0bc"
   },
   "outputs": [
    {
     "name": "stdout",
     "output_type": "stream",
     "text": [
      "HMC Accuracy:  tf.Tensor(0.918, shape=(), dtype=float32)\n",
      "FGSM Robustness:  tf.Tensor(0.768, shape=(), dtype=float32)\n"
     ]
    },
    {
     "name": "stderr",
     "output_type": "stream",
     "text": [
      "Sampling for Chernoff Bound Satisfaction: 100%|██████████| 24/24 [00:00<00:00, 54.24it/s]"
     ]
    },
    {
     "name": "stdout",
     "output_type": "stream",
     "text": [
      "Chernoff Lower Bound (IBP):  tf.Tensor(0.0, shape=(), dtype=float32)\n"
     ]
    },
    {
     "name": "stderr",
     "output_type": "stream",
     "text": [
      "\n"
     ]
    },
    {
     "data": {
      "application/vnd.google.colaboratory.intrinsic+json": {
       "type": "string"
      },
      "text/plain": [
       "'\\np = 0\\nfor i in trange(100, desc=\"Computing FGSM Robustness\"):\\n    this_p = analyzers.massart_bound_check(model, np.asarray([X_test[i]]), 0.075, y_test[i])\\n    print(this_p)\\n    p += this_p\\nprint(\"Massart Lower Bound (IBP): \", p/100.0)\\n'"
      ]
     },
     "execution_count": 10,
     "metadata": {},
     "output_type": "execute_result"
    }
   ],
   "source": [
    "\n",
    "from tqdm import trange\n",
    "\n",
    "loss = tf.keras.losses.SparseCategoricalCrossentropy()\n",
    "\n",
    "num_images = 500\n",
    "\n",
    "accuracy = tf.keras.metrics.Accuracy()\n",
    "preds = model.predict(X_test[0:500]) #np.argmax(model.predict(np.asarray(adv)), axis=1)\n",
    "accuracy.update_state(np.argmax(preds, axis=1), y_test[0:500])\n",
    "fgsm = accuracy.result()\n",
    "print(\"%s Accuracy: \"%(inference), accuracy.result())\n",
    "\n",
    "accuracy = tf.keras.metrics.Accuracy()\n",
    "adv = analyzers.PGD(model, X_test[0:500], eps=0.1, loss_fn=loss, num_models=10)\n",
    "preds = model.predict(adv) #np.argmax(model.predict(np.asarray(adv)), axis=1)\n",
    "accuracy.update_state(np.argmax(preds, axis=1), y_test[0:500])\n",
    "fgsm = accuracy.result()\n",
    "print(\"FGSM Robustness: \", accuracy.result())\n",
    "\n",
    "accuracy = tf.keras.metrics.Accuracy()\n",
    "preds = analyzers.chernoff_bound_verification(model, X_test[0:100], 0.1, y_test[0:100], confidence=0.80)\n",
    "#print(preds.shape)\n",
    "#print(np.argmax(preds, axis=1).shape)\n",
    "accuracy.update_state(np.argmax(preds, axis=1), y_test[0:100])\n",
    "print(\"Chernoff Lower Bound (IBP): \",  accuracy.result())\n",
    "\n",
    "\"\"\"\n",
    "p = 0\n",
    "for i in trange(100, desc=\"Computing FGSM Robustness\"):\n",
    "    this_p = analyzers.massart_bound_check(model, np.asarray([X_test[i]]), 0.075, y_test[i])\n",
    "    print(this_p)\n",
    "    p += this_p\n",
    "print(\"Massart Lower Bound (IBP): \", p/100.0)\n",
    "\"\"\"\n"
   ]
  },
  {
   "cell_type": "code",
   "execution_count": null,
   "metadata": {
    "id": "aCY7sYQV3y4i"
   },
   "outputs": [],
   "source": []
  }
 ],
 "metadata": {
  "colab": {
   "include_colab_link": true,
   "name": "analysis.ipynb",
   "provenance": []
  },
  "kernelspec": {
   "display_name": "Python3",
   "language": "python",
   "name": "python3"
  },
  "language_info": {
   "codemirror_mode": {
    "name": "ipython",
    "version": 3
   },
   "file_extension": ".py",
   "mimetype": "text/x-python",
   "name": "python",
   "nbconvert_exporter": "python",
   "pygments_lexer": "ipython3",
   "version": "3.7.6"
  },
  "toc": {
   "base_numbering": 1,
   "nav_menu": {},
   "number_sections": true,
   "sideBar": true,
   "skip_h1_title": false,
   "title_cell": "Table of Contents",
   "title_sidebar": "Contents",
   "toc_cell": false,
   "toc_position": {},
   "toc_section_display": true,
   "toc_window_display": false
  },
  "varInspector": {
   "cols": {
    "lenName": 16,
    "lenType": 16,
    "lenVar": 40
   },
   "kernels_config": {
    "python": {
     "delete_cmd_postfix": "",
     "delete_cmd_prefix": "del ",
     "library": "var_list.py",
     "varRefreshCmd": "print(var_dic_list())"
    },
    "r": {
     "delete_cmd_postfix": ") ",
     "delete_cmd_prefix": "rm(",
     "library": "var_list.r",
     "varRefreshCmd": "cat(var_dic_list()) "
    }
   },
   "types_to_exclude": [
    "module",
    "function",
    "builtin_function_or_method",
    "instance",
    "_Feature"
   ],
   "window_display": false
  }
 },
 "nbformat": 4,
 "nbformat_minor": 1
}
